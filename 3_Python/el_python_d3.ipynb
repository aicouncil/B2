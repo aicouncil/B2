{
 "cells": [
  {
   "cell_type": "markdown",
   "id": "acedee1c-7678-4e19-bc2f-1818b4df1ca0",
   "metadata": {},
   "source": [
    "**Dictionary**\n",
    "\n",
    "    * store the iformation as key value pair"
   ]
  },
  {
   "cell_type": "code",
   "execution_count": 9,
   "id": "38ff7449-c717-413a-aa56-37157a5878ad",
   "metadata": {},
   "outputs": [
    {
     "name": "stdout",
     "output_type": "stream",
     "text": [
      "{'name': 'Arun', 'age': 15, 'subject': 'Physics'}\n",
      "\n",
      "<class 'dict'>\n"
     ]
    }
   ],
   "source": [
    "student = {'name': 'Arun',\n",
    "           'age' : 15,\n",
    "           'subject' : 'Physics'}\n",
    "\n",
    "print(student)\n",
    "print()\n",
    "print(type(student))"
   ]
  },
  {
   "cell_type": "code",
   "execution_count": 8,
   "id": "e36ede33-69f9-4a46-a1da-f2cadc3a82cd",
   "metadata": {},
   "outputs": [
    {
     "name": "stdout",
     "output_type": "stream",
     "text": [
      "dict_keys(['name', 'age', 'subject'])\n",
      "\n",
      "dict_values(['Arun', 15, 'Physics'])\n"
     ]
    }
   ],
   "source": [
    "print(student.keys())\n",
    "print()\n",
    "print(student.values())"
   ]
  },
  {
   "cell_type": "code",
   "execution_count": 6,
   "id": "dc364c12-7a2e-4048-8d2c-ffbdd91d46eb",
   "metadata": {},
   "outputs": [
    {
     "name": "stdout",
     "output_type": "stream",
     "text": [
      "Arun\n",
      "15\n",
      "Physics\n"
     ]
    }
   ],
   "source": [
    "print(student['name'])\n",
    "print(student['age'])\n",
    "print(student['subject'])"
   ]
  },
  {
   "cell_type": "code",
   "execution_count": 10,
   "id": "798643e2-98f5-42ef-ad9e-6fb110a5d212",
   "metadata": {},
   "outputs": [
    {
     "name": "stdout",
     "output_type": "stream",
     "text": [
      "{'name': 'Arun', 'age': 15, 'subject': 'Physics', 'marks': 55.7}\n"
     ]
    }
   ],
   "source": [
    "#add a new key value pair\n",
    "student['marks'] = 55.7\n",
    "print(student)"
   ]
  },
  {
   "cell_type": "code",
   "execution_count": 11,
   "id": "648d2642-97f6-4995-a196-e47f5f2e250a",
   "metadata": {},
   "outputs": [
    {
     "name": "stdout",
     "output_type": "stream",
     "text": [
      "{'name': 'Arun', 'age': 14, 'subject': 'Physics', 'marks': 55.7}\n"
     ]
    }
   ],
   "source": [
    "#update a value for key\n",
    "student['age'] = 14\n",
    "print(student)"
   ]
  },
  {
   "cell_type": "code",
   "execution_count": 13,
   "id": "f66ed6c8-c620-4b3a-91fc-7655b186cf8e",
   "metadata": {},
   "outputs": [
    {
     "name": "stdout",
     "output_type": "stream",
     "text": [
      "{'name': 'Arun', 'subject': 'Physics', 'marks': 55.7}\n"
     ]
    }
   ],
   "source": [
    "#removing a key value\n",
    "student.pop('age')\n",
    "print(student)"
   ]
  },
  {
   "cell_type": "markdown",
   "id": "971a2efc-aa83-4e76-93ec-f604a40acdb6",
   "metadata": {},
   "source": [
    "**Boolean**\n",
    "\n",
    "    * True/False"
   ]
  },
  {
   "cell_type": "code",
   "execution_count": 16,
   "id": "05d1c675-3ad8-45c5-aed1-476aa96644b7",
   "metadata": {},
   "outputs": [
    {
     "name": "stdout",
     "output_type": "stream",
     "text": [
      "True\n",
      "<class 'bool'>\n"
     ]
    }
   ],
   "source": [
    "status = True\n",
    "print(status)\n",
    "print(type(status))"
   ]
  },
  {
   "cell_type": "markdown",
   "id": "a045559a-7ceb-48ce-aa26-bc039fc25930",
   "metadata": {},
   "source": [
    "**sets**\n",
    "\n",
    "    * Unordered data collection of unique values\n",
    "    * not contain any duplicate values"
   ]
  },
  {
   "cell_type": "code",
   "execution_count": 22,
   "id": "ed4f01a9-1129-44e3-bfdb-97b57c56fbbc",
   "metadata": {},
   "outputs": [
    {
     "name": "stdout",
     "output_type": "stream",
     "text": [
      "{'a12', 'b25', 'a13', 'd43', 'c72'}\n",
      "<class 'set'>\n"
     ]
    }
   ],
   "source": [
    "unique_ids = {'a12' , 'a13' , 'b25' , 'c72' , 'd43' , 'a12' , 'a13'}\n",
    "print(unique_ids)\n",
    "print(type(unique_ids))"
   ]
  },
  {
   "cell_type": "code",
   "execution_count": 23,
   "id": "2c742cbc-f855-4810-b7a2-884acc48d6be",
   "metadata": {},
   "outputs": [
    {
     "ename": "TypeError",
     "evalue": "'set' object is not subscriptable",
     "output_type": "error",
     "traceback": [
      "\u001b[31m---------------------------------------------------------------------------\u001b[39m",
      "\u001b[31mTypeError\u001b[39m                                 Traceback (most recent call last)",
      "\u001b[36mCell\u001b[39m\u001b[36m \u001b[39m\u001b[32mIn[23]\u001b[39m\u001b[32m, line 1\u001b[39m\n\u001b[32m----> \u001b[39m\u001b[32m1\u001b[39m \u001b[43munique_ids\u001b[49m\u001b[43m[\u001b[49m\u001b[32;43m0\u001b[39;49m\u001b[43m]\u001b[49m\n",
      "\u001b[31mTypeError\u001b[39m: 'set' object is not subscriptable"
     ]
    }
   ],
   "source": [
    "unique_ids[0]"
   ]
  },
  {
   "cell_type": "code",
   "execution_count": 24,
   "id": "3dbc0a90-11e3-4bc2-b00b-71a1c70b2c34",
   "metadata": {},
   "outputs": [
    {
     "name": "stdout",
     "output_type": "stream",
     "text": [
      "{'a12', 'b25', 'a13', 'd43', 'c72'}\n"
     ]
    }
   ],
   "source": [
    "unique_ids.add('c72')\n",
    "print(unique_ids)"
   ]
  },
  {
   "cell_type": "code",
   "execution_count": 25,
   "id": "bb8505fa-67e9-4b78-bdc1-82e66a63c4d7",
   "metadata": {},
   "outputs": [
    {
     "name": "stdout",
     "output_type": "stream",
     "text": [
      "{'a12', 'b25', 'a13', 'c79', 'd43', 'c72'}\n"
     ]
    }
   ],
   "source": [
    "unique_ids.add('c79')\n",
    "print(unique_ids)"
   ]
  },
  {
   "cell_type": "markdown",
   "id": "01e1a8f7-4857-4c4b-9151-8df71b2c77a3",
   "metadata": {},
   "source": [
    "**Typecasting**"
   ]
  },
  {
   "cell_type": "code",
   "execution_count": 30,
   "id": "02634b4d-6c5b-409c-a3da-07291a3eb3d6",
   "metadata": {},
   "outputs": [
    {
     "name": "stdout",
     "output_type": "stream",
     "text": [
      "56.9\n",
      "\n",
      "113.8\n"
     ]
    }
   ],
   "source": [
    "a = 56.9\n",
    "print(a)\n",
    "print()\n",
    "print(a*2)"
   ]
  },
  {
   "cell_type": "code",
   "execution_count": 28,
   "id": "1cfcd1ea-78fb-4305-b99c-20971aade5b2",
   "metadata": {},
   "outputs": [
    {
     "name": "stdout",
     "output_type": "stream",
     "text": [
      "56\n"
     ]
    }
   ],
   "source": [
    "b = int(a)\n",
    "print(b)"
   ]
  },
  {
   "cell_type": "code",
   "execution_count": 31,
   "id": "83f17539-3a76-410a-86f8-3817ea940a6c",
   "metadata": {},
   "outputs": [
    {
     "name": "stdout",
     "output_type": "stream",
     "text": [
      "56.9\n",
      "\n",
      "56.956.9\n"
     ]
    }
   ],
   "source": [
    "c = str(a)\n",
    "print(c)\n",
    "print()\n",
    "print(c*2)"
   ]
  },
  {
   "cell_type": "code",
   "execution_count": 34,
   "id": "601f3811-d82f-45dc-b5dd-9145acad3ed3",
   "metadata": {},
   "outputs": [
    {
     "name": "stdout",
     "output_type": "stream",
     "text": [
      "[56]\n"
     ]
    }
   ],
   "source": [
    "d = list([b])\n",
    "print(d)"
   ]
  },
  {
   "cell_type": "code",
   "execution_count": 35,
   "id": "dacb822a-29dd-40e5-8bd0-aa066c5b64a6",
   "metadata": {},
   "outputs": [
    {
     "name": "stdout",
     "output_type": "stream",
     "text": [
      "[6, 8, 9, 3, 2, 6, 3, 2]\n"
     ]
    }
   ],
   "source": [
    "e = [6,8,9,3,2,6,3,2]\n",
    "print(e)"
   ]
  },
  {
   "cell_type": "code",
   "execution_count": 37,
   "id": "28a2ecae-ecf6-4837-80cb-51a34f784dd1",
   "metadata": {},
   "outputs": [
    {
     "name": "stdout",
     "output_type": "stream",
     "text": [
      "[6, 9, 9, 3, 2, 6, 3, 2]\n"
     ]
    }
   ],
   "source": [
    "e[1] = 9\n",
    "print(e)"
   ]
  },
  {
   "cell_type": "code",
   "execution_count": 38,
   "id": "5c21b5d6-199b-4656-bfe9-a83af11c4400",
   "metadata": {},
   "outputs": [
    {
     "name": "stdout",
     "output_type": "stream",
     "text": [
      "[6, 9, 9, 3, 2, 6, 3, 2, 1]\n"
     ]
    }
   ],
   "source": [
    "e.append(1)\n",
    "print(e)"
   ]
  },
  {
   "cell_type": "code",
   "execution_count": 39,
   "id": "d873e7be-51f5-4add-b149-d9020321081a",
   "metadata": {},
   "outputs": [
    {
     "name": "stdout",
     "output_type": "stream",
     "text": [
      "[9, 9, 3, 2, 6, 3, 2, 1]\n"
     ]
    }
   ],
   "source": [
    "e.remove(6)\n",
    "print(e)"
   ]
  },
  {
   "cell_type": "code",
   "execution_count": 40,
   "id": "e0cc3d91-36dc-42a0-943f-798c044a4b94",
   "metadata": {},
   "outputs": [
    {
     "name": "stdout",
     "output_type": "stream",
     "text": [
      "(9, 9, 3, 2, 6, 3, 2, 1)\n"
     ]
    }
   ],
   "source": [
    "f = tuple(e)\n",
    "print(f)"
   ]
  },
  {
   "cell_type": "code",
   "execution_count": 41,
   "id": "4397ceb2-d9dd-47d2-a9f1-6735bf54a0c4",
   "metadata": {},
   "outputs": [
    {
     "ename": "TypeError",
     "evalue": "'tuple' object does not support item assignment",
     "output_type": "error",
     "traceback": [
      "\u001b[31m---------------------------------------------------------------------------\u001b[39m",
      "\u001b[31mTypeError\u001b[39m                                 Traceback (most recent call last)",
      "\u001b[36mCell\u001b[39m\u001b[36m \u001b[39m\u001b[32mIn[41]\u001b[39m\u001b[32m, line 1\u001b[39m\n\u001b[32m----> \u001b[39m\u001b[32m1\u001b[39m \u001b[43mf\u001b[49m\u001b[43m[\u001b[49m\u001b[32;43m0\u001b[39;49m\u001b[43m]\u001b[49m = \u001b[32m21\u001b[39m\n",
      "\u001b[31mTypeError\u001b[39m: 'tuple' object does not support item assignment"
     ]
    }
   ],
   "source": [
    "f[0] = 21"
   ]
  },
  {
   "cell_type": "code",
   "execution_count": 42,
   "id": "7d1c9faf-513a-4cbc-9572-8c4dea813918",
   "metadata": {},
   "outputs": [
    {
     "name": "stdout",
     "output_type": "stream",
     "text": [
      "{1, 2, 3, 6, 9}\n"
     ]
    }
   ],
   "source": [
    "g = set(e)      #converting list into set and storing into variable g\n",
    "print(g)"
   ]
  },
  {
   "cell_type": "code",
   "execution_count": 44,
   "id": "94395fda-dff9-4cb5-9581-8535f29fd2b6",
   "metadata": {},
   "outputs": [
    {
     "ename": "TypeError",
     "evalue": "'set' object is not subscriptable",
     "output_type": "error",
     "traceback": [
      "\u001b[31m---------------------------------------------------------------------------\u001b[39m",
      "\u001b[31mTypeError\u001b[39m                                 Traceback (most recent call last)",
      "\u001b[36mCell\u001b[39m\u001b[36m \u001b[39m\u001b[32mIn[44]\u001b[39m\u001b[32m, line 1\u001b[39m\n\u001b[32m----> \u001b[39m\u001b[32m1\u001b[39m \u001b[43mg\u001b[49m\u001b[43m[\u001b[49m\u001b[32;43m0\u001b[39;49m\u001b[43m]\u001b[49m\n",
      "\u001b[31mTypeError\u001b[39m: 'set' object is not subscriptable"
     ]
    }
   ],
   "source": [
    "g[0]"
   ]
  },
  {
   "cell_type": "code",
   "execution_count": 43,
   "id": "568ab4e2-ba2d-4702-9514-5cfe6112b97d",
   "metadata": {},
   "outputs": [
    {
     "name": "stdout",
     "output_type": "stream",
     "text": [
      "{1, 2, 3, 6, 9}\n"
     ]
    }
   ],
   "source": [
    "h = set(f)        #converting tuple into set and storing into variable h\n",
    "print(h)"
   ]
  },
  {
   "cell_type": "code",
   "execution_count": 47,
   "id": "f30c9e06-3673-407a-b356-c25a3ab2f066",
   "metadata": {},
   "outputs": [
    {
     "name": "stdout",
     "output_type": "stream",
     "text": [
      "{1, 2, 3, 6, 9}\n",
      "<class 'set'>\n"
     ]
    }
   ],
   "source": [
    "print(h)\n",
    "print(type(h))"
   ]
  },
  {
   "cell_type": "code",
   "execution_count": 50,
   "id": "ef18ea21-0d69-47cf-8afc-9079b805b9cb",
   "metadata": {},
   "outputs": [
    {
     "name": "stdout",
     "output_type": "stream",
     "text": [
      "[1, 2, 3, 6, 9]\n",
      "(1, 2, 3, 6, 9)\n"
     ]
    },
    {
     "ename": "TypeError",
     "evalue": "cannot convert dictionary update sequence element #0 to a sequence",
     "output_type": "error",
     "traceback": [
      "\u001b[31m---------------------------------------------------------------------------\u001b[39m",
      "\u001b[31mTypeError\u001b[39m                                 Traceback (most recent call last)",
      "\u001b[36mCell\u001b[39m\u001b[36m \u001b[39m\u001b[32mIn[50]\u001b[39m\u001b[32m, line 3\u001b[39m\n\u001b[32m      1\u001b[39m \u001b[38;5;28mprint\u001b[39m(\u001b[38;5;28mlist\u001b[39m(h))\n\u001b[32m      2\u001b[39m \u001b[38;5;28mprint\u001b[39m(\u001b[38;5;28mtuple\u001b[39m(h))\n\u001b[32m----> \u001b[39m\u001b[32m3\u001b[39m \u001b[38;5;28mprint\u001b[39m(\u001b[38;5;28;43mdict\u001b[39;49m\u001b[43m(\u001b[49m\u001b[43mh\u001b[49m\u001b[43m)\u001b[49m)\n",
      "\u001b[31mTypeError\u001b[39m: cannot convert dictionary update sequence element #0 to a sequence"
     ]
    }
   ],
   "source": [
    "print(list(h))\n",
    "print(tuple(h))\n",
    "print(dict(h))"
   ]
  },
  {
   "cell_type": "markdown",
   "id": "a97c52ab-1814-4a96-983a-28dcda618fa8",
   "metadata": {},
   "source": [
    "**Operators in Python**\n",
    "\n",
    "    * to operate between two variables\n",
    "    * Arthemetic operators\n",
    "    * Assignment Operators\n",
    "    * Comparasion operators\n",
    "    * Logical operators\n",
    "    * Membership operators"
   ]
  },
  {
   "cell_type": "markdown",
   "id": "51b2878e-9cfb-41ce-9e95-873d299727a7",
   "metadata": {},
   "source": [
    "**Arthemetic operators**"
   ]
  },
  {
   "cell_type": "code",
   "execution_count": 52,
   "id": "da2a5165-1f2d-4e40-808f-8895b2fa7c00",
   "metadata": {},
   "outputs": [
    {
     "name": "stdout",
     "output_type": "stream",
     "text": [
      "22\n",
      "12\n",
      "85\n",
      "3.4\n",
      "1419857\n",
      "3\n",
      "2\n"
     ]
    }
   ],
   "source": [
    "a = 17\n",
    "b = 5\n",
    "\n",
    "print(a + b)\n",
    "print(a - b)\n",
    "print(a * b)\n",
    "print(a / b)\n",
    "print(a ** b)       #exponential\n",
    "print(a // b)       #floor division\n",
    "print(a % b)         #modulus operator"
   ]
  },
  {
   "cell_type": "markdown",
   "id": "3ee2036e-8420-470d-8186-f4600fa5006e",
   "metadata": {},
   "source": [
    "**Assignmnet Operator**"
   ]
  },
  {
   "cell_type": "code",
   "execution_count": 53,
   "id": "9f98dd16-8e7f-47a9-b26e-fe69c78e2fef",
   "metadata": {},
   "outputs": [],
   "source": [
    "x = 10"
   ]
  },
  {
   "cell_type": "code",
   "execution_count": 54,
   "id": "0796e4fe-8a50-4699-81a1-4e00f54e51de",
   "metadata": {},
   "outputs": [
    {
     "name": "stdout",
     "output_type": "stream",
     "text": [
      "12\n"
     ]
    }
   ],
   "source": [
    "x += 2\n",
    "print(x)"
   ]
  },
  {
   "cell_type": "code",
   "execution_count": 55,
   "id": "cb68d47d-0f5e-4603-8d93-14ba553927b8",
   "metadata": {},
   "outputs": [
    {
     "name": "stdout",
     "output_type": "stream",
     "text": [
      "9\n"
     ]
    }
   ],
   "source": [
    "x -= 3\n",
    "print(x)"
   ]
  },
  {
   "cell_type": "code",
   "execution_count": 56,
   "id": "84519a9f-5626-4943-9cb1-8b780881638d",
   "metadata": {},
   "outputs": [
    {
     "name": "stdout",
     "output_type": "stream",
     "text": [
      "36\n"
     ]
    }
   ],
   "source": [
    "x *= 4\n",
    "print(x)"
   ]
  },
  {
   "cell_type": "code",
   "execution_count": 57,
   "id": "70cbe087-f6de-421c-816a-a93f45fd78ba",
   "metadata": {},
   "outputs": [
    {
     "name": "stdout",
     "output_type": "stream",
     "text": [
      "7.2\n"
     ]
    }
   ],
   "source": [
    "x /= 5\n",
    "print(x)"
   ]
  },
  {
   "cell_type": "code",
   "execution_count": 58,
   "id": "b713e76a-4344-403f-9976-486d6a3d4edf",
   "metadata": {},
   "outputs": [
    {
     "name": "stdout",
     "output_type": "stream",
     "text": [
      "51.84\n"
     ]
    }
   ],
   "source": [
    "x **= 2\n",
    "print(x)"
   ]
  },
  {
   "cell_type": "code",
   "execution_count": 59,
   "id": "e27ecfb7-5858-4fcc-8067-a3155e4561f4",
   "metadata": {},
   "outputs": [
    {
     "name": "stdout",
     "output_type": "stream",
     "text": [
      "17.0\n"
     ]
    }
   ],
   "source": [
    "x //= 3\n",
    "print(x)"
   ]
  },
  {
   "cell_type": "code",
   "execution_count": 60,
   "id": "ab47c2e1-e944-47b0-9851-a4c658245fd1",
   "metadata": {},
   "outputs": [
    {
     "name": "stdout",
     "output_type": "stream",
     "text": [
      "2.0\n"
     ]
    }
   ],
   "source": [
    "x %= 5\n",
    "print(x)"
   ]
  },
  {
   "cell_type": "markdown",
   "id": "0203368c-2a2d-4b54-89da-04cf9f1a3faf",
   "metadata": {},
   "source": [
    "**Comparasion operator**"
   ]
  },
  {
   "cell_type": "code",
   "execution_count": 61,
   "id": "55d40460-5f4a-4373-8fc4-04af9b651dc8",
   "metadata": {},
   "outputs": [],
   "source": [
    "age = 18"
   ]
  },
  {
   "cell_type": "code",
   "execution_count": 65,
   "id": "927cd442-860b-48f0-9f41-59042055704a",
   "metadata": {},
   "outputs": [
    {
     "name": "stdout",
     "output_type": "stream",
     "text": [
      "True\n",
      "True\n",
      "False\n",
      "True\n",
      "False\n",
      "False\n"
     ]
    }
   ],
   "source": [
    "print(age == 18)\n",
    "print(age > 10)\n",
    "print(age < 15)\n",
    "print(age >= 17)\n",
    "print(age <= 17)\n",
    "print(age != 18)"
   ]
  },
  {
   "cell_type": "markdown",
   "id": "d46e0cf8-a77d-43a6-b3f1-fc8c3aeba002",
   "metadata": {},
   "source": [
    "**Logical**"
   ]
  },
  {
   "cell_type": "code",
   "execution_count": 71,
   "id": "3ff5fdd6-84fa-465c-b7ac-a4816275ecdb",
   "metadata": {},
   "outputs": [
    {
     "name": "stdout",
     "output_type": "stream",
     "text": [
      "True\n",
      "False\n",
      "False\n",
      "False\n"
     ]
    }
   ],
   "source": [
    "print(True and True)\n",
    "print(True and False)\n",
    "print(False and True)\n",
    "print(False and False)"
   ]
  },
  {
   "cell_type": "code",
   "execution_count": 66,
   "id": "c548fb1a-24db-48c0-a52b-100f62c05e97",
   "metadata": {},
   "outputs": [],
   "source": [
    "age  = 20\n",
    "weight = 55"
   ]
  },
  {
   "cell_type": "code",
   "execution_count": 72,
   "id": "5a434c6c-87a0-489e-ada7-6ed2d056b433",
   "metadata": {},
   "outputs": [
    {
     "name": "stdout",
     "output_type": "stream",
     "text": [
      "True\n",
      "False\n",
      "False\n",
      "False\n"
     ]
    }
   ],
   "source": [
    "print(age > 18 and weight > 50)\n",
    "print(age > 18 and weight < 50)\n",
    "print(age < 18 and weight > 50)\n",
    "print(age < 18 and weight < 50)"
   ]
  },
  {
   "cell_type": "code",
   "execution_count": 73,
   "id": "4e998f7c-d165-4bb2-8110-73c788fbbee2",
   "metadata": {},
   "outputs": [
    {
     "name": "stdout",
     "output_type": "stream",
     "text": [
      "True\n",
      "True\n",
      "True\n",
      "False\n"
     ]
    }
   ],
   "source": [
    "print(True or True)\n",
    "print(True or False)\n",
    "print(False or True)\n",
    "print(False or False)"
   ]
  },
  {
   "cell_type": "code",
   "execution_count": 74,
   "id": "09425d93-31cc-43ca-afa5-b1cb729dc1b2",
   "metadata": {},
   "outputs": [
    {
     "name": "stdout",
     "output_type": "stream",
     "text": [
      "True\n",
      "True\n",
      "True\n",
      "False\n"
     ]
    }
   ],
   "source": [
    "print(age > 18 or weight > 50)\n",
    "print(age > 18 or weight < 50)\n",
    "print(age < 18 or weight > 50)\n",
    "print(age < 18 or weight < 50)"
   ]
  },
  {
   "cell_type": "code",
   "execution_count": 75,
   "id": "b9a9eb6f-acfc-4d01-8617-38fa1df37c8f",
   "metadata": {},
   "outputs": [
    {
     "name": "stdout",
     "output_type": "stream",
     "text": [
      "False\n"
     ]
    }
   ],
   "source": [
    "print(not(True))"
   ]
  },
  {
   "cell_type": "code",
   "execution_count": 76,
   "id": "21131809-b821-4f68-b08e-269b501ba43f",
   "metadata": {},
   "outputs": [
    {
     "name": "stdout",
     "output_type": "stream",
     "text": [
      "True\n"
     ]
    }
   ],
   "source": [
    "print(not(False))"
   ]
  },
  {
   "cell_type": "markdown",
   "id": "eacebdb0-a004-4cd7-b1c1-5b6a4f3a9aab",
   "metadata": {},
   "source": [
    "**Membership operators**"
   ]
  },
  {
   "cell_type": "code",
   "execution_count": 78,
   "id": "bfa69d61-2d74-4c7b-887e-1c05538dd298",
   "metadata": {},
   "outputs": [
    {
     "name": "stdout",
     "output_type": "stream",
     "text": [
      "True\n",
      "False\n"
     ]
    }
   ],
   "source": [
    "name = \"Pavan\"\n",
    "print('P' in name)\n",
    "print('X' in name)"
   ]
  },
  {
   "cell_type": "code",
   "execution_count": 81,
   "id": "506ae874-f452-438d-b82d-167bb0406cb2",
   "metadata": {},
   "outputs": [
    {
     "name": "stdout",
     "output_type": "stream",
     "text": [
      "True\n",
      "False\n"
     ]
    }
   ],
   "source": [
    "names = [\"Pavan\" , \"Ajay\" , \"Amar\" , \"Sanjay\" , \"Vijay\"]\n",
    "\n",
    "print(\"Ajay\" in names)\n",
    "print(\"Bipul\" in names)"
   ]
  },
  {
   "cell_type": "code",
   "execution_count": 82,
   "id": "145e7bc3-9eba-4f45-872a-8084be897b97",
   "metadata": {},
   "outputs": [
    {
     "name": "stdout",
     "output_type": "stream",
     "text": [
      "False\n",
      "True\n"
     ]
    }
   ],
   "source": [
    "print(\"Ajay\" not in names)\n",
    "print(\"Bipul\" not in names)"
   ]
  },
  {
   "cell_type": "markdown",
   "id": "5c55ed0d-426c-4011-baa6-53c03d03f989",
   "metadata": {},
   "source": [
    "****\n",
    "****\n",
    "**Conditional Programming**\n",
    "****\n",
    "****"
   ]
  },
  {
   "cell_type": "markdown",
   "id": "b67fb0c6-154c-4976-8df9-4056789bc5b9",
   "metadata": {},
   "source": [
    "**if**"
   ]
  },
  {
   "cell_type": "code",
   "execution_count": 92,
   "id": "a2391dc9-7575-49b5-b3be-a843b1075fed",
   "metadata": {},
   "outputs": [
    {
     "name": "stdout",
     "output_type": "stream",
     "text": [
      "You are eligible to vote\n"
     ]
    }
   ],
   "source": [
    "age = 25\n",
    "\n",
    "if age >= 18:\n",
    "    print(\"You are eligible to vote\")"
   ]
  },
  {
   "cell_type": "markdown",
   "id": "f6619cb7-b1f9-4bab-b755-ddd8e8aeb611",
   "metadata": {},
   "source": [
    "**if-else**"
   ]
  },
  {
   "cell_type": "code",
   "execution_count": 94,
   "id": "03062d96-64e7-431a-b88c-e63b22e92d11",
   "metadata": {},
   "outputs": [
    {
     "name": "stdout",
     "output_type": "stream",
     "text": [
      "You are not eligible to vote\n"
     ]
    }
   ],
   "source": [
    "age = 15\n",
    "\n",
    "if age >= 18:\n",
    "    print(\"You are eligible to vote\")\n",
    "else:\n",
    "    print(\"You are not eligible to vote\")"
   ]
  },
  {
   "cell_type": "code",
   "execution_count": 99,
   "id": "4be7d95d-5d00-41cc-aae2-063260020b91",
   "metadata": {},
   "outputs": [
    {
     "name": "stdin",
     "output_type": "stream",
     "text": [
      "Enter your age 17\n"
     ]
    },
    {
     "name": "stdout",
     "output_type": "stream",
     "text": [
      "<class 'int'>\n"
     ]
    }
   ],
   "source": [
    "age = int(input(\"Enter your age\"))\n",
    "print(type(age))\n",
    "#print(age >= 18)"
   ]
  },
  {
   "cell_type": "code",
   "execution_count": 103,
   "id": "7bc40a2e-4260-4a4d-a891-f4e0891d3d68",
   "metadata": {},
   "outputs": [
    {
     "name": "stdin",
     "output_type": "stream",
     "text": [
      "Enter your age 12\n"
     ]
    },
    {
     "name": "stdout",
     "output_type": "stream",
     "text": [
      "You are not eligible to vote\n"
     ]
    }
   ],
   "source": [
    "age = int(input(\"Enter your age\"))\n",
    "\n",
    "if (age >= 18):\n",
    "    print(\"You are eligible to vote\")\n",
    "else:\n",
    "    print(\"You are not eligible to vote\")"
   ]
  },
  {
   "cell_type": "code",
   "execution_count": 106,
   "id": "5b1f4647-11f3-4cb6-aede-ebab9500ac6e",
   "metadata": {},
   "outputs": [
    {
     "name": "stdin",
     "output_type": "stream",
     "text": [
      "Enter user id admin\n",
      "Enter password asdfghj\n"
     ]
    },
    {
     "name": "stdout",
     "output_type": "stream",
     "text": [
      "True\n",
      "False\n"
     ]
    }
   ],
   "source": [
    "#simulate login activity\n",
    "\n",
    "user_name = input(\"Enter user id\")\n",
    "user_password = input(\"Enter password\")\n",
    "\n",
    "print(user_name == 'admin')\n",
    "print(user_password == 'password')"
   ]
  },
  {
   "cell_type": "code",
   "execution_count": 110,
   "id": "a7d5d748-d2b2-49b7-bf17-a2c5add7083e",
   "metadata": {},
   "outputs": [
    {
     "name": "stdin",
     "output_type": "stream",
     "text": [
      "Enter user id admin\n",
      "Enter password password\n"
     ]
    },
    {
     "name": "stdout",
     "output_type": "stream",
     "text": [
      "Login success\n"
     ]
    }
   ],
   "source": [
    "#compare user_name with 'admin' and password with 'password' => if it is true then print => \"login success\"\n",
    "#if it is not true print => 'Login failed'\n",
    "\n",
    "user_name = input(\"Enter user id\")\n",
    "user_password = input(\"Enter password\")\n",
    "\n",
    "if (user_name == 'admin' and user_password == 'password'):\n",
    "    print(\"Login success\")\n",
    "else:\n",
    "    print(\"Login failed\")"
   ]
  },
  {
   "cell_type": "markdown",
   "id": "69e4ef49-83d7-4318-b0ec-d2f2ad838c7b",
   "metadata": {},
   "source": [
    "**if-elif-else**"
   ]
  },
  {
   "cell_type": "code",
   "execution_count": 113,
   "id": "6042f5d7-dbac-4b6b-9795-5ac4563f13a9",
   "metadata": {},
   "outputs": [
    {
     "name": "stdin",
     "output_type": "stream",
     "text": [
      "Enter your marks 65\n"
     ]
    },
    {
     "name": "stdout",
     "output_type": "stream",
     "text": [
      "Grade B\n"
     ]
    }
   ],
   "source": [
    "marks = int(input(\"Enter your marks\"))\n",
    "\n",
    "if marks > 90:\n",
    "    print(\"Grade A+\")\n",
    "elif marks > 80:\n",
    "    print(\"Grade A\")\n",
    "elif marks > 70:\n",
    "    print(\"Grade B+\")\n",
    "elif marks > 60:\n",
    "    print(\"Grade B\")\n",
    "elif marks > 50:\n",
    "    print(\"Grade C+\")\n",
    "elif marks > 40:\n",
    "    print(\"Grade C\")\n",
    "else:\n",
    "    print(\"Failed\")"
   ]
  },
  {
   "cell_type": "code",
   "execution_count": 117,
   "id": "7f29c61b-288e-4680-8870-7d685053b7e5",
   "metadata": {},
   "outputs": [
    {
     "name": "stdout",
     "output_type": "stream",
     "text": [
      "96\n"
     ]
    },
    {
     "name": "stdin",
     "output_type": "stream",
     "text": [
      "Guess a number 56\n"
     ]
    },
    {
     "name": "stdout",
     "output_type": "stream",
     "text": [
      "56\n"
     ]
    }
   ],
   "source": [
    "#create guess number game\n",
    "\n",
    "import random\n",
    "num = random.randint(1, 100)\n",
    "print(num)\n",
    "\n",
    "guess_number = int(input(\"Guess a number\"))\n",
    "print(guess_number)"
   ]
  },
  {
   "cell_type": "code",
   "execution_count": 139,
   "id": "17e802d5-5cda-471d-8d06-900be6a43f5c",
   "metadata": {},
   "outputs": [],
   "source": [
    "import random\n",
    "random_number = random.randint(1, 10)"
   ]
  },
  {
   "cell_type": "code",
   "execution_count": 141,
   "id": "d8a93398-ea57-4dc3-be41-f3ce40184b95",
   "metadata": {},
   "outputs": [
    {
     "name": "stdin",
     "output_type": "stream",
     "text": [
      "Guess a number 9\n"
     ]
    },
    {
     "name": "stdout",
     "output_type": "stream",
     "text": [
      "You are a winner\n"
     ]
    }
   ],
   "source": [
    "guess_number = int(input(\"Guess a number\"))\n",
    "\n",
    "if guess_number < random_number:\n",
    "    print(\"You are a smaller number\")\n",
    "elif guess_number > random_number:\n",
    "    print(\"You guessed a larger  number\")\n",
    "else:\n",
    "    print(\"You are a winner\")"
   ]
  },
  {
   "cell_type": "markdown",
   "id": "80511029-0292-456b-b577-8aa7cae1fef3",
   "metadata": {},
   "source": [
    "**bitwise operator**"
   ]
  },
  {
   "cell_type": "code",
   "execution_count": null,
   "id": "277b7a74-521b-48d1-badf-df7f5b435ad8",
   "metadata": {},
   "outputs": [],
   "source": []
  }
 ],
 "metadata": {
  "kernelspec": {
   "display_name": "Python 3 (ipykernel)",
   "language": "python",
   "name": "python3"
  },
  "language_info": {
   "codemirror_mode": {
    "name": "ipython",
    "version": 3
   },
   "file_extension": ".py",
   "mimetype": "text/x-python",
   "name": "python",
   "nbconvert_exporter": "python",
   "pygments_lexer": "ipython3",
   "version": "3.11.9"
  }
 },
 "nbformat": 4,
 "nbformat_minor": 5
}
