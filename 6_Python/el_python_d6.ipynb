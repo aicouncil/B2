{
 "cells": [
  {
   "cell_type": "markdown",
   "id": "f95b36f4-ab0b-4987-ac68-f5fb40d9d2bf",
   "metadata": {},
   "source": [
    "**Exception HAndling**\n",
    "\n",
    "    * Creating aprogram which can handle the exceptions or errors gracefully so that debugging or managing program can be done easily."
   ]
  },
  {
   "cell_type": "code",
   "execution_count": 22,
   "id": "07ab0263-0659-48d8-909a-c9630e97f226",
   "metadata": {
    "scrolled": true
   },
   "outputs": [
    {
     "ename": "NameError",
     "evalue": "name 'x' is not defined",
     "output_type": "error",
     "traceback": [
      "\u001b[31m---------------------------------------------------------------------------\u001b[39m",
      "\u001b[31mNameError\u001b[39m                                 Traceback (most recent call last)",
      "\u001b[36mCell\u001b[39m\u001b[36m \u001b[39m\u001b[32mIn[22]\u001b[39m\u001b[32m, line 1\u001b[39m\n\u001b[32m----> \u001b[39m\u001b[32m1\u001b[39m \u001b[38;5;28mprint\u001b[39m(\u001b[43mx\u001b[49m)\n",
      "\u001b[31mNameError\u001b[39m: name 'x' is not defined"
     ]
    }
   ],
   "source": [
    "print(x)"
   ]
  },
  {
   "cell_type": "code",
   "execution_count": 18,
   "id": "7a4b32e8-ba76-48c5-b109-ea5f46b88cfa",
   "metadata": {},
   "outputs": [
    {
     "name": "stdout",
     "output_type": "stream",
     "text": [
      "name 'x' is not defined\n"
     ]
    }
   ],
   "source": [
    "try:\n",
    "    print(x)\n",
    "except Exception as err:\n",
    "    print(err)"
   ]
  },
  {
   "cell_type": "code",
   "execution_count": 4,
   "id": "1a5f16b5-48ba-46f7-9385-8c313228f3b4",
   "metadata": {},
   "outputs": [
    {
     "name": "stdout",
     "output_type": "stream",
     "text": [
      "[Errno 2] No such file or directory: 'file10.txt'\n"
     ]
    }
   ],
   "source": [
    "try:\n",
    "    myfile = open('file10.txt', 'r')\n",
    "    print(myfile.read())\n",
    "    myfile.close()\n",
    "except Exception as err:\n",
    "    print(err)"
   ]
  },
  {
   "cell_type": "code",
   "execution_count": 26,
   "id": "4f33c01c-5867-4bad-8e94-3e22f2f7d339",
   "metadata": {},
   "outputs": [
    {
     "name": "stdout",
     "output_type": "stream",
     "text": [
      "The file you are trying to open is not existing\n"
     ]
    }
   ],
   "source": [
    "try:\n",
    "    myfile = open('file10.txt', 'r')\n",
    "    print(myfile.read())\n",
    "    myfile.close()\n",
    "except FileNotFoundError:\n",
    "    print(\"The file you are trying to open is not existing\")"
   ]
  },
  {
   "cell_type": "code",
   "execution_count": 8,
   "id": "f0df2f9b-8b98-4b29-98b4-53890c6787b2",
   "metadata": {},
   "outputs": [
    {
     "name": "stdout",
     "output_type": "stream",
     "text": [
      "Python Programming is for lazy programmers like Python reptile\n",
      "I like the rain most.\n",
      "Rabbit runs faster but turtle wins race.\n"
     ]
    }
   ],
   "source": [
    "try:\n",
    "    myfile = open('file2.txt', 'r')\n",
    "    print(myfile.read())\n",
    "    myfile.close()\n",
    "except FileNotFoundError:\n",
    "    print(\"The file you are trying to open is not existing\")"
   ]
  },
  {
   "cell_type": "code",
   "execution_count": 11,
   "id": "182aac33-e233-4b47-8f4c-f29c8b237d57",
   "metadata": {},
   "outputs": [
    {
     "name": "stdout",
     "output_type": "stream",
     "text": [
      "Mode choosen and operation defined are different\n"
     ]
    }
   ],
   "source": [
    "try:\n",
    "    myfile = open('file2.txt', 'r')\n",
    "    myfile.write(\"Hello World\")\n",
    "    myfile.close()\n",
    "except FileNotFoundError:\n",
    "    print(\"The file you are trying to open is not existing\")\n",
    "except IOError:\n",
    "    print(\"Mode choosen and operation defined are different\")"
   ]
  },
  {
   "cell_type": "code",
   "execution_count": 16,
   "id": "f4ba668e-c807-4365-be06-2ea61be450c1",
   "metadata": {},
   "outputs": [],
   "source": [
    "#print(x)"
   ]
  },
  {
   "cell_type": "code",
   "execution_count": 14,
   "id": "1b4fcb75-de33-40d8-9cf6-69f3b60490ef",
   "metadata": {},
   "outputs": [
    {
     "name": "stdout",
     "output_type": "stream",
     "text": [
      "You are calling a non-defined variable\n"
     ]
    }
   ],
   "source": [
    "try:\n",
    "    print(x)\n",
    "except NameError:\n",
    "    print('You are calling a non-defined variable')"
   ]
  },
  {
   "cell_type": "code",
   "execution_count": 19,
   "id": "cb7539d8-98e5-483a-a50f-6126f4b60c1c",
   "metadata": {},
   "outputs": [],
   "source": [
    "try:\n",
    "    pass\n",
    "except:\n",
    "    pass\n",
    "else:\n",
    "    pass\n",
    "finally:\n",
    "    pass"
   ]
  },
  {
   "cell_type": "code",
   "execution_count": 20,
   "id": "576d16be-a85d-4b22-b06d-7238855783f9",
   "metadata": {},
   "outputs": [
    {
     "name": "stdout",
     "output_type": "stream",
     "text": [
      "Python Programming is for lazy programmers like Python reptile\n",
      "I like the rain most.\n",
      "Rabbit runs faster but turtle wins race.\n",
      "All process done\n"
     ]
    }
   ],
   "source": [
    "try:\n",
    "    myfile = open('file2.txt', 'r')\n",
    "except FileNotFoundError:\n",
    "    print(\"The file you are trying to open is not existing\")\n",
    "except IOError:\n",
    "    print(\"Mode choosen and operation defined are different\")\n",
    "else:                                                                 #else will only execute if there is no exception\n",
    "    print(myfile.read())\n",
    "    myfile.close()\n",
    "finally:                                                              #It will execute in any case at end\n",
    "    print(\"All process done\")"
   ]
  },
  {
   "cell_type": "code",
   "execution_count": 21,
   "id": "1d504b7b-1aa2-4640-ba43-dc12db2d94a0",
   "metadata": {},
   "outputs": [
    {
     "name": "stdout",
     "output_type": "stream",
     "text": [
      "The file you are trying to open is not existing\n",
      "All process done\n"
     ]
    }
   ],
   "source": [
    "try:\n",
    "    myfile = open('file20.txt', 'r')\n",
    "except FileNotFoundError:\n",
    "    print(\"The file you are trying to open is not existing\")\n",
    "except IOError:\n",
    "    print(\"Mode choosen and operation defined are different\")\n",
    "else:\n",
    "    print(myfile.read())\n",
    "    myfile.close()\n",
    "finally:\n",
    "    print(\"All process done\")"
   ]
  },
  {
   "cell_type": "code",
   "execution_count": 39,
   "id": "a56db921-aeaa-4f05-b75d-8584d87f47cc",
   "metadata": {},
   "outputs": [
    {
     "name": "stdin",
     "output_type": "stream",
     "text": [
      "Please enter a number:  4\n"
     ]
    },
    {
     "name": "stdout",
     "output_type": "stream",
     "text": [
      "4.0\n"
     ]
    },
    {
     "name": "stdin",
     "output_type": "stream",
     "text": [
      "Please enter a number:  abcde\n"
     ]
    },
    {
     "name": "stdout",
     "output_type": "stream",
     "text": [
      "Oops!  That was no valid number.  Try again...\n"
     ]
    }
   ],
   "source": [
    "while True:\n",
    "    try:\n",
    "        x = float(input(\"Please enter a number: \"))\n",
    "    except ValueError:\n",
    "        print(\"Oops!  That was no valid number.  Try again...\")\n",
    "        break\n",
    "    else:\n",
    "        print(x)"
   ]
  },
  {
   "cell_type": "code",
   "execution_count": 49,
   "id": "5dd2c914-7f12-404f-b789-26dd1db8aed4",
   "metadata": {},
   "outputs": [
    {
     "name": "stdin",
     "output_type": "stream",
     "text": [
      "Enter your Age 21\n"
     ]
    },
    {
     "ename": "Exception",
     "evalue": "Age is more then the threshold",
     "output_type": "error",
     "traceback": [
      "\u001b[31m---------------------------------------------------------------------------\u001b[39m",
      "\u001b[31mException\u001b[39m                                 Traceback (most recent call last)",
      "\u001b[36mCell\u001b[39m\u001b[36m \u001b[39m\u001b[32mIn[49]\u001b[39m\u001b[32m, line 4\u001b[39m\n\u001b[32m      1\u001b[39m age = \u001b[38;5;28mfloat\u001b[39m(\u001b[38;5;28minput\u001b[39m(\u001b[33m\"\u001b[39m\u001b[33mEnter your Age\u001b[39m\u001b[33m\"\u001b[39m))\n\u001b[32m      3\u001b[39m \u001b[38;5;28;01mif\u001b[39;00m age > \u001b[32m18\u001b[39m:\n\u001b[32m----> \u001b[39m\u001b[32m4\u001b[39m     \u001b[38;5;28;01mraise\u001b[39;00m \u001b[38;5;167;01mException\u001b[39;00m(\u001b[33m\"\u001b[39m\u001b[33mAge is more then the threshold\u001b[39m\u001b[33m\"\u001b[39m)\n",
      "\u001b[31mException\u001b[39m: Age is more then the threshold"
     ]
    }
   ],
   "source": [
    "age = float(input(\"Enter your Age\"))\n",
    "\n",
    "if age > 18:\n",
    "    raise Exception(\"Age is more then the threshold\")"
   ]
  },
  {
   "cell_type": "code",
   "execution_count": 57,
   "id": "3a559aef-2c58-4f6f-9417-0a0d1885b3d6",
   "metadata": {},
   "outputs": [
    {
     "name": "stdin",
     "output_type": "stream",
     "text": [
      "Enter your Age 21\n"
     ]
    },
    {
     "name": "stdout",
     "output_type": "stream",
     "text": [
      "True\n"
     ]
    }
   ],
   "source": [
    "age = input(\"Enter your Age\")\n",
    "\n",
    "try:\n",
    "   print(age > 18)\n",
    "except TypeError:\n",
    "    print(float(age) > 18)"
   ]
  },
  {
   "cell_type": "code",
   "execution_count": 64,
   "id": "c8876717-9899-4152-9d05-4c75bb2e3beb",
   "metadata": {},
   "outputs": [
    {
     "name": "stdin",
     "output_type": "stream",
     "text": [
      "Enter your Age a\n"
     ]
    },
    {
     "name": "stdout",
     "output_type": "stream",
     "text": [
      "could not convert string to float: 'a'\n"
     ]
    }
   ],
   "source": [
    "age = input(\"Enter your Age\")\n",
    "\n",
    "try:\n",
    "   print(age > 18)\n",
    "except TypeError:\n",
    "    try:\n",
    "        print(float(age) > 18)\n",
    "    except Exception as err:\n",
    "        print(err)"
   ]
  },
  {
   "cell_type": "code",
   "execution_count": 69,
   "id": "ed3ac196-0f4d-4f16-ab2c-f4614a955c35",
   "metadata": {},
   "outputs": [
    {
     "name": "stdin",
     "output_type": "stream",
     "text": [
      "Enter your Age 8\n"
     ]
    },
    {
     "name": "stdout",
     "output_type": "stream",
     "text": [
      "False\n"
     ]
    }
   ],
   "source": [
    "age = input(\"Enter your Age\")\n",
    "\n",
    "try:\n",
    "    print(age > 18)\n",
    "except TypeError:\n",
    "    try:\n",
    "        print(float(age) > 18)\n",
    "    except ValueError:\n",
    "        print(\"Invalid data types\")"
   ]
  },
  {
   "cell_type": "code",
   "execution_count": null,
   "id": "4a8fe4ae-ef8c-4423-a208-619203c4b220",
   "metadata": {},
   "outputs": [],
   "source": [
    "#create a program to capture weight and height of a person as user input\n",
    "#Underweight: BMI below 18.5.\n",
    "#Healthy weight: BMI between 18.5 and 24.9.\n",
    "#Overweight: BMI between 25.0 and 29.9.\n",
    "#Obesity: BMI of 30.0 or greater. \n",
    "#Use try and except for the process to capture and handle exception properly\n",
    "#formula - weight (in kilograms) divided by height (in meters) squared"
   ]
  },
  {
   "cell_type": "code",
   "execution_count": 78,
   "id": "733c47ff-01d2-4046-96de-a38e3df92e4b",
   "metadata": {},
   "outputs": [
    {
     "name": "stdin",
     "output_type": "stream",
     "text": [
      "Enter your weight in kgs -465\n",
      "Enter your height in m -2.7\n"
     ]
    },
    {
     "name": "stdout",
     "output_type": "stream",
     "text": [
      "-63.786008230452666\n"
     ]
    }
   ],
   "source": [
    "weight = input(\"Enter your weight in kgs\")\n",
    "height = input(\"Enter your height in m\")\n",
    "\n",
    "try:\n",
    "    bmi = weight / height**2\n",
    "    print(bmi)\n",
    "except TypeError:\n",
    "    try:\n",
    "        bmi = float(weight) / float(height)**2\n",
    "        print(bmi)\n",
    "    except ValueError:\n",
    "        print(\"Invalid data input\")\n",
    "    except ZeroDivisionError:\n",
    "        print(\"Can't divide by zero\")"
   ]
  },
  {
   "cell_type": "code",
   "execution_count": 79,
   "id": "b0144694-d5c7-43f0-af82-7d3ef625a788",
   "metadata": {},
   "outputs": [],
   "source": [
    "def calc_bmi(weight,height):\n",
    "    try:\n",
    "        bmi = weight / height**2\n",
    "        return bmi\n",
    "    except TypeError:\n",
    "        try:\n",
    "            bmi = float(weight) / float(height)**2\n",
    "            return bmi\n",
    "        except ValueError:\n",
    "            print(\"Invalid data input\")\n",
    "        except ZeroDivisionError:\n",
    "            print(\"Can't divide by zero\")"
   ]
  },
  {
   "cell_type": "code",
   "execution_count": 89,
   "id": "8af35b98-afff-4f86-947e-ba94417ae566",
   "metadata": {},
   "outputs": [
    {
     "name": "stdin",
     "output_type": "stream",
     "text": [
      "Enter your weight in kgs -76\n",
      "Enter your height in m -1.4\n"
     ]
    },
    {
     "ename": "Exception",
     "evalue": "Weight or height can't be zero or negative",
     "output_type": "error",
     "traceback": [
      "\u001b[31m---------------------------------------------------------------------------\u001b[39m",
      "\u001b[31mException\u001b[39m                                 Traceback (most recent call last)",
      "\u001b[36mCell\u001b[39m\u001b[36m \u001b[39m\u001b[32mIn[89]\u001b[39m\u001b[32m, line 7\u001b[39m\n\u001b[32m      4\u001b[39m bmi = calc_bmi(weight,height)\n\u001b[32m      6\u001b[39m \u001b[38;5;28;01mif\u001b[39;00m bmi <= \u001b[32m0\u001b[39m:\n\u001b[32m----> \u001b[39m\u001b[32m7\u001b[39m     \u001b[38;5;28;01mraise\u001b[39;00m \u001b[38;5;167;01mException\u001b[39;00m(\u001b[33m\"\u001b[39m\u001b[33mWeight or height can\u001b[39m\u001b[33m'\u001b[39m\u001b[33mt be zero or negative\u001b[39m\u001b[33m\"\u001b[39m)\n\u001b[32m      8\u001b[39m \u001b[38;5;28;01melse\u001b[39;00m:\n\u001b[32m      9\u001b[39m     \u001b[38;5;28mprint\u001b[39m(bmi)\n",
      "\u001b[31mException\u001b[39m: Weight or height can't be zero or negative"
     ]
    }
   ],
   "source": [
    "weight = input(\"Enter your weight in kgs\")\n",
    "height = input(\"Enter your height in m\")\n",
    "\n",
    "bmi = calc_bmi(weight,height)\n",
    "\n",
    "if bmi <= 0:\n",
    "    raise Exception(\"Weight or height can't be zero or negative\")\n",
    "else:\n",
    "    print(bmi)"
   ]
  },
  {
   "cell_type": "code",
   "execution_count": 105,
   "id": "0aa4c8a0-df63-4bb5-8ed1-d74fb4f1456c",
   "metadata": {},
   "outputs": [],
   "source": [
    "def calc_bmi(weight,height):\n",
    "    try:\n",
    "        bmi = weight / height**2\n",
    "        if bmi <= 0:\n",
    "            raise Exception(\"Weight or height can't be zero or negative\")\n",
    "        else:\n",
    "            return bmi\n",
    "    except TypeError:\n",
    "        try:\n",
    "            bmi = float(weight) / float(height)**2\n",
    "            if bmi <= 0:\n",
    "                raise Exception(\"Weight or height can't be zero or negative\")\n",
    "            else:\n",
    "                return bmi\n",
    "        except ValueError:\n",
    "            return \"Invalid data input\"\n",
    "        except ZeroDivisionError:\n",
    "            return \"Can't divide by zero\""
   ]
  },
  {
   "cell_type": "code",
   "execution_count": 109,
   "id": "940d2705-18ec-43ee-8e84-ac8a4f1880c1",
   "metadata": {},
   "outputs": [
    {
     "name": "stdin",
     "output_type": "stream",
     "text": [
      "Enter your weight in kgs -45\n",
      "Enter your height in m 2\n"
     ]
    },
    {
     "name": "stdout",
     "output_type": "stream",
     "text": [
      "Weight or height can't be zero or negative\n"
     ]
    }
   ],
   "source": [
    "weight = input(\"Enter your weight in kgs\")\n",
    "height = input(\"Enter your height in m\")\n",
    "\n",
    "try:\n",
    "    bmi = calc_bmi(weight,height)\n",
    "    print(bmi)\n",
    "except Exception as err:\n",
    "    print(err)"
   ]
  },
  {
   "cell_type": "code",
   "execution_count": null,
   "id": "452330cf-983b-44ae-861d-509ccde339cf",
   "metadata": {},
   "outputs": [],
   "source": []
  }
 ],
 "metadata": {
  "kernelspec": {
   "display_name": "Python 3 (ipykernel)",
   "language": "python",
   "name": "python3"
  },
  "language_info": {
   "codemirror_mode": {
    "name": "ipython",
    "version": 3
   },
   "file_extension": ".py",
   "mimetype": "text/x-python",
   "name": "python",
   "nbconvert_exporter": "python",
   "pygments_lexer": "ipython3",
   "version": "3.11.9"
  }
 },
 "nbformat": 4,
 "nbformat_minor": 5
}
