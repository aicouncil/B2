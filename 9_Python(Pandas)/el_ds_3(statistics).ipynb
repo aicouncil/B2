{
  "nbformat": 4,
  "nbformat_minor": 0,
  "metadata": {
    "colab": {
      "provenance": []
    },
    "kernelspec": {
      "name": "python3",
      "display_name": "Python 3"
    },
    "language_info": {
      "name": "python"
    }
  },
  "cells": [
    {
      "cell_type": "markdown",
      "source": [
        "**Concept of Statistics**\n",
        "\n",
        "  * Measure of central tendency\n",
        "    * mean, median , mode\n",
        "  * Measure of Dispersion\n",
        "    * variance & standard deviation"
      ],
      "metadata": {
        "id": "ouqaDRwJN_me"
      }
    },
    {
      "cell_type": "code",
      "execution_count": null,
      "metadata": {
        "colab": {
          "base_uri": "https://localhost:8080/"
        },
        "id": "ILDTavSyN-fn",
        "outputId": "929a3fb1-ef4a-4c88-dbfc-3c65ff0c8a9c"
      },
      "outputs": [
        {
          "output_type": "execute_result",
          "data": {
            "text/plain": [
              "array([[23, 36,  2,  8, 48, 42, 34,  4, 27, 41, 31, 43, 28, 42,  4, 44,\n",
              "        30, 14, 16, 29,  3,  4, 24, 37, 48, 12, 15, 45, 24, 46]])"
            ]
          },
          "metadata": {},
          "execution_count": 2
        }
      ],
      "source": [
        "import numpy as np\n",
        "\n",
        "marks = np.random.randint(0,50, size = (1,30))\n",
        "marks"
      ]
    },
    {
      "cell_type": "markdown",
      "source": [
        "* find out most likelihod region of marks to decide pass or fail"
      ],
      "metadata": {
        "id": "qFWhIL3GOs-v"
      }
    },
    {
      "cell_type": "code",
      "source": [
        "mean_marks = marks.mean()\n",
        "print(mean_marks)"
      ],
      "metadata": {
        "colab": {
          "base_uri": "https://localhost:8080/"
        },
        "id": "oJNPUmo9ObKk",
        "outputId": "29ef3258-33c9-4d02-eca5-8e595a8eb68b"
      },
      "execution_count": null,
      "outputs": [
        {
          "output_type": "stream",
          "name": "stdout",
          "text": [
            "26.8\n"
          ]
        }
      ]
    },
    {
      "cell_type": "markdown",
      "source": [
        "**variance**\n",
        "\n",
        "  * measure of dispersion of data points from mean"
      ],
      "metadata": {
        "id": "GZIULh4APfTl"
      }
    },
    {
      "cell_type": "code",
      "source": [
        "variance_marks = ((marks - mean_marks)**2).mean()\n",
        "print(variance_marks)"
      ],
      "metadata": {
        "colab": {
          "base_uri": "https://localhost:8080/"
        },
        "id": "VsniiMApO955",
        "outputId": "af2dc135-f82a-47c2-c780-7d74a2dfb2a2"
      },
      "execution_count": null,
      "outputs": [
        {
          "output_type": "stream",
          "name": "stdout",
          "text": [
            "228.62666666666667\n"
          ]
        }
      ]
    },
    {
      "cell_type": "markdown",
      "source": [
        "**Standard Deviation**"
      ],
      "metadata": {
        "id": "t-DXocJcP84U"
      }
    },
    {
      "cell_type": "code",
      "source": [
        "std_dev_marks = variance_marks**0.5\n",
        "print(std_dev_marks)"
      ],
      "metadata": {
        "colab": {
          "base_uri": "https://localhost:8080/"
        },
        "id": "Gr5UgQ_PPZBx",
        "outputId": "197d5d6b-a910-4ed3-d85b-b8a3d31163e0"
      },
      "execution_count": null,
      "outputs": [
        {
          "output_type": "stream",
          "name": "stdout",
          "text": [
            "15.12040563829776\n"
          ]
        }
      ]
    },
    {
      "cell_type": "code",
      "source": [
        "print(mean_marks)"
      ],
      "metadata": {
        "colab": {
          "base_uri": "https://localhost:8080/"
        },
        "id": "_sGTif8OQQkQ",
        "outputId": "d52bade0-14c5-439d-aafb-5da446d729a9"
      },
      "execution_count": null,
      "outputs": [
        {
          "output_type": "stream",
          "name": "stdout",
          "text": [
            "26.8\n"
          ]
        }
      ]
    },
    {
      "cell_type": "code",
      "source": [
        "print(marks)"
      ],
      "metadata": {
        "colab": {
          "base_uri": "https://localhost:8080/"
        },
        "id": "rVR47PP5QOww",
        "outputId": "907bb00d-a7de-48d4-d943-412f100d3798"
      },
      "execution_count": null,
      "outputs": [
        {
          "output_type": "stream",
          "name": "stdout",
          "text": [
            "[[23 36  2  8 48 42 34  4 27 41 31 43 28 42  4 44 30 14 16 29  3  4 24 37\n",
            "  48 12 15 45 24 46]]\n"
          ]
        }
      ]
    },
    {
      "cell_type": "markdown",
      "source": [
        "**Region of 1st standard deviation**"
      ],
      "metadata": {
        "id": "iXGx0sjjRjdO"
      }
    },
    {
      "cell_type": "code",
      "source": [
        "lower_limit_1st_std = mean_marks - std_dev_marks\n",
        "upper_limit_1st_std = mean_marks + std_dev_marks\n",
        "\n",
        "print(lower_limit_1st_std, upper_limit_1st_std)"
      ],
      "metadata": {
        "colab": {
          "base_uri": "https://localhost:8080/"
        },
        "id": "KGOvYXRQQLHu",
        "outputId": "0b4af47d-6873-4b99-d88d-59f4e55631c6"
      },
      "execution_count": null,
      "outputs": [
        {
          "output_type": "stream",
          "name": "stdout",
          "text": [
            "11.679594361702241 41.92040563829776\n"
          ]
        }
      ]
    },
    {
      "cell_type": "code",
      "source": [
        "marks_within_1st_std_dev = marks[(marks > lower_limit_1st_std) & (marks < upper_limit_1st_std)]\n",
        "print(marks_within_1st_std_dev)"
      ],
      "metadata": {
        "colab": {
          "base_uri": "https://localhost:8080/"
        },
        "id": "VYYEXiJ7R0yj",
        "outputId": "b7f411d7-b7df-4df0-8b22-dce79f5e2cbe"
      },
      "execution_count": null,
      "outputs": [
        {
          "output_type": "stream",
          "name": "stdout",
          "text": [
            "[23 36 34 27 41 31 28 30 14 16 29 24 37 12 15 24]\n"
          ]
        }
      ]
    },
    {
      "cell_type": "markdown",
      "source": [
        "**Region of 2nd standard deviation**"
      ],
      "metadata": {
        "id": "AvRF_u8kSIrl"
      }
    },
    {
      "cell_type": "code",
      "source": [
        "lower_limit_2nd_std = mean_marks - 2*std_dev_marks\n",
        "upper_limit_2nd_std = mean_marks + 2*std_dev_marks\n",
        "\n",
        "print(lower_limit_2nd_std , upper_limit_2nd_std)"
      ],
      "metadata": {
        "colab": {
          "base_uri": "https://localhost:8080/"
        },
        "id": "hsazfXfVR9Aq",
        "outputId": "95c9dd35-859a-452a-c86a-6f7c46ea7c0c"
      },
      "execution_count": null,
      "outputs": [
        {
          "output_type": "stream",
          "name": "stdout",
          "text": [
            "-3.440811276595518 57.04081127659552\n"
          ]
        }
      ]
    },
    {
      "cell_type": "code",
      "source": [],
      "metadata": {
        "id": "VjqlIoHESVi6"
      },
      "execution_count": null,
      "outputs": []
    }
  ]
}