{
  "nbformat": 4,
  "nbformat_minor": 0,
  "metadata": {
    "colab": {
      "provenance": []
    },
    "kernelspec": {
      "name": "python3",
      "display_name": "Python 3"
    },
    "language_info": {
      "name": "python"
    }
  },
  "cells": [
    {
      "cell_type": "code",
      "execution_count": null,
      "metadata": {
        "colab": {
          "base_uri": "https://localhost:8080/"
        },
        "id": "B9HVI6xW14dP",
        "outputId": "7514ccc4-096e-4ed7-ae08-95daa9a54a51"
      },
      "outputs": [
        {
          "output_type": "stream",
          "name": "stdout",
          "text": [
            "21\n"
          ]
        }
      ],
      "source": [
        "a = 7\n",
        "print(a * 3)"
      ]
    },
    {
      "cell_type": "code",
      "source": [
        "salaries = [30000, 40000, 20000, 10000, 15000]\n",
        "\n",
        "print(salaries * 2)"
      ],
      "metadata": {
        "colab": {
          "base_uri": "https://localhost:8080/"
        },
        "id": "rUdyfOjR2BWd",
        "outputId": "969dfc60-771e-458b-cac0-0f82103ec780"
      },
      "execution_count": null,
      "outputs": [
        {
          "output_type": "stream",
          "name": "stdout",
          "text": [
            "[30000, 40000, 20000, 10000, 15000, 30000, 40000, 20000, 10000, 15000]\n"
          ]
        }
      ]
    },
    {
      "cell_type": "code",
      "source": [
        "l1 = [3 ,2, 6 ,7.1 , 'abc']\n",
        "l1"
      ],
      "metadata": {
        "colab": {
          "base_uri": "https://localhost:8080/"
        },
        "id": "qy1gYg8m3GbN",
        "outputId": "181a9c2d-5df5-4cef-b3b4-70ccb1ba30ad"
      },
      "execution_count": null,
      "outputs": [
        {
          "output_type": "execute_result",
          "data": {
            "text/plain": [
              "[3, 2, 6, 7.1, 'abc']"
            ]
          },
          "metadata": {},
          "execution_count": 9
        }
      ]
    },
    {
      "cell_type": "code",
      "source": [
        "l2 = [[2, 3, 5, 6, 7] , [3, 2, 6, 7, 9] , [4, 3, 7, 6, 3]]\n",
        "print(l2)"
      ],
      "metadata": {
        "colab": {
          "base_uri": "https://localhost:8080/"
        },
        "id": "FbFCXrjW3wnz",
        "outputId": "492db68c-913d-49be-f94f-ac472ac40a76"
      },
      "execution_count": null,
      "outputs": [
        {
          "output_type": "stream",
          "name": "stdout",
          "text": [
            "[[2, 3, 5, 6, 7], [3, 2, 6, 7, 9], [4, 3, 7, 6, 3]]\n"
          ]
        }
      ]
    },
    {
      "cell_type": "code",
      "source": [
        "import numpy as np\n",
        "\n",
        "salary = np.array([30000, 40000, 20000, 10000, 15000])\n",
        "print(salary)"
      ],
      "metadata": {
        "colab": {
          "base_uri": "https://localhost:8080/"
        },
        "id": "08ugV_uU2OY0",
        "outputId": "35923f8d-d741-46cf-ad31-ffe993883ac4"
      },
      "execution_count": null,
      "outputs": [
        {
          "output_type": "stream",
          "name": "stdout",
          "text": [
            "[30000 40000 20000 10000 15000]\n"
          ]
        }
      ]
    },
    {
      "cell_type": "code",
      "source": [
        "print(type(salary))"
      ],
      "metadata": {
        "colab": {
          "base_uri": "https://localhost:8080/"
        },
        "id": "ZanmTaKi3Wi0",
        "outputId": "5c89919c-180b-449f-9095-0bba315e58e8"
      },
      "execution_count": null,
      "outputs": [
        {
          "output_type": "stream",
          "name": "stdout",
          "text": [
            "<class 'numpy.ndarray'>\n"
          ]
        }
      ]
    },
    {
      "cell_type": "code",
      "source": [
        "print(salary * 2)"
      ],
      "metadata": {
        "colab": {
          "base_uri": "https://localhost:8080/"
        },
        "id": "f74ZYU0Y2mR5",
        "outputId": "37e38fcc-3538-4ffd-cde4-701984d944c1"
      },
      "execution_count": null,
      "outputs": [
        {
          "output_type": "stream",
          "name": "stdout",
          "text": [
            "[60000 80000 40000 20000 30000]\n"
          ]
        }
      ]
    },
    {
      "cell_type": "markdown",
      "source": [
        "* **Numpy is a library used to handle n-dimensional data and perform numerical operations wherever required**\n",
        "* **Numpy Arrays are homogeneous (all elements of the same type), while lists are heterogeneous (elements can be different).**"
      ],
      "metadata": {
        "id": "uM0y3vZX2xf_"
      }
    },
    {
      "cell_type": "code",
      "source": [
        "n1 = np.array([3,5,6,7,8])\n",
        "print(n1)"
      ],
      "metadata": {
        "colab": {
          "base_uri": "https://localhost:8080/"
        },
        "id": "VxTZCpKZ2qQ7",
        "outputId": "7bc0693d-d5e4-4304-e5ae-872881333ab2"
      },
      "execution_count": null,
      "outputs": [
        {
          "output_type": "stream",
          "name": "stdout",
          "text": [
            "[3 5 6 7 8]\n"
          ]
        }
      ]
    },
    {
      "cell_type": "code",
      "source": [
        "n2 = np.array([3, 5.1, 6, 7, 8])\n",
        "print(n2)"
      ],
      "metadata": {
        "colab": {
          "base_uri": "https://localhost:8080/"
        },
        "id": "WYfQFeMy23Ea",
        "outputId": "2bbcf082-5113-44de-e7f5-04de20b0bb28"
      },
      "execution_count": null,
      "outputs": [
        {
          "output_type": "stream",
          "name": "stdout",
          "text": [
            "[3.  5.1 6.  7.  8. ]\n"
          ]
        }
      ]
    },
    {
      "cell_type": "code",
      "source": [
        "n3 = np.array([3, 5.1, '6', 7, 8])\n",
        "print(n3)"
      ],
      "metadata": {
        "colab": {
          "base_uri": "https://localhost:8080/"
        },
        "id": "sIuMbqVU27qL",
        "outputId": "ad7a6b12-a6bb-4a29-c834-3bd1cdfc3e6a"
      },
      "execution_count": null,
      "outputs": [
        {
          "output_type": "stream",
          "name": "stdout",
          "text": [
            "['3' '5.1' '6' '7' '8']\n"
          ]
        }
      ]
    },
    {
      "cell_type": "code",
      "source": [
        "n1 = np.array([3,5,6,7,8])\n",
        "print(n1)"
      ],
      "metadata": {
        "colab": {
          "base_uri": "https://localhost:8080/"
        },
        "id": "pxlJpHgy4Tvr",
        "outputId": "adf2343e-87f9-4967-a537-1acb8ec506b0"
      },
      "execution_count": null,
      "outputs": [
        {
          "output_type": "stream",
          "name": "stdout",
          "text": [
            "[3 5 6 7 8]\n"
          ]
        }
      ]
    },
    {
      "cell_type": "code",
      "source": [
        "print(n1.ndim)\n",
        "print(n1.shape)"
      ],
      "metadata": {
        "colab": {
          "base_uri": "https://localhost:8080/"
        },
        "id": "IXD5wlVu4VwK",
        "outputId": "b62fe30b-c803-4bb0-81b5-b0c0d64ed252"
      },
      "execution_count": null,
      "outputs": [
        {
          "output_type": "stream",
          "name": "stdout",
          "text": [
            "1\n",
            "(5,)\n"
          ]
        }
      ]
    },
    {
      "cell_type": "code",
      "source": [
        "n2 = np.array([[2, 3, 5, 6, 7] , [3, 2, 6, 7, 9] , [4, 3, 17, 6, 3]])\n",
        "print(n2)"
      ],
      "metadata": {
        "colab": {
          "base_uri": "https://localhost:8080/"
        },
        "id": "DSlcYjXT2_Wa",
        "outputId": "8468f67b-146a-4697-9e74-604923a8a219"
      },
      "execution_count": null,
      "outputs": [
        {
          "output_type": "stream",
          "name": "stdout",
          "text": [
            "[[ 2  3  5  6  7]\n",
            " [ 3  2  6  7  9]\n",
            " [ 4  3 17  6  3]]\n"
          ]
        }
      ]
    },
    {
      "cell_type": "code",
      "source": [
        "print(n2.ndim)\n",
        "print(n2.shape)"
      ],
      "metadata": {
        "colab": {
          "base_uri": "https://localhost:8080/"
        },
        "id": "46Opg3hz4IvL",
        "outputId": "c22c5ce8-b4fc-407e-ce7e-79d634f0955b"
      },
      "execution_count": null,
      "outputs": [
        {
          "output_type": "stream",
          "name": "stdout",
          "text": [
            "2\n",
            "(3, 5)\n"
          ]
        }
      ]
    },
    {
      "cell_type": "markdown",
      "source": [
        "**numpy functions**"
      ],
      "metadata": {
        "id": "zyQ47_fN4-hP"
      }
    },
    {
      "cell_type": "code",
      "source": [
        "print(n2)"
      ],
      "metadata": {
        "colab": {
          "base_uri": "https://localhost:8080/"
        },
        "id": "KdTtXR9G4YkL",
        "outputId": "d7e567a9-3232-43bb-a7c5-3b7d177cb552"
      },
      "execution_count": null,
      "outputs": [
        {
          "output_type": "stream",
          "name": "stdout",
          "text": [
            "[[ 2  3  5  6  7]\n",
            " [ 3  2  6  7  9]\n",
            " [ 4  3 17  6  3]]\n"
          ]
        }
      ]
    },
    {
      "cell_type": "code",
      "source": [
        "print(np.sum(n2))\n",
        "print(np.prod(n2))\n",
        "print(np.mean(n2))\n",
        "print(np.min(n2))\n",
        "print(np.max(n2))\n",
        "print(np.std(n2))\n",
        "print(np.argmin(n2))\n",
        "print(np.argmax(n2))"
      ],
      "metadata": {
        "colab": {
          "base_uri": "https://localhost:8080/"
        },
        "id": "aOWlfsVl5Cvr",
        "outputId": "27fec49a-bd46-4a43-e040-7ec556dbb146"
      },
      "execution_count": null,
      "outputs": [
        {
          "output_type": "stream",
          "name": "stdout",
          "text": [
            "83\n",
            "10493400960\n",
            "5.533333333333333\n",
            "2\n",
            "17\n",
            "3.6672726771933513\n",
            "0\n",
            "12\n"
          ]
        }
      ]
    },
    {
      "cell_type": "code",
      "source": [
        "83/15"
      ],
      "metadata": {
        "colab": {
          "base_uri": "https://localhost:8080/"
        },
        "id": "ik-FLMW56Ynw",
        "outputId": "4aab6099-1935-4883-d566-de4a7ced72ac"
      },
      "execution_count": null,
      "outputs": [
        {
          "output_type": "execute_result",
          "data": {
            "text/plain": [
              "5.533333333333333"
            ]
          },
          "metadata": {},
          "execution_count": 30
        }
      ]
    },
    {
      "cell_type": "code",
      "source": [
        "#Calculate for each row of matrix\n",
        "print(np.sum(n2 , axis=1))\n",
        "print(np.prod(n2 , axis=1))\n",
        "print(np.mean(n2 , axis=1))\n",
        "print(np.min(n2 , axis=1))\n",
        "print(np.max(n2 , axis=1))\n",
        "print(np.std(n2 , axis=1))\n",
        "print(np.argmin(n2 , axis=1))\n",
        "print(np.argmax(n2 , axis=1))"
      ],
      "metadata": {
        "colab": {
          "base_uri": "https://localhost:8080/"
        },
        "id": "PH21mITc5ExL",
        "outputId": "bb1b6c05-95ad-4868-ab90-3b2234a8af4d"
      },
      "execution_count": null,
      "outputs": [
        {
          "output_type": "stream",
          "name": "stdout",
          "text": [
            "[23 27 33]\n",
            "[1260 2268 3672]\n",
            "[4.6 5.4 6.6]\n",
            "[2 2 3]\n",
            "[ 7  9 17]\n",
            "[1.8547237  2.57681975 5.3141321 ]\n",
            "[0 1 1]\n",
            "[4 4 2]\n"
          ]
        }
      ]
    },
    {
      "cell_type": "code",
      "source": [
        "#Calculate for each row of matrix\n",
        "print(np.sum(n2 , axis=0))\n",
        "print(np.prod(n2 , axis=0))\n",
        "print(np.mean(n2 , axis=0))\n",
        "print(np.min(n2 , axis=0))\n",
        "print(np.max(n2 , axis=0))\n",
        "print(np.std(n2 , axis=0))\n",
        "print(np.argmin(n2 , axis=0))\n",
        "print(np.argmax(n2 , axis=0))"
      ],
      "metadata": {
        "colab": {
          "base_uri": "https://localhost:8080/"
        },
        "id": "rgUJ6xi_5z9S",
        "outputId": "93e7c7da-3486-4285-b053-191908906c77"
      },
      "execution_count": null,
      "outputs": [
        {
          "output_type": "stream",
          "name": "stdout",
          "text": [
            "[ 9  8 28 19 19]\n",
            "[ 24  18 510 252 189]\n",
            "[3.         2.66666667 9.33333333 6.33333333 6.33333333]\n",
            "[2 2 5 6 3]\n",
            "[ 4  3 17  7  9]\n",
            "[0.81649658 0.47140452 5.43650214 0.47140452 2.49443826]\n",
            "[0 1 0 0 2]\n",
            "[2 0 2 1 1]\n"
          ]
        }
      ]
    },
    {
      "cell_type": "code",
      "source": [
        "print(n2)"
      ],
      "metadata": {
        "colab": {
          "base_uri": "https://localhost:8080/"
        },
        "id": "y0FzA5r86ADK",
        "outputId": "236fb5f6-07c0-4e79-e521-251990a60e07"
      },
      "execution_count": null,
      "outputs": [
        {
          "output_type": "stream",
          "name": "stdout",
          "text": [
            "[[ 2  3  5  6  7]\n",
            " [ 3  2  6  7  9]\n",
            " [ 4  3 17  6  3]]\n"
          ]
        }
      ]
    },
    {
      "cell_type": "code",
      "source": [
        "#indexing in numpy array\n",
        "print(n2[2,3])"
      ],
      "metadata": {
        "colab": {
          "base_uri": "https://localhost:8080/"
        },
        "id": "bSmF3clu6nfp",
        "outputId": "9439c02e-b32d-4e79-ff0c-743cc9f00209"
      },
      "execution_count": null,
      "outputs": [
        {
          "output_type": "stream",
          "name": "stdout",
          "text": [
            "6\n"
          ]
        }
      ]
    },
    {
      "cell_type": "code",
      "source": [
        "print(np.where(n2 == 9))"
      ],
      "metadata": {
        "colab": {
          "base_uri": "https://localhost:8080/"
        },
        "id": "QY9BNVOO7AGY",
        "outputId": "8dc2505e-8bff-4d8f-8d1d-dc162cba65da"
      },
      "execution_count": null,
      "outputs": [
        {
          "output_type": "stream",
          "name": "stdout",
          "text": [
            "(array([1]), array([4]))\n"
          ]
        }
      ]
    },
    {
      "cell_type": "code",
      "source": [
        "print(np.where(n2 == 6))"
      ],
      "metadata": {
        "colab": {
          "base_uri": "https://localhost:8080/"
        },
        "id": "wFDvqL267KWT",
        "outputId": "545d7a7d-f1c6-4589-fb60-d2e826eb86d7"
      },
      "execution_count": null,
      "outputs": [
        {
          "output_type": "stream",
          "name": "stdout",
          "text": [
            "(array([0, 1, 2]), array([3, 2, 3]))\n"
          ]
        }
      ]
    },
    {
      "cell_type": "markdown",
      "source": [
        "**slicing in numpy array**"
      ],
      "metadata": {
        "id": "sW93gKfq7lPE"
      }
    },
    {
      "cell_type": "code",
      "source": [
        "n1 = np.array([3,4,6,7,2,7,1,9,5])\n",
        "print(n1)"
      ],
      "metadata": {
        "colab": {
          "base_uri": "https://localhost:8080/"
        },
        "id": "SLHS2UT77YMZ",
        "outputId": "8c22ee79-5dbe-4bee-8037-b07f561a5d49"
      },
      "execution_count": null,
      "outputs": [
        {
          "output_type": "stream",
          "name": "stdout",
          "text": [
            "[3 4 6 7 2 7 1 9 5]\n"
          ]
        }
      ]
    },
    {
      "cell_type": "code",
      "source": [
        "print(n1[3 : 3+5])\n",
        "print(n1[3 : 8])"
      ],
      "metadata": {
        "colab": {
          "base_uri": "https://localhost:8080/"
        },
        "id": "eUykATCX8Qsr",
        "outputId": "0f9bdd41-82fd-46d2-fabd-ee54982f905d"
      },
      "execution_count": null,
      "outputs": [
        {
          "output_type": "stream",
          "name": "stdout",
          "text": [
            "[7 2 7 1 9]\n",
            "[7 2 7 1 9]\n"
          ]
        }
      ]
    },
    {
      "cell_type": "code",
      "source": [
        "n2 = np.array([[3,4,6,7,2,7,1,9,5] , [13,14,16,17,21,71,11,91,51] , [23,24,26,72,22,72,12,92,52],\n",
        "               [123,124,261,721,212,712,112,192,152], [123,214,261,721,212,712,112,912,521]])\n",
        "print(n2)"
      ],
      "metadata": {
        "colab": {
          "base_uri": "https://localhost:8080/"
        },
        "id": "CfckOvPs8Ug9",
        "outputId": "4954d21c-1e3a-477c-cc9b-0fc4983cd777"
      },
      "execution_count": null,
      "outputs": [
        {
          "output_type": "stream",
          "name": "stdout",
          "text": [
            "[[  3   4   6   7   2   7   1   9   5]\n",
            " [ 13  14  16  17  21  71  11  91  51]\n",
            " [ 23  24  26  72  22  72  12  92  52]\n",
            " [123 124 261 721 212 712 112 192 152]\n",
            " [123 214 261 721 212 712 112 912 521]]\n"
          ]
        }
      ]
    },
    {
      "cell_type": "code",
      "source": [
        "print(n2[1:4 , 0:4])"
      ],
      "metadata": {
        "colab": {
          "base_uri": "https://localhost:8080/"
        },
        "id": "gK5V_NyF8k9y",
        "outputId": "6699a02d-6c4d-4f8f-a156-e4711adf8992"
      },
      "execution_count": null,
      "outputs": [
        {
          "output_type": "stream",
          "name": "stdout",
          "text": [
            "[[ 13  14  16  17]\n",
            " [ 23  24  26  72]\n",
            " [123 124 261 721]]\n"
          ]
        }
      ]
    },
    {
      "cell_type": "code",
      "source": [
        "print(n2[1:4, 4:7])"
      ],
      "metadata": {
        "colab": {
          "base_uri": "https://localhost:8080/"
        },
        "id": "2Y7nWtTW88Zm",
        "outputId": "53231663-0e5d-41b4-d1b8-6c414635961b"
      },
      "execution_count": null,
      "outputs": [
        {
          "output_type": "stream",
          "name": "stdout",
          "text": [
            "[[ 21  71  11]\n",
            " [ 22  72  12]\n",
            " [212 712 112]]\n"
          ]
        }
      ]
    },
    {
      "cell_type": "code",
      "source": [
        "print(n2[: , 8:])"
      ],
      "metadata": {
        "colab": {
          "base_uri": "https://localhost:8080/"
        },
        "id": "bny-eAJO9gl_",
        "outputId": "582fd593-c4cb-451c-dec6-4fb69885c632"
      },
      "execution_count": null,
      "outputs": [
        {
          "output_type": "stream",
          "name": "stdout",
          "text": [
            "[[  5]\n",
            " [ 51]\n",
            " [ 52]\n",
            " [152]\n",
            " [521]]\n"
          ]
        }
      ]
    },
    {
      "cell_type": "code",
      "source": [
        "#Last column\n",
        "print(n2[:,-1:])"
      ],
      "metadata": {
        "colab": {
          "base_uri": "https://localhost:8080/"
        },
        "id": "BBOSojuT916N",
        "outputId": "35012331-e58d-4aff-9f1d-ed9cf1d47a4c"
      },
      "execution_count": null,
      "outputs": [
        {
          "output_type": "stream",
          "name": "stdout",
          "text": [
            "[[  5]\n",
            " [ 51]\n",
            " [ 52]\n",
            " [152]\n",
            " [521]]\n"
          ]
        }
      ]
    },
    {
      "cell_type": "code",
      "source": [
        "#Last two columns\n",
        "print(n2[:,-2:])"
      ],
      "metadata": {
        "colab": {
          "base_uri": "https://localhost:8080/"
        },
        "id": "g2bU8w4v-H2N",
        "outputId": "12d65101-e41c-4d69-d4de-be9fd5726faf"
      },
      "execution_count": null,
      "outputs": [
        {
          "output_type": "stream",
          "name": "stdout",
          "text": [
            "[[  9   5]\n",
            " [ 91  51]\n",
            " [ 92  52]\n",
            " [192 152]\n",
            " [912 521]]\n"
          ]
        }
      ]
    },
    {
      "cell_type": "code",
      "source": [
        "#Last row\n",
        "print(n2[-1:,:])"
      ],
      "metadata": {
        "colab": {
          "base_uri": "https://localhost:8080/"
        },
        "id": "aY_TzLus-NZ-",
        "outputId": "074426c4-1f95-4db3-842a-5044b140d5c6"
      },
      "execution_count": null,
      "outputs": [
        {
          "output_type": "stream",
          "name": "stdout",
          "text": [
            "[[123 214 261 721 212 712 112 912 521]]\n"
          ]
        }
      ]
    },
    {
      "cell_type": "code",
      "source": [
        "#Last two rows\n",
        "print(n2[-2:,:])"
      ],
      "metadata": {
        "colab": {
          "base_uri": "https://localhost:8080/"
        },
        "id": "6vcvElHc-QYB",
        "outputId": "9f5904b0-d584-40ff-f811-2ec477a88633"
      },
      "execution_count": null,
      "outputs": [
        {
          "output_type": "stream",
          "name": "stdout",
          "text": [
            "[[123 124 261 721 212 712 112 192 152]\n",
            " [123 214 261 721 212 712 112 912 521]]\n"
          ]
        }
      ]
    },
    {
      "cell_type": "markdown",
      "source": [
        "**Broadcasting**\n",
        "\n",
        "  * Smaller array should have\n",
        "    * single value or a scaler\n",
        "    * single row with number of columns equals to number of columns in larger array\n",
        "    * Single column with number of rows eqauls to number of rows in smaller array\n",
        "    * both the array have same shape"
      ],
      "metadata": {
        "id": "zfsOql1S-huO"
      }
    },
    {
      "cell_type": "markdown",
      "source": [],
      "metadata": {
        "id": "yXx5gxfFBU8E"
      }
    },
    {
      "cell_type": "code",
      "source": [
        "n3 = np.array([[3,2,6,1] , [2,4,1,6] , [3,5,2,7]])\n",
        "print(n3)"
      ],
      "metadata": {
        "colab": {
          "base_uri": "https://localhost:8080/"
        },
        "id": "Z4kW4xaC-YSy",
        "outputId": "6e705f74-0104-4904-e2a3-ba2f59d20870"
      },
      "execution_count": null,
      "outputs": [
        {
          "output_type": "stream",
          "name": "stdout",
          "text": [
            "[[3 2 6 1]\n",
            " [2 4 1 6]\n",
            " [3 5 2 7]]\n"
          ]
        }
      ]
    },
    {
      "cell_type": "code",
      "source": [
        "k = 7"
      ],
      "metadata": {
        "id": "XnRaCfEm_CrU"
      },
      "execution_count": null,
      "outputs": []
    },
    {
      "cell_type": "code",
      "source": [
        "print(n3 + 7)"
      ],
      "metadata": {
        "colab": {
          "base_uri": "https://localhost:8080/"
        },
        "id": "5g0LHawM_FD7",
        "outputId": "758c559f-d5a0-4646-a89a-204bb9c436ee"
      },
      "execution_count": null,
      "outputs": [
        {
          "output_type": "stream",
          "name": "stdout",
          "text": [
            "[[10  9 13  8]\n",
            " [ 9 11  8 13]\n",
            " [10 12  9 14]]\n"
          ]
        }
      ]
    },
    {
      "cell_type": "code",
      "source": [
        "l = [3,1,2,1]\n",
        "\n",
        "print(n3 + l)"
      ],
      "metadata": {
        "colab": {
          "base_uri": "https://localhost:8080/"
        },
        "id": "_3pmTyXh_HdT",
        "outputId": "bc8fe543-129f-4838-c308-0a1fa2524dbc"
      },
      "execution_count": null,
      "outputs": [
        {
          "output_type": "stream",
          "name": "stdout",
          "text": [
            "[[6 3 8 2]\n",
            " [5 5 3 7]\n",
            " [6 6 4 8]]\n"
          ]
        }
      ]
    },
    {
      "cell_type": "code",
      "source": [
        "print(n3)"
      ],
      "metadata": {
        "colab": {
          "base_uri": "https://localhost:8080/"
        },
        "id": "Xu-8sAQt_3wg",
        "outputId": "044db25f-29ef-4e50-8794-60487429e24e"
      },
      "execution_count": null,
      "outputs": [
        {
          "output_type": "stream",
          "name": "stdout",
          "text": [
            "[[3 2 6 1]\n",
            " [2 4 1 6]\n",
            " [3 5 2 7]]\n"
          ]
        }
      ]
    },
    {
      "cell_type": "code",
      "source": [
        "m = [[2],[1],[2]]\n",
        "print(n3 + m)"
      ],
      "metadata": {
        "colab": {
          "base_uri": "https://localhost:8080/"
        },
        "id": "qAVFHMD1_W0z",
        "outputId": "e959b6b4-0c7a-44c6-92db-cba53d147279"
      },
      "execution_count": null,
      "outputs": [
        {
          "output_type": "stream",
          "name": "stdout",
          "text": [
            "[[5 4 8 3]\n",
            " [3 5 2 7]\n",
            " [5 7 4 9]]\n"
          ]
        }
      ]
    },
    {
      "cell_type": "code",
      "source": [
        "print(n3)"
      ],
      "metadata": {
        "colab": {
          "base_uri": "https://localhost:8080/"
        },
        "id": "IuJDf_HM_ypY",
        "outputId": "f60efc29-1984-4f54-af3d-e2707e75c8ec"
      },
      "execution_count": null,
      "outputs": [
        {
          "output_type": "stream",
          "name": "stdout",
          "text": [
            "[[3 2 6 1]\n",
            " [2 4 1 6]\n",
            " [3 5 2 7]]\n"
          ]
        }
      ]
    },
    {
      "cell_type": "code",
      "source": [
        "x = [3,2,1]\n",
        "print(n3 + x)"
      ],
      "metadata": {
        "colab": {
          "base_uri": "https://localhost:8080/",
          "height": 161
        },
        "id": "pM7YAs4QAb9T",
        "outputId": "a0faf6a2-c49f-4cc2-fb88-ce241f79dc41"
      },
      "execution_count": null,
      "outputs": [
        {
          "output_type": "error",
          "ename": "ValueError",
          "evalue": "operands could not be broadcast together with shapes (3,4) (3,) ",
          "traceback": [
            "\u001b[0;31m---------------------------------------------------------------------------\u001b[0m",
            "\u001b[0;31mValueError\u001b[0m                                Traceback (most recent call last)",
            "\u001b[0;32m<ipython-input-65-f33ad04240c0>\u001b[0m in \u001b[0;36m<cell line: 0>\u001b[0;34m()\u001b[0m\n\u001b[1;32m      1\u001b[0m \u001b[0mx\u001b[0m \u001b[0;34m=\u001b[0m \u001b[0;34m[\u001b[0m\u001b[0;36m3\u001b[0m\u001b[0;34m,\u001b[0m\u001b[0;36m2\u001b[0m\u001b[0;34m,\u001b[0m\u001b[0;36m1\u001b[0m\u001b[0;34m]\u001b[0m\u001b[0;34m\u001b[0m\u001b[0;34m\u001b[0m\u001b[0m\n\u001b[0;32m----> 2\u001b[0;31m \u001b[0mprint\u001b[0m\u001b[0;34m(\u001b[0m\u001b[0mn3\u001b[0m \u001b[0;34m+\u001b[0m \u001b[0mx\u001b[0m\u001b[0;34m)\u001b[0m\u001b[0;34m\u001b[0m\u001b[0;34m\u001b[0m\u001b[0m\n\u001b[0m",
            "\u001b[0;31mValueError\u001b[0m: operands could not be broadcast together with shapes (3,4) (3,) "
          ]
        }
      ]
    },
    {
      "cell_type": "code",
      "source": [
        "x = [[3,2,1,2] , [3,2,1,2]]\n",
        "print(n3 + x)"
      ],
      "metadata": {
        "colab": {
          "base_uri": "https://localhost:8080/",
          "height": 161
        },
        "id": "ZOrX04z2AhZD",
        "outputId": "a800064c-1a9d-43c4-fa6a-3db0b18fe7aa"
      },
      "execution_count": null,
      "outputs": [
        {
          "output_type": "error",
          "ename": "ValueError",
          "evalue": "operands could not be broadcast together with shapes (3,4) (2,4) ",
          "traceback": [
            "\u001b[0;31m---------------------------------------------------------------------------\u001b[0m",
            "\u001b[0;31mValueError\u001b[0m                                Traceback (most recent call last)",
            "\u001b[0;32m<ipython-input-67-302a28257690>\u001b[0m in \u001b[0;36m<cell line: 0>\u001b[0;34m()\u001b[0m\n\u001b[1;32m      1\u001b[0m \u001b[0mx\u001b[0m \u001b[0;34m=\u001b[0m \u001b[0;34m[\u001b[0m\u001b[0;34m[\u001b[0m\u001b[0;36m3\u001b[0m\u001b[0;34m,\u001b[0m\u001b[0;36m2\u001b[0m\u001b[0;34m,\u001b[0m\u001b[0;36m1\u001b[0m\u001b[0;34m,\u001b[0m\u001b[0;36m2\u001b[0m\u001b[0;34m]\u001b[0m \u001b[0;34m,\u001b[0m \u001b[0;34m[\u001b[0m\u001b[0;36m3\u001b[0m\u001b[0;34m,\u001b[0m\u001b[0;36m2\u001b[0m\u001b[0;34m,\u001b[0m\u001b[0;36m1\u001b[0m\u001b[0;34m,\u001b[0m\u001b[0;36m2\u001b[0m\u001b[0;34m]\u001b[0m\u001b[0;34m]\u001b[0m\u001b[0;34m\u001b[0m\u001b[0;34m\u001b[0m\u001b[0m\n\u001b[0;32m----> 2\u001b[0;31m \u001b[0mprint\u001b[0m\u001b[0;34m(\u001b[0m\u001b[0mn3\u001b[0m \u001b[0;34m+\u001b[0m \u001b[0mx\u001b[0m\u001b[0;34m)\u001b[0m\u001b[0;34m\u001b[0m\u001b[0;34m\u001b[0m\u001b[0m\n\u001b[0m",
            "\u001b[0;31mValueError\u001b[0m: operands could not be broadcast together with shapes (3,4) (2,4) "
          ]
        }
      ]
    },
    {
      "cell_type": "code",
      "source": [
        "print(n3)"
      ],
      "metadata": {
        "colab": {
          "base_uri": "https://localhost:8080/"
        },
        "id": "z0Jmlwb6Am2L",
        "outputId": "4d7c3709-fe3f-4a16-b1f8-f818c5533d56"
      },
      "execution_count": null,
      "outputs": [
        {
          "output_type": "stream",
          "name": "stdout",
          "text": [
            "[[3 2 6 1]\n",
            " [2 4 1 6]\n",
            " [3 5 2 7]]\n"
          ]
        }
      ]
    },
    {
      "cell_type": "code",
      "source": [
        "n4 = np.array([[3,2,1,2] , [2,1,4,3] , [1,2,2,1]])\n",
        "print(n4)"
      ],
      "metadata": {
        "colab": {
          "base_uri": "https://localhost:8080/"
        },
        "id": "AcLSi5EABakk",
        "outputId": "e77d2619-3a1a-468f-bf87-bbb8cdc6b85d"
      },
      "execution_count": null,
      "outputs": [
        {
          "output_type": "stream",
          "name": "stdout",
          "text": [
            "[[3 2 1 2]\n",
            " [2 1 4 3]\n",
            " [1 2 2 1]]\n"
          ]
        }
      ]
    },
    {
      "cell_type": "code",
      "source": [
        "print(n3 + n4)"
      ],
      "metadata": {
        "colab": {
          "base_uri": "https://localhost:8080/"
        },
        "id": "L0MvZg5GBhyM",
        "outputId": "e8625f7f-549a-4add-913f-052cee5b5677"
      },
      "execution_count": null,
      "outputs": [
        {
          "output_type": "stream",
          "name": "stdout",
          "text": [
            "[[6 4 7 3]\n",
            " [4 5 5 9]\n",
            " [4 7 4 8]]\n"
          ]
        }
      ]
    },
    {
      "cell_type": "markdown",
      "source": [
        "**functions in numpy**"
      ],
      "metadata": {
        "id": "JCWb4Y2TBywV"
      }
    },
    {
      "cell_type": "code",
      "source": [
        "np.zeros((4,3))"
      ],
      "metadata": {
        "colab": {
          "base_uri": "https://localhost:8080/"
        },
        "id": "bULlzLJPBjz7",
        "outputId": "8b4aea1b-5d97-401b-f7f8-24d7bf0c9246"
      },
      "execution_count": null,
      "outputs": [
        {
          "output_type": "execute_result",
          "data": {
            "text/plain": [
              "array([[0., 0., 0.],\n",
              "       [0., 0., 0.],\n",
              "       [0., 0., 0.],\n",
              "       [0., 0., 0.]])"
            ]
          },
          "metadata": {},
          "execution_count": 71
        }
      ]
    },
    {
      "cell_type": "code",
      "source": [
        "np.ones((3,4))"
      ],
      "metadata": {
        "colab": {
          "base_uri": "https://localhost:8080/"
        },
        "id": "RhryKRqDB4g_",
        "outputId": "da418f59-70a4-4287-fab7-eca94d559854"
      },
      "execution_count": null,
      "outputs": [
        {
          "output_type": "execute_result",
          "data": {
            "text/plain": [
              "array([[1., 1., 1., 1.],\n",
              "       [1., 1., 1., 1.],\n",
              "       [1., 1., 1., 1.]])"
            ]
          },
          "metadata": {},
          "execution_count": 72
        }
      ]
    },
    {
      "cell_type": "code",
      "source": [
        "np.eye(4)"
      ],
      "metadata": {
        "colab": {
          "base_uri": "https://localhost:8080/"
        },
        "id": "tmRVBlLBB7gy",
        "outputId": "85aa3731-0629-4bae-95e3-5d32db8e52a5"
      },
      "execution_count": null,
      "outputs": [
        {
          "output_type": "execute_result",
          "data": {
            "text/plain": [
              "array([[1., 0., 0., 0.],\n",
              "       [0., 1., 0., 0.],\n",
              "       [0., 0., 1., 0.],\n",
              "       [0., 0., 0., 1.]])"
            ]
          },
          "metadata": {},
          "execution_count": 73
        }
      ]
    },
    {
      "cell_type": "code",
      "source": [
        "n5 = np.arange(0,36)\n",
        "print(n5)"
      ],
      "metadata": {
        "colab": {
          "base_uri": "https://localhost:8080/"
        },
        "id": "wDJQ3C-XB9Ct",
        "outputId": "fd3d62c8-62f4-4533-dcc5-6385c15ab9f1"
      },
      "execution_count": null,
      "outputs": [
        {
          "output_type": "stream",
          "name": "stdout",
          "text": [
            "[ 0  1  2  3  4  5  6  7  8  9 10 11 12 13 14 15 16 17 18 19 20 21 22 23\n",
            " 24 25 26 27 28 29 30 31 32 33 34 35]\n"
          ]
        }
      ]
    },
    {
      "cell_type": "code",
      "source": [
        "print(n5.shape)"
      ],
      "metadata": {
        "colab": {
          "base_uri": "https://localhost:8080/"
        },
        "id": "ogocL0knCUhD",
        "outputId": "675493ef-5010-4884-80ca-48045728cf72"
      },
      "execution_count": null,
      "outputs": [
        {
          "output_type": "stream",
          "name": "stdout",
          "text": [
            "(36,)\n"
          ]
        }
      ]
    },
    {
      "cell_type": "code",
      "source": [
        "#36 => (1,36) , (36,1) , (2,18) , (18,2) , (3,12) , (12,3) , (4,9) , (9,4) , (6,6)\n",
        "n6 = n5.reshape(4,9)\n",
        "print(n6)"
      ],
      "metadata": {
        "colab": {
          "base_uri": "https://localhost:8080/"
        },
        "id": "OS8vgQMMCA3A",
        "outputId": "6fd71da6-be84-4106-b292-e8ffa194099f"
      },
      "execution_count": null,
      "outputs": [
        {
          "output_type": "stream",
          "name": "stdout",
          "text": [
            "[[ 0  1  2  3  4  5  6  7  8]\n",
            " [ 9 10 11 12 13 14 15 16 17]\n",
            " [18 19 20 21 22 23 24 25 26]\n",
            " [27 28 29 30 31 32 33 34 35]]\n"
          ]
        }
      ]
    },
    {
      "cell_type": "markdown",
      "source": [
        "**dot product**"
      ],
      "metadata": {
        "id": "UowIPWnkCekq"
      }
    },
    {
      "cell_type": "code",
      "source": [
        "a = np.array([[2,3,4,1] , [3,2,4,1] , [2,1,3,2]])\n",
        "print(a)"
      ],
      "metadata": {
        "colab": {
          "base_uri": "https://localhost:8080/"
        },
        "id": "QNbkzw5oCYEk",
        "outputId": "fd03fc92-6e1f-4904-bacd-c8bbb622cc97"
      },
      "execution_count": null,
      "outputs": [
        {
          "output_type": "stream",
          "name": "stdout",
          "text": [
            "[[2 3 4 1]\n",
            " [3 2 4 1]\n",
            " [2 1 3 2]]\n"
          ]
        }
      ]
    },
    {
      "cell_type": "code",
      "source": [
        "b = np.array([[2,1,2,3] , [2,3,2,2]])\n",
        "print(b)"
      ],
      "metadata": {
        "colab": {
          "base_uri": "https://localhost:8080/"
        },
        "id": "CIRTqaopDR-B",
        "outputId": "be25ec46-73ca-4199-84bf-24cedb6d16ef"
      },
      "execution_count": null,
      "outputs": [
        {
          "output_type": "stream",
          "name": "stdout",
          "text": [
            "[[2 1 2 3]\n",
            " [2 3 2 2]]\n"
          ]
        }
      ]
    },
    {
      "cell_type": "code",
      "source": [
        "print(b.reshape(4,2))"
      ],
      "metadata": {
        "colab": {
          "base_uri": "https://localhost:8080/"
        },
        "id": "T1tkJJWLD-_3",
        "outputId": "8b8ffe46-9803-4b08-9a1f-6e54feaa6f8c"
      },
      "execution_count": null,
      "outputs": [
        {
          "output_type": "stream",
          "name": "stdout",
          "text": [
            "[[2 1]\n",
            " [2 3]\n",
            " [2 3]\n",
            " [2 2]]\n"
          ]
        }
      ]
    },
    {
      "cell_type": "code",
      "source": [
        "print(b.T)"
      ],
      "metadata": {
        "colab": {
          "base_uri": "https://localhost:8080/"
        },
        "id": "yFOzUinNDram",
        "outputId": "9424d517-8014-415c-d603-106c68937513"
      },
      "execution_count": null,
      "outputs": [
        {
          "output_type": "stream",
          "name": "stdout",
          "text": [
            "[[2 2]\n",
            " [1 3]\n",
            " [2 2]\n",
            " [3 2]]\n"
          ]
        }
      ]
    },
    {
      "cell_type": "code",
      "source": [
        "np.dot(a,b.T)"
      ],
      "metadata": {
        "colab": {
          "base_uri": "https://localhost:8080/"
        },
        "id": "DPqYsrtjDde1",
        "outputId": "d4514d08-cc33-4441-cd39-d4f8bc41b69d"
      },
      "execution_count": null,
      "outputs": [
        {
          "output_type": "execute_result",
          "data": {
            "text/plain": [
              "array([[18, 23],\n",
              "       [19, 22],\n",
              "       [17, 17]])"
            ]
          },
          "metadata": {},
          "execution_count": 85
        }
      ]
    },
    {
      "cell_type": "markdown",
      "source": [
        "* 3x + 2y + z = 10\n",
        "* x + y + z = 7\n",
        "* 2x + y + 4z = 15"
      ],
      "metadata": {
        "id": "Sbd2ykC3FBsK"
      }
    },
    {
      "cell_type": "code",
      "source": [
        "A = np.array([[3, 2, 1] , [1, 1, 1] , [2, 1, 4]])\n",
        "print(A)"
      ],
      "metadata": {
        "colab": {
          "base_uri": "https://localhost:8080/"
        },
        "id": "_w3xr54FDf9p",
        "outputId": "f12edbc6-3c3e-49f8-9bde-6ffb19a39c1f"
      },
      "execution_count": null,
      "outputs": [
        {
          "output_type": "stream",
          "name": "stdout",
          "text": [
            "[[3 2 1]\n",
            " [1 1 1]\n",
            " [2 1 4]]\n"
          ]
        }
      ]
    },
    {
      "cell_type": "code",
      "source": [
        "X = np.array([['x'],['y'],['z']])\n",
        "print(X)"
      ],
      "metadata": {
        "colab": {
          "base_uri": "https://localhost:8080/"
        },
        "id": "2MMjPcxfFOl5",
        "outputId": "f609a544-5a3b-4961-fd07-bcc1bbac91d5"
      },
      "execution_count": null,
      "outputs": [
        {
          "output_type": "stream",
          "name": "stdout",
          "text": [
            "[['x']\n",
            " ['y']\n",
            " ['z']]\n"
          ]
        }
      ]
    },
    {
      "cell_type": "code",
      "source": [
        "B = np.array([[10],[7],[15]])\n",
        "print(B)"
      ],
      "metadata": {
        "colab": {
          "base_uri": "https://localhost:8080/"
        },
        "id": "GK8UnU6XFTCA",
        "outputId": "f8c02c12-8244-4e79-f181-14054a5f23b3"
      },
      "execution_count": null,
      "outputs": [
        {
          "output_type": "stream",
          "name": "stdout",
          "text": [
            "[[10]\n",
            " [ 7]\n",
            " [15]]\n"
          ]
        }
      ]
    },
    {
      "cell_type": "code",
      "source": [
        "#A.X = B\n",
        "#X = inv(A).B"
      ],
      "metadata": {
        "id": "sJgfKKJ3FYOA"
      },
      "execution_count": null,
      "outputs": []
    },
    {
      "cell_type": "code",
      "source": [
        "Ainv = np.linalg.inv(A)\n",
        "print(Ainv)"
      ],
      "metadata": {
        "colab": {
          "base_uri": "https://localhost:8080/"
        },
        "id": "P-9_Got5Fcak",
        "outputId": "9f59938c-1b0b-4ce3-f42f-b55637248a36"
      },
      "execution_count": null,
      "outputs": [
        {
          "output_type": "stream",
          "name": "stdout",
          "text": [
            "[[ 0.75 -1.75  0.25]\n",
            " [-0.5   2.5  -0.5 ]\n",
            " [-0.25  0.25  0.25]]\n"
          ]
        }
      ]
    },
    {
      "cell_type": "code",
      "source": [
        "X = np.dot(Ainv,B)\n",
        "print(X)"
      ],
      "metadata": {
        "colab": {
          "base_uri": "https://localhost:8080/"
        },
        "id": "DszDwFX4Fh8w",
        "outputId": "f01636c4-4511-4966-da0c-6e9e3c38db3f"
      },
      "execution_count": null,
      "outputs": [
        {
          "output_type": "stream",
          "name": "stdout",
          "text": [
            "[[-1.]\n",
            " [ 5.]\n",
            " [ 3.]]\n"
          ]
        }
      ]
    },
    {
      "cell_type": "code",
      "source": [
        "print(np.dot(A, X))"
      ],
      "metadata": {
        "colab": {
          "base_uri": "https://localhost:8080/"
        },
        "id": "v02nKEPpFl2a",
        "outputId": "2c999a10-86a0-4050-9439-a6ce2a3c1c42"
      },
      "execution_count": null,
      "outputs": [
        {
          "output_type": "stream",
          "name": "stdout",
          "text": [
            "[[10.]\n",
            " [ 7.]\n",
            " [15.]]\n"
          ]
        }
      ]
    },
    {
      "cell_type": "markdown",
      "source": [
        "**stacking**\n",
        "\n",
        "  * vertical stack\n",
        "  * horizontal stack"
      ],
      "metadata": {
        "id": "fecHc295F70b"
      }
    },
    {
      "cell_type": "code",
      "source": [
        "x1 = np.array([[3,2,1,4],[4,2,5,4],[4,2,7,6]])\n",
        "print(x1)"
      ],
      "metadata": {
        "colab": {
          "base_uri": "https://localhost:8080/"
        },
        "id": "0M2dVmCuFoi4",
        "outputId": "ea4f781a-7ed4-4b9a-c4de-5068ea529fb8"
      },
      "execution_count": null,
      "outputs": [
        {
          "output_type": "stream",
          "name": "stdout",
          "text": [
            "[[3 2 1 4]\n",
            " [4 2 5 4]\n",
            " [4 2 7 6]]\n"
          ]
        }
      ]
    },
    {
      "cell_type": "code",
      "source": [
        "x2 = np.array([[2,1,3],[1,2,1],[3,4,3]])\n",
        "print(x2)"
      ],
      "metadata": {
        "colab": {
          "base_uri": "https://localhost:8080/"
        },
        "id": "D3MpHmiCGQmy",
        "outputId": "fb3a3fe2-ba1c-489d-f18e-427a5201f38c"
      },
      "execution_count": null,
      "outputs": [
        {
          "output_type": "stream",
          "name": "stdout",
          "text": [
            "[[2 1 3]\n",
            " [1 2 1]\n",
            " [3 4 3]]\n"
          ]
        }
      ]
    },
    {
      "cell_type": "code",
      "source": [
        "x3 = np.array([[2,1,3,4],[2,1,1,2]])\n",
        "print(x3)"
      ],
      "metadata": {
        "colab": {
          "base_uri": "https://localhost:8080/"
        },
        "id": "1KrleRpOGXEV",
        "outputId": "064ba80f-8472-4fba-e7b7-fe7a67b23686"
      },
      "execution_count": null,
      "outputs": [
        {
          "output_type": "stream",
          "name": "stdout",
          "text": [
            "[[2 1 3 4]\n",
            " [2 1 1 2]]\n"
          ]
        }
      ]
    },
    {
      "cell_type": "code",
      "source": [
        "#Vertical stacking\n",
        "array_vstack = np.vstack((x1,x3))\n",
        "print(array_vstack)"
      ],
      "metadata": {
        "colab": {
          "base_uri": "https://localhost:8080/"
        },
        "id": "Q753JH20Gc2z",
        "outputId": "d855e78e-6084-4ad8-94e5-8a01238d92b9"
      },
      "execution_count": null,
      "outputs": [
        {
          "output_type": "stream",
          "name": "stdout",
          "text": [
            "[[3 2 1 4]\n",
            " [4 2 5 4]\n",
            " [4 2 7 6]\n",
            " [2 1 3 4]\n",
            " [2 1 1 2]]\n"
          ]
        }
      ]
    },
    {
      "cell_type": "code",
      "source": [
        "np.concatenate((x1,x3) , axis=0)"
      ],
      "metadata": {
        "colab": {
          "base_uri": "https://localhost:8080/"
        },
        "id": "5wlYixd8Gpjr",
        "outputId": "58b6d16f-4d9f-42a0-dd37-4dcc716a1af2"
      },
      "execution_count": null,
      "outputs": [
        {
          "output_type": "execute_result",
          "data": {
            "text/plain": [
              "array([[3, 2, 1, 4],\n",
              "       [4, 2, 5, 4],\n",
              "       [4, 2, 7, 6],\n",
              "       [2, 1, 3, 4],\n",
              "       [2, 1, 1, 2]])"
            ]
          },
          "metadata": {},
          "execution_count": 103
        }
      ]
    },
    {
      "cell_type": "code",
      "source": [
        "#Horizontal stacking\n",
        "array_hstack = np.hstack((x1,x2))\n",
        "print(array_hstack)"
      ],
      "metadata": {
        "colab": {
          "base_uri": "https://localhost:8080/"
        },
        "id": "FargsKH0G2F6",
        "outputId": "e285bb41-7aa6-4f94-e9f7-aacbe5b68b72"
      },
      "execution_count": null,
      "outputs": [
        {
          "output_type": "stream",
          "name": "stdout",
          "text": [
            "[[3 2 1 4 2 1 3]\n",
            " [4 2 5 4 1 2 1]\n",
            " [4 2 7 6 3 4 3]]\n"
          ]
        }
      ]
    },
    {
      "cell_type": "code",
      "source": [
        "np.concatenate((x1,x2) , axis=1)"
      ],
      "metadata": {
        "colab": {
          "base_uri": "https://localhost:8080/"
        },
        "id": "2sCLjsBFG8we",
        "outputId": "e5e6eec5-25c7-4247-aad0-a2b610ee3f6b"
      },
      "execution_count": null,
      "outputs": [
        {
          "output_type": "execute_result",
          "data": {
            "text/plain": [
              "array([[3, 2, 1, 4, 2, 1, 3],\n",
              "       [4, 2, 5, 4, 1, 2, 1],\n",
              "       [4, 2, 7, 6, 3, 4, 3]])"
            ]
          },
          "metadata": {},
          "execution_count": 107
        }
      ]
    },
    {
      "cell_type": "code",
      "source": [],
      "metadata": {
        "id": "grb2L3wlG_xC"
      },
      "execution_count": null,
      "outputs": []
    }
  ]
}