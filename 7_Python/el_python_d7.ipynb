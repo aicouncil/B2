{
 "cells": [
  {
   "cell_type": "code",
   "execution_count": 31,
   "id": "1a6650ff-2689-408e-a77f-334dbda2ba6b",
   "metadata": {},
   "outputs": [
    {
     "name": "stdout",
     "output_type": "stream",
     "text": [
      "Arun\n"
     ]
    }
   ],
   "source": [
    "name = \"Arun\"\n",
    "print(name)"
   ]
  },
  {
   "cell_type": "code",
   "execution_count": 32,
   "id": "56c8b5e3-89b4-4faa-9683-317aea8cf5e1",
   "metadata": {},
   "outputs": [
    {
     "name": "stdout",
     "output_type": "stream",
     "text": [
      "11\n"
     ]
    }
   ],
   "source": [
    "x = 8\n",
    "y = 3\n",
    "z = x + y\n",
    "print(z)"
   ]
  },
  {
   "cell_type": "code",
   "execution_count": 33,
   "id": "a5aa2c4b-60c1-4b0c-9f44-02802fc13bb9",
   "metadata": {},
   "outputs": [],
   "source": [
    "name = \"Joy\"\n",
    "age = 23"
   ]
  },
  {
   "cell_type": "code",
   "execution_count": 34,
   "id": "653c36c7-0681-4336-81bf-c2829daf009b",
   "metadata": {},
   "outputs": [
    {
     "name": "stdout",
     "output_type": "stream",
     "text": [
      "Joy\n"
     ]
    }
   ],
   "source": [
    "print(name)"
   ]
  },
  {
   "cell_type": "code",
   "execution_count": 13,
   "id": "3af7e4de-ca81-4d4b-96f1-a2ed061c2846",
   "metadata": {},
   "outputs": [],
   "source": [
    "def show_details(name,age):\n",
    "    details = {'name' : name , 'age' : age}\n",
    "    return details"
   ]
  },
  {
   "cell_type": "code",
   "execution_count": 14,
   "id": "8b40f805-b093-41da-914d-9ce2b62e93f0",
   "metadata": {},
   "outputs": [
    {
     "data": {
      "text/plain": [
       "{'name': 'Ajay', 'age': 12}"
      ]
     },
     "execution_count": 14,
     "metadata": {},
     "output_type": "execute_result"
    }
   ],
   "source": [
    "show_details(\"Ajay\" , 12)"
   ]
  },
  {
   "cell_type": "code",
   "execution_count": 15,
   "id": "0faf8e49-761a-4518-a6b0-70329083564f",
   "metadata": {},
   "outputs": [],
   "source": [
    "def show_details(name,age):\n",
    "    print(\"hello World\")"
   ]
  },
  {
   "cell_type": "code",
   "execution_count": 16,
   "id": "53c8fc5b-d7aa-428c-a7c6-099b7e7b2c1f",
   "metadata": {},
   "outputs": [
    {
     "name": "stdout",
     "output_type": "stream",
     "text": [
      "hello World\n"
     ]
    }
   ],
   "source": [
    "show_details(name,age)"
   ]
  },
  {
   "cell_type": "markdown",
   "id": "b6d49172-27e1-4a72-a049-506e8ca62802",
   "metadata": {},
   "source": [
    "**Object oriented Programming - Class**\n",
    "\n",
    "    * A class has two units\n",
    "        * variable - the property or attribute of class\n",
    "        * function/methods - the behaviour of class"
   ]
  },
  {
   "cell_type": "code",
   "execution_count": 17,
   "id": "27f814ac-86c8-47d6-bc1c-869b12d75a7e",
   "metadata": {},
   "outputs": [],
   "source": [
    "class myClass:\n",
    "    pass"
   ]
  },
  {
   "cell_type": "code",
   "execution_count": 18,
   "id": "51827902-51f9-4eef-9ad3-9832c3dbf112",
   "metadata": {},
   "outputs": [],
   "source": [
    "obj1 = myClass()"
   ]
  },
  {
   "cell_type": "code",
   "execution_count": 26,
   "id": "0c84496f-b9db-439e-88e7-c5b4090f41ac",
   "metadata": {},
   "outputs": [],
   "source": [
    "color = 'blue'"
   ]
  },
  {
   "cell_type": "code",
   "execution_count": 50,
   "id": "04597e91-6d42-46ee-9d13-c02fed1609cd",
   "metadata": {},
   "outputs": [],
   "source": [
    "class vehicle:\n",
    "    color = 'red'         #property or attribute of class\n",
    "\n",
    "    def drive(self):          #behaviour or method of class => method with a class defined with a default paramater self => self represents or handle instances\n",
    "        return \"120 km/h\""
   ]
  },
  {
   "cell_type": "code",
   "execution_count": 54,
   "id": "5f4c682d-abd7-4bee-9959-07c767682a2c",
   "metadata": {},
   "outputs": [],
   "source": [
    "v1 = vehicle()      #v1 is object or instance of a class"
   ]
  },
  {
   "cell_type": "code",
   "execution_count": 52,
   "id": "0addf7ef-ee08-45b7-b4be-0613c6bf9c98",
   "metadata": {},
   "outputs": [
    {
     "name": "stdout",
     "output_type": "stream",
     "text": [
      "red\n"
     ]
    }
   ],
   "source": [
    "print(v1.color)"
   ]
  },
  {
   "cell_type": "code",
   "execution_count": 49,
   "id": "7cc0fbc3-f6d7-43cc-b63d-1c62b81f5a75",
   "metadata": {},
   "outputs": [
    {
     "data": {
      "text/plain": [
       "\"120 km'h\""
      ]
     },
     "execution_count": 49,
     "metadata": {},
     "output_type": "execute_result"
    }
   ],
   "source": [
    "v1.drive()"
   ]
  },
  {
   "cell_type": "code",
   "execution_count": 36,
   "id": "9a6b4989-2351-4d8c-833f-e7785119a899",
   "metadata": {},
   "outputs": [
    {
     "name": "stdout",
     "output_type": "stream",
     "text": [
      "blue\n"
     ]
    }
   ],
   "source": [
    "print(color)"
   ]
  },
  {
   "cell_type": "code",
   "execution_count": 69,
   "id": "a7c0c91e-673c-4a08-bedc-b0354a60a708",
   "metadata": {},
   "outputs": [],
   "source": [
    "class employee:\n",
    "\n",
    "    def emp_details(self):\n",
    "        self.name = 'Ajay'\n",
    "        self.age = 23\n",
    "\n",
    "    def show_details(self):\n",
    "        details = {'name' : self.name , 'age' : self.age}\n",
    "        return details\n",
    "        "
   ]
  },
  {
   "cell_type": "code",
   "execution_count": 70,
   "id": "e70b0ff9-6e1e-4f5a-b04b-5d9608105da8",
   "metadata": {},
   "outputs": [],
   "source": [
    "e1 = employee()"
   ]
  },
  {
   "cell_type": "code",
   "execution_count": 71,
   "id": "de6e840a-4034-43e2-a163-a3bb75dd7c69",
   "metadata": {},
   "outputs": [],
   "source": [
    "e1.emp_details()"
   ]
  },
  {
   "cell_type": "code",
   "execution_count": 72,
   "id": "fa4f02b5-ac9d-4054-9de7-be8c00c04be7",
   "metadata": {},
   "outputs": [
    {
     "data": {
      "text/plain": [
       "{'name': 'Ajay', 'age': 23}"
      ]
     },
     "execution_count": 72,
     "metadata": {},
     "output_type": "execute_result"
    }
   ],
   "source": [
    "e1.show_details()"
   ]
  },
  {
   "cell_type": "markdown",
   "id": "b1ea5de4-3729-4f45-a36d-c0b039a736cc",
   "metadata": {},
   "source": [
    "* Self lets you access instance variables and other methods from within the class"
   ]
  },
  {
   "cell_type": "code",
   "execution_count": 87,
   "id": "aa32b4b6-36e6-4872-a1ec-16542c8bfb38",
   "metadata": {},
   "outputs": [],
   "source": [
    "class employee:\n",
    "\n",
    "    def emp_details(self,e_name,e_age):\n",
    "        self.name = e_name\n",
    "        self.age = e_age\n",
    "\n",
    "    def show_details(self):\n",
    "        details = {'name' : self.name , 'age' : self.age}\n",
    "        return details"
   ]
  },
  {
   "cell_type": "code",
   "execution_count": 88,
   "id": "ae5eabc5-4be4-4afd-8bfd-2db4ce5d875d",
   "metadata": {},
   "outputs": [],
   "source": [
    "e1 = employee()\n",
    "e1.emp_details('Pratik' , 22)"
   ]
  },
  {
   "cell_type": "code",
   "execution_count": 89,
   "id": "c98b03f2-29b1-4914-9bc0-b79b0dc0d345",
   "metadata": {},
   "outputs": [],
   "source": [
    "e2 = employee()\n",
    "e2.emp_details('Rajesh' , 23)"
   ]
  },
  {
   "cell_type": "code",
   "execution_count": 90,
   "id": "1a523303-d41a-4e3a-acdf-96cc8449635a",
   "metadata": {},
   "outputs": [
    {
     "data": {
      "text/plain": [
       "{'name': 'Pratik', 'age': 22}"
      ]
     },
     "execution_count": 90,
     "metadata": {},
     "output_type": "execute_result"
    }
   ],
   "source": [
    "e1.show_details()"
   ]
  },
  {
   "cell_type": "code",
   "execution_count": 91,
   "id": "ca76c974-34a4-4291-8b53-549ba0615aac",
   "metadata": {},
   "outputs": [
    {
     "data": {
      "text/plain": [
       "{'name': 'Rajesh', 'age': 23}"
      ]
     },
     "execution_count": 91,
     "metadata": {},
     "output_type": "execute_result"
    }
   ],
   "source": [
    "e2.show_details()"
   ]
  },
  {
   "cell_type": "code",
   "execution_count": 92,
   "id": "5562351d-d43c-4d50-b68b-7355060a3c13",
   "metadata": {},
   "outputs": [
    {
     "name": "stdout",
     "output_type": "stream",
     "text": [
      "Pratik Rajesh\n"
     ]
    }
   ],
   "source": [
    "print(e1.name, e2.name)"
   ]
  },
  {
   "cell_type": "code",
   "execution_count": 121,
   "id": "6da3c015-ebc9-4e67-8ecd-9885b22d7757",
   "metadata": {},
   "outputs": [],
   "source": [
    "#Student class \n",
    "#A variable to count number of students\n",
    "#A method to feed student details\n",
    "#A method to show student details\n",
    "#A method to add marks to the students\n",
    "\n",
    "class students:\n",
    "\n",
    "    count = 0\n",
    "    \n",
    "    def student_details(self,name,standard):\n",
    "        self.name = name\n",
    "        self.class_studying = standard\n",
    "        students.count = students.count + 1\n",
    "        \n",
    "    def add_marks(self,marks):\n",
    "        self.marks = marks\n",
    "\n",
    "    def show_details(self):\n",
    "        details = {'name' : self.name , 'class' : self.class_studying , 'marks' : self.marks}\n",
    "        return details\n",
    "\n",
    "    def show_count(self):\n",
    "        return self.count"
   ]
  },
  {
   "cell_type": "code",
   "execution_count": 122,
   "id": "78136ddb-ee1d-4630-8e03-08f8a457aad1",
   "metadata": {},
   "outputs": [],
   "source": [
    "s1 = students()\n",
    "\n",
    "s1.student_details('Arun' , '5th')\n",
    "s1.add_marks(34)"
   ]
  },
  {
   "cell_type": "code",
   "execution_count": 123,
   "id": "8ef03130-f8b0-431c-b11e-974a8a4312b2",
   "metadata": {},
   "outputs": [
    {
     "data": {
      "text/plain": [
       "{'name': 'Arun', 'class': '5th', 'marks': 34}"
      ]
     },
     "execution_count": 123,
     "metadata": {},
     "output_type": "execute_result"
    }
   ],
   "source": [
    "s1.show_details()"
   ]
  },
  {
   "cell_type": "code",
   "execution_count": 124,
   "id": "ab13f85f-328e-4227-953b-ee487cab5138",
   "metadata": {},
   "outputs": [
    {
     "data": {
      "text/plain": [
       "{'name': 'Amir', 'class': '4th', 'marks': 32}"
      ]
     },
     "execution_count": 124,
     "metadata": {},
     "output_type": "execute_result"
    }
   ],
   "source": [
    "s2 = students()\n",
    "\n",
    "s2.student_details(\"Amir\" , \"4th\")\n",
    "s2.add_marks(32)\n",
    "\n",
    "s2.show_details()"
   ]
  },
  {
   "cell_type": "code",
   "execution_count": 125,
   "id": "20384f34-15ba-48fb-9b97-d9ba2ed402e6",
   "metadata": {},
   "outputs": [
    {
     "name": "stdout",
     "output_type": "stream",
     "text": [
      "Arun\n",
      "Amir\n",
      "\n",
      "34\n",
      "32\n",
      "\n",
      "5th\n",
      "4th\n"
     ]
    }
   ],
   "source": [
    "print(s1.name)\n",
    "print(s2.name)\n",
    "print()\n",
    "print(s1.marks)\n",
    "print(s2.marks)\n",
    "print()\n",
    "print(s1.class_studying)\n",
    "print(s2.class_studying)"
   ]
  },
  {
   "cell_type": "code",
   "execution_count": 126,
   "id": "c0149ece-baa0-4227-83e5-e2d615c93840",
   "metadata": {},
   "outputs": [
    {
     "data": {
      "text/plain": [
       "2"
      ]
     },
     "execution_count": 126,
     "metadata": {},
     "output_type": "execute_result"
    }
   ],
   "source": [
    "s1.show_count()"
   ]
  },
  {
   "cell_type": "code",
   "execution_count": 127,
   "id": "505317b6-42ba-4315-a463-cc131d080b82",
   "metadata": {},
   "outputs": [
    {
     "data": {
      "text/plain": [
       "2"
      ]
     },
     "execution_count": 127,
     "metadata": {},
     "output_type": "execute_result"
    }
   ],
   "source": [
    "s2.show_count()"
   ]
  },
  {
   "cell_type": "markdown",
   "id": "846212ee-fc52-4c71-8c66-5aee2f5c0d8e",
   "metadata": {},
   "source": [
    "**Initialiser / Constructor**"
   ]
  },
  {
   "cell_type": "code",
   "execution_count": 173,
   "id": "36c92c53-ffc1-4f4a-afbb-270c08227000",
   "metadata": {},
   "outputs": [],
   "source": [
    "class students:\n",
    "\n",
    "    def __init__(self,name,std):\n",
    "        self.name = name\n",
    "        self.standard = std\n",
    "\n",
    "    def add_marks(self, marks):\n",
    "        self.marks = marks\n",
    "        if self.marks > 90:\n",
    "            self.grades = 'A+'\n",
    "        elif self.marks > 80:\n",
    "            self.grades = 'A'\n",
    "        elif self.marks > 80:\n",
    "            self.grades = 'B+'\n",
    "        elif self.marks > 70:\n",
    "            self.grades = 'B'\n",
    "        else:\n",
    "            self.grades = 'C'\n",
    "\n",
    "    def show_details(self):\n",
    "        details = {'name' : self.name, 'Standard' : self.standard , 'Marks' : self.marks , 'Grades' : self.grades}\n",
    "        return details"
   ]
  },
  {
   "cell_type": "code",
   "execution_count": 174,
   "id": "4e703328-f84a-47df-9f48-eb1547a5fdb1",
   "metadata": {},
   "outputs": [],
   "source": [
    "s1 = students(\"Abhay\" , \"6th\")\n",
    "s2 = students(\"Pavan\" , \"5th\")\n",
    "s3 = students(\"Sameer\" , \"4th\")\n",
    "s4 = students(\"Ritu\" , \"7th\")"
   ]
  },
  {
   "cell_type": "code",
   "execution_count": 175,
   "id": "62e7904f-9a05-44a8-b5d2-0e5cfc0b8768",
   "metadata": {},
   "outputs": [],
   "source": [
    "s1.add_marks(80)\n",
    "s2.add_marks(87)\n",
    "s3.add_marks(92)\n",
    "s4.add_marks(77)"
   ]
  },
  {
   "cell_type": "code",
   "execution_count": 176,
   "id": "35f7b4da-1ca8-44b6-8334-ce49f4b1ca82",
   "metadata": {},
   "outputs": [
    {
     "name": "stdout",
     "output_type": "stream",
     "text": [
      "Abhay\n",
      "6th\n",
      "80\n"
     ]
    }
   ],
   "source": [
    "print(s1.name)\n",
    "print(s1.standard)\n",
    "print(s1.marks)"
   ]
  },
  {
   "cell_type": "code",
   "execution_count": 177,
   "id": "64584d94-e2f5-4f13-a619-7e680a7b8069",
   "metadata": {},
   "outputs": [
    {
     "name": "stdout",
     "output_type": "stream",
     "text": [
      "Pavan\n",
      "5th\n",
      "87\n"
     ]
    }
   ],
   "source": [
    "print(s2.name)\n",
    "print(s2.standard)\n",
    "print(s2.marks)"
   ]
  },
  {
   "cell_type": "code",
   "execution_count": 178,
   "id": "fe392ca0-129b-492f-8245-71a59ad1e361",
   "metadata": {},
   "outputs": [
    {
     "name": "stdout",
     "output_type": "stream",
     "text": [
      "Sameer\n",
      "4th\n",
      "92\n"
     ]
    }
   ],
   "source": [
    "print(s3.name)\n",
    "print(s3.standard)\n",
    "print(s3.marks)"
   ]
  },
  {
   "cell_type": "code",
   "execution_count": 179,
   "id": "b9a6df33-18ac-46d4-995b-e98d36d9d4bf",
   "metadata": {},
   "outputs": [
    {
     "name": "stdout",
     "output_type": "stream",
     "text": [
      "{'name': 'Abhay', 'Standard': '6th', 'Marks': 80, 'Grades': 'B'}\n",
      "{'name': 'Pavan', 'Standard': '5th', 'Marks': 87, 'Grades': 'A'}\n",
      "{'name': 'Sameer', 'Standard': '4th', 'Marks': 92, 'Grades': 'A+'}\n",
      "{'name': 'Ritu', 'Standard': '7th', 'Marks': 77, 'Grades': 'B'}\n"
     ]
    }
   ],
   "source": [
    "print(s1.show_details())\n",
    "print(s2.show_details())\n",
    "print(s3.show_details())\n",
    "print(s4.show_details())"
   ]
  },
  {
   "cell_type": "markdown",
   "id": "34972e4b-5a98-485a-af2c-27de461adb03",
   "metadata": {},
   "source": [
    "**modifiers - public and private**"
   ]
  },
  {
   "cell_type": "code",
   "execution_count": 180,
   "id": "c854a8cf-6dab-4983-947d-8293b2a05391",
   "metadata": {},
   "outputs": [],
   "source": [
    "class students:\n",
    "\n",
    "    def __init__(self,name,std):\n",
    "        self.__name = name                 #now name variable is private - accessible within class and its methods only\n",
    "        self.__standard = std              #now standard variable is private - accessible within class and its methods only\n",
    "\n",
    "    def add_marks(self, marks):\n",
    "        self.marks = marks\n",
    "        if self.marks > 90:\n",
    "            self.grades = 'A+'\n",
    "        elif self.marks > 80:\n",
    "            self.grades = 'A'\n",
    "        elif self.marks > 80:\n",
    "            self.grades = 'B+'\n",
    "        elif self.marks > 70:\n",
    "            self.grades = 'B'\n",
    "        else:\n",
    "            self.grades = 'C'\n",
    "\n",
    "    def show_details(self):\n",
    "        details = {'name' : self.__name, 'Standard' : self.__standard , 'Marks' : self.marks , 'Grades' : self.grades}\n",
    "        return details"
   ]
  },
  {
   "cell_type": "code",
   "execution_count": 181,
   "id": "11357a42-9eb8-4adc-b3a0-ff7915c48a7d",
   "metadata": {},
   "outputs": [],
   "source": [
    "ps1 = students(\"Abhay\" , \"6th\")\n",
    "ps2 = students(\"Pavan\" , \"5th\")\n",
    "ps3 = students(\"Sameer\" , \"4th\")\n",
    "ps4 = students(\"Ritu\" , \"7th\")"
   ]
  },
  {
   "cell_type": "code",
   "execution_count": 182,
   "id": "b051d982-da20-42c0-91c0-a6edffc179d4",
   "metadata": {},
   "outputs": [],
   "source": [
    "ps1.add_marks(80)\n",
    "ps2.add_marks(87)\n",
    "ps3.add_marks(92)\n",
    "ps4.add_marks(77)"
   ]
  },
  {
   "cell_type": "code",
   "execution_count": 183,
   "id": "820b5bf3-5b3b-4020-a164-e0c8c720df98",
   "metadata": {},
   "outputs": [
    {
     "name": "stdout",
     "output_type": "stream",
     "text": [
      "{'name': 'Abhay', 'Standard': '6th', 'Marks': 80, 'Grades': 'B'}\n",
      "{'name': 'Pavan', 'Standard': '5th', 'Marks': 87, 'Grades': 'A'}\n",
      "{'name': 'Sameer', 'Standard': '4th', 'Marks': 92, 'Grades': 'A+'}\n",
      "{'name': 'Ritu', 'Standard': '7th', 'Marks': 77, 'Grades': 'B'}\n"
     ]
    }
   ],
   "source": [
    "print(ps1.show_details())\n",
    "print(ps2.show_details())\n",
    "print(ps3.show_details())\n",
    "print(ps4.show_details())"
   ]
  },
  {
   "cell_type": "code",
   "execution_count": 184,
   "id": "c7772f1b-01da-4edc-a570-0776d203a460",
   "metadata": {},
   "outputs": [
    {
     "ename": "AttributeError",
     "evalue": "'students' object has no attribute '__name'",
     "output_type": "error",
     "traceback": [
      "\u001b[31m---------------------------------------------------------------------------\u001b[39m",
      "\u001b[31mAttributeError\u001b[39m                            Traceback (most recent call last)",
      "\u001b[36mCell\u001b[39m\u001b[36m \u001b[39m\u001b[32mIn[184]\u001b[39m\u001b[32m, line 1\u001b[39m\n\u001b[32m----> \u001b[39m\u001b[32m1\u001b[39m \u001b[38;5;28mprint\u001b[39m(\u001b[43mps1\u001b[49m\u001b[43m.\u001b[49m\u001b[43m__name\u001b[49m)\n\u001b[32m      2\u001b[39m \u001b[38;5;28mprint\u001b[39m(ps1.__standard)\n\u001b[32m      3\u001b[39m \u001b[38;5;28mprint\u001b[39m(ps1.marks)\n",
      "\u001b[31mAttributeError\u001b[39m: 'students' object has no attribute '__name'"
     ]
    }
   ],
   "source": [
    "print(ps1.__name)\n",
    "print(ps1.__standard)\n",
    "print(ps1.marks)"
   ]
  },
  {
   "cell_type": "code",
   "execution_count": null,
   "id": "b4d6f466-f046-43d3-9831-db2b525070a2",
   "metadata": {},
   "outputs": [],
   "source": []
  }
 ],
 "metadata": {
  "kernelspec": {
   "display_name": "Python 3 (ipykernel)",
   "language": "python",
   "name": "python3"
  },
  "language_info": {
   "codemirror_mode": {
    "name": "ipython",
    "version": 3
   },
   "file_extension": ".py",
   "mimetype": "text/x-python",
   "name": "python",
   "nbconvert_exporter": "python",
   "pygments_lexer": "ipython3",
   "version": "3.11.9"
  }
 },
 "nbformat": 4,
 "nbformat_minor": 5
}
