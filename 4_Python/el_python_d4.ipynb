{
 "cells": [
  {
   "cell_type": "markdown",
   "id": "37e6d4eb-17b9-4e73-ac8b-19d9c50bc12a",
   "metadata": {},
   "source": [
    "**Loop**\n",
    "\n",
    "    * If we want to iterate a program for some fixed number of times or infinite number of times"
   ]
  },
  {
   "cell_type": "markdown",
   "id": "6d4ec4a9-0c0a-4139-8dc6-628963eb5dae",
   "metadata": {},
   "source": [
    "**for loop**"
   ]
  },
  {
   "cell_type": "code",
   "execution_count": 3,
   "id": "aa1b57d0-bb25-4779-8d8b-4d47f8c103a7",
   "metadata": {},
   "outputs": [
    {
     "name": "stdout",
     "output_type": "stream",
     "text": [
      "Hello World\n",
      "Hello World\n",
      "Hello World\n",
      "Hello World\n",
      "Hello World\n"
     ]
    }
   ],
   "source": [
    "print(\"Hello World\")\n",
    "print(\"Hello World\")\n",
    "print(\"Hello World\")\n",
    "print(\"Hello World\")\n",
    "print(\"Hello World\")"
   ]
  },
  {
   "cell_type": "code",
   "execution_count": 8,
   "id": "ec7fc2e5-499a-4b13-8e11-006672f6ec81",
   "metadata": {},
   "outputs": [
    {
     "name": "stdout",
     "output_type": "stream",
     "text": [
      "0 Hello World\n",
      "1 Hello World\n",
      "2 Hello World\n",
      "3 Hello World\n",
      "4 Hello World\n"
     ]
    }
   ],
   "source": [
    "for i in range(0,5):\n",
    "    print(i , \"Hello World\")"
   ]
  },
  {
   "cell_type": "code",
   "execution_count": 6,
   "id": "6f9d8c50-4c99-4c79-be61-ab3f7a9044d0",
   "metadata": {},
   "outputs": [
    {
     "name": "stdout",
     "output_type": "stream",
     "text": [
      "1 Hello World\n",
      "2 Hello World\n",
      "3 Hello World\n",
      "4 Hello World\n"
     ]
    }
   ],
   "source": [
    "for i in range(1,5):\n",
    "    print(i , \"Hello World\")"
   ]
  },
  {
   "cell_type": "code",
   "execution_count": 13,
   "id": "857b5a9f-f07b-4db2-bc7b-0696f23b4e43",
   "metadata": {},
   "outputs": [
    {
     "name": "stdout",
     "output_type": "stream",
     "text": [
      "5 * 1 =  5\n",
      "5 * 2 =  10\n",
      "5 * 3 =  15\n",
      "5 * 4 =  20\n",
      "5 * 5 =  25\n"
     ]
    }
   ],
   "source": [
    "#write a multiplication tsable of 5\n",
    "\n",
    "print(\"5 * 1 = \", 5 * 1)\n",
    "print(\"5 * 2 = \", 5 * 2)\n",
    "print(\"5 * 3 = \", 5 * 3)\n",
    "print(\"5 * 4 = \", 5 * 4)\n",
    "print(\"5 * 5 = \", 5 * 5)"
   ]
  },
  {
   "cell_type": "code",
   "execution_count": 17,
   "id": "e2229f9a-b4b0-4cd4-aa07-811c6c206783",
   "metadata": {},
   "outputs": [
    {
     "name": "stdout",
     "output_type": "stream",
     "text": [
      "5 * 1 =  5\n",
      "5 * 2 =  10\n",
      "5 * 3 =  15\n",
      "5 * 4 =  20\n",
      "5 * 5 =  25\n",
      "5 * 6 =  30\n",
      "5 * 7 =  35\n",
      "5 * 8 =  40\n",
      "5 * 9 =  45\n",
      "5 * 10 =  50\n"
     ]
    }
   ],
   "source": [
    "for i in range(1,11):\n",
    "    print(f\"5 * {i} = \" , 5 * i)"
   ]
  },
  {
   "cell_type": "code",
   "execution_count": 18,
   "id": "0c69b612-6b66-4159-8ec4-cd0c503451a6",
   "metadata": {},
   "outputs": [
    {
     "name": "stdout",
     "output_type": "stream",
     "text": [
      "5 * 1 =  5\n",
      "5 * 2 =  10\n",
      "5 * 3 =  15\n",
      "5 * 4 =  20\n",
      "5 * 5 =  25\n"
     ]
    }
   ],
   "source": [
    "for i in range(1,11):\n",
    "    if i == 6:\n",
    "        break\n",
    "    print(f\"5 * {i} = \" , 5 * i)"
   ]
  },
  {
   "cell_type": "code",
   "execution_count": 20,
   "id": "8eb9e681-5585-4539-a7ab-0256dac13614",
   "metadata": {},
   "outputs": [
    {
     "name": "stdin",
     "output_type": "stream",
     "text": [
      "Enter user id admin\n",
      "Enter password sdfg\n"
     ]
    },
    {
     "name": "stdout",
     "output_type": "stream",
     "text": [
      "Login failed\n"
     ]
    },
    {
     "name": "stdin",
     "output_type": "stream",
     "text": [
      "Enter user id asdfg\n",
      "Enter password password\n"
     ]
    },
    {
     "name": "stdout",
     "output_type": "stream",
     "text": [
      "Login failed\n"
     ]
    },
    {
     "name": "stdin",
     "output_type": "stream",
     "text": [
      "Enter user id admin\n",
      "Enter password password\n"
     ]
    },
    {
     "name": "stdout",
     "output_type": "stream",
     "text": [
      "Login success\n"
     ]
    }
   ],
   "source": [
    "#create a login program which can give 4 attempts to login incase of incorrect credentials, but it should break if user entered correct id,password\n",
    "\n",
    "for i in range(1,5):\n",
    "    user_name = input(\"Enter user id\")\n",
    "    user_password = input(\"Enter password\")\n",
    "    \n",
    "    if (user_name == 'admin' and user_password == 'password'):\n",
    "        print(\"Login success\")\n",
    "        break\n",
    "    else:\n",
    "        print(\"Login failed\")"
   ]
  },
  {
   "cell_type": "code",
   "execution_count": 21,
   "id": "1b2fd92e-2f02-4761-9f31-3dc7c22da6e0",
   "metadata": {},
   "outputs": [
    {
     "name": "stdout",
     "output_type": "stream",
     "text": [
      "5 * 1 =  5\n",
      "5 * 2 =  10\n",
      "5 * 3 =  15\n",
      "5 * 4 =  20\n",
      "5 * 5 =  25\n",
      "5 * 7 =  35\n",
      "5 * 8 =  40\n",
      "5 * 9 =  45\n",
      "5 * 10 =  50\n"
     ]
    }
   ],
   "source": [
    "for i in range(1,11):\n",
    "    if i == 6:\n",
    "        continue\n",
    "    print(f\"5 * {i} = \" , 5 * i)"
   ]
  },
  {
   "cell_type": "code",
   "execution_count": 25,
   "id": "b05a1e08-93ef-4d86-8b87-4026bc42b768",
   "metadata": {},
   "outputs": [
    {
     "name": "stdout",
     "output_type": "stream",
     "text": [
      "Pavan 5\n",
      "Ajay 4\n",
      "Amar 4\n",
      "Sanjay 6\n",
      "Vijay 5\n"
     ]
    }
   ],
   "source": [
    "names = [\"Pavan\" , \"Ajay\" , \"Amar\" , \"Sanjay\" , \"Vijay\"]\n",
    "\n",
    "print(names[0] , len(names[0]))\n",
    "print(names[1] , len(names[1]))\n",
    "print(names[2] , len(names[2]))\n",
    "print(names[3] , len(names[3]))\n",
    "print(names[4] , len(names[4]))"
   ]
  },
  {
   "cell_type": "code",
   "execution_count": 29,
   "id": "e9ac7a18-a838-4396-a252-2a8222d0980a",
   "metadata": {},
   "outputs": [
    {
     "name": "stdout",
     "output_type": "stream",
     "text": [
      "Pavan 5\n",
      "Ajay 4\n",
      "Amar 4\n",
      "Sanjay 6\n",
      "Vijay 5\n"
     ]
    }
   ],
   "source": [
    "for i in range(0,5):\n",
    "    print(names[i] , len(names[i]))"
   ]
  },
  {
   "cell_type": "code",
   "execution_count": 31,
   "id": "af2566d7-ae71-49e9-9479-521c3127c05d",
   "metadata": {},
   "outputs": [
    {
     "name": "stdout",
     "output_type": "stream",
     "text": [
      "Pavan 5\n",
      "Ajay 4\n",
      "Amar 4\n",
      "Sanjay 6\n",
      "Vijay 5\n"
     ]
    }
   ],
   "source": [
    "for name in names:\n",
    "    print(name , len(name))"
   ]
  },
  {
   "cell_type": "code",
   "execution_count": 32,
   "id": "098a072d-a00d-4465-a1f2-5d5104fe2b3a",
   "metadata": {},
   "outputs": [],
   "source": [
    "student = {'name': 'Arun',\n",
    "           'age' : 15,\n",
    "           'subject' : 'Physics'}"
   ]
  },
  {
   "cell_type": "code",
   "execution_count": 34,
   "id": "ad05171a-4c2a-4cb7-9ad3-a87f507240b6",
   "metadata": {},
   "outputs": [
    {
     "name": "stdout",
     "output_type": "stream",
     "text": [
      "Arun\n",
      "15\n",
      "Physics\n"
     ]
    }
   ],
   "source": [
    "for k in student:\n",
    "    print(student[k])"
   ]
  },
  {
   "cell_type": "markdown",
   "id": "48c10456-61ff-4ee1-8b55-cd144e5e4b2b",
   "metadata": {},
   "source": [
    "**while loop**"
   ]
  },
  {
   "cell_type": "code",
   "execution_count": 42,
   "id": "355066df-6de2-4952-9226-ef090efc1d17",
   "metadata": {},
   "outputs": [
    {
     "name": "stdout",
     "output_type": "stream",
     "text": [
      "i is smaller then 5\n"
     ]
    }
   ],
   "source": [
    "i = 0\n",
    "\n",
    "if i <= 5:\n",
    "    print('i is smaller then 5')"
   ]
  },
  {
   "cell_type": "code",
   "execution_count": 44,
   "id": "053c2eaf-5af4-48e6-b469-70eb0f62a9d8",
   "metadata": {},
   "outputs": [
    {
     "name": "stdout",
     "output_type": "stream",
     "text": [
      "0 i is smaller then 5\n",
      "1 i is smaller then 5\n",
      "2 i is smaller then 5\n",
      "3 i is smaller then 5\n",
      "4 i is smaller then 5\n",
      "5 i is smaller then 5\n"
     ]
    }
   ],
   "source": [
    "i = 0\n",
    "\n",
    "while i <= 5:\n",
    "    print(i , 'i is smaller then 5')\n",
    "    i = i + 1                           #increase the value of i after each execution , so that after some time while condition can be false"
   ]
  },
  {
   "cell_type": "code",
   "execution_count": 45,
   "id": "c002c1d7-99d8-4385-8ed2-b222ad3a3c46",
   "metadata": {},
   "outputs": [
    {
     "name": "stdin",
     "output_type": "stream",
     "text": [
      "Enter user id afpjg\n",
      "Enter password fghjk\n"
     ]
    },
    {
     "name": "stdout",
     "output_type": "stream",
     "text": [
      "Login failed\n"
     ]
    },
    {
     "name": "stdin",
     "output_type": "stream",
     "text": [
      "Enter user id fgh\n",
      "Enter password cvghj\n"
     ]
    },
    {
     "name": "stdout",
     "output_type": "stream",
     "text": [
      "Login failed\n"
     ]
    },
    {
     "name": "stdin",
     "output_type": "stream",
     "text": [
      "Enter user id ghj\n",
      "Enter password vgbjk\n"
     ]
    },
    {
     "name": "stdout",
     "output_type": "stream",
     "text": [
      "Login failed\n"
     ]
    },
    {
     "name": "stdin",
     "output_type": "stream",
     "text": [
      "Enter user id vbnm\n",
      "Enter password bnj\n"
     ]
    },
    {
     "name": "stdout",
     "output_type": "stream",
     "text": [
      "Login failed\n"
     ]
    },
    {
     "name": "stdin",
     "output_type": "stream",
     "text": [
      "Enter user id vbnm\n",
      "Enter password vbn\n"
     ]
    },
    {
     "name": "stdout",
     "output_type": "stream",
     "text": [
      "Login failed\n"
     ]
    },
    {
     "name": "stdin",
     "output_type": "stream",
     "text": [
      "Enter user id admin\n",
      "Enter password password\n"
     ]
    },
    {
     "name": "stdout",
     "output_type": "stream",
     "text": [
      "Login success\n"
     ]
    }
   ],
   "source": [
    "#Login activity where user can enter user id and password for infinite number time until unless the credentials becomes correct\n",
    "\n",
    "while True:\n",
    "    user_name = input(\"Enter user id\")\n",
    "    user_password = input(\"Enter password\")\n",
    "    \n",
    "    if (user_name == 'admin' and user_password == 'password'):\n",
    "        print(\"Login success\")\n",
    "        break\n",
    "    else:\n",
    "        print(\"Login failed\")"
   ]
  },
  {
   "cell_type": "code",
   "execution_count": 51,
   "id": "c348258a-5474-4a70-9497-908a826b6fff",
   "metadata": {},
   "outputs": [],
   "source": [
    "for i in range(2,2):\n",
    "    print(i)"
   ]
  },
  {
   "cell_type": "code",
   "execution_count": 56,
   "id": "49467eb7-40c3-4872-887b-8315bd1ee62d",
   "metadata": {},
   "outputs": [
    {
     "name": "stdout",
     "output_type": "stream",
     "text": [
      "{3, 5, 7, 11, 13, 17, 19, 23, 29, 31, 37, 41, 43, 47, 53, 59, 61, 67, 71, 73, 79, 83, 89, 97}\n"
     ]
    }
   ],
   "source": [
    "#create a loop that can filter all prime numbers between 1 to 100\n",
    "#use for loop\n",
    "# while loop\n",
    "\n",
    "prime_numbers = []\n",
    "\n",
    "for i in range(2,101):\n",
    "    is_prime = True\n",
    "    for k in range (2,(i//2) + 2):\n",
    "        if i % k == 0:\n",
    "            is_prime = False\n",
    "            break\n",
    "    if is_prime == True:\n",
    "        prime_numbers.append(i)\n",
    "\n",
    "print(set(prime_numbers))"
   ]
  },
  {
   "cell_type": "code",
   "execution_count": 59,
   "id": "c208301a-fc06-42c6-91f0-e3b78e9e6ba7",
   "metadata": {},
   "outputs": [
    {
     "name": "stdout",
     "output_type": "stream",
     "text": [
      "[3, 5, 7, 11, 13, 17, 19, 23, 29, 31, 37, 41, 43, 47, 53, 59, 61, 67, 71, 73, 79, 83, 89, 97]\n"
     ]
    }
   ],
   "source": [
    "prime_numbers = []\n",
    "\n",
    "i = 2\n",
    "while i < 101:\n",
    "    is_prime = True\n",
    "    for k in range (2,(i//2) + 2):\n",
    "        if i % k == 0:\n",
    "            is_prime = False\n",
    "            break\n",
    "            \n",
    "    if is_prime == True:\n",
    "        prime_numbers.append(i)\n",
    "        \n",
    "    i = i+1\n",
    "\n",
    "print(prime_numbers)"
   ]
  },
  {
   "cell_type": "markdown",
   "id": "34d4c6eb-8a94-4c68-bb55-0c1df48747b5",
   "metadata": {},
   "source": [
    "* filter and identify all even numbers between 0 to 100\n",
    "* filter and identify all odd numbers between 0 to 100"
   ]
  },
  {
   "cell_type": "markdown",
   "id": "ca66ce89-5b12-4850-8573-79f2854dc196",
   "metadata": {},
   "source": [
    "****\n",
    "****\n",
    "**User defined functions**\n",
    "\n",
    "    * It is used for code or logic reusebility\n",
    "****\n",
    "****"
   ]
  },
  {
   "cell_type": "markdown",
   "id": "52655dd6-d341-4bfb-bdfc-ee7ce170290f",
   "metadata": {},
   "source": [
    "* f(x) = x + 7"
   ]
  },
  {
   "cell_type": "code",
   "execution_count": 60,
   "id": "ff0c6b4d-72be-4d4b-a6e0-597073859fd2",
   "metadata": {},
   "outputs": [],
   "source": [
    "def add_seven(x):\n",
    "    print(x + 7)"
   ]
  },
  {
   "cell_type": "code",
   "execution_count": 62,
   "id": "576f62e3-fbe3-4af6-aa0b-7b3ea9487984",
   "metadata": {},
   "outputs": [
    {
     "name": "stdout",
     "output_type": "stream",
     "text": [
      "16\n",
      "9\n",
      "10\n"
     ]
    }
   ],
   "source": [
    "add_seven(9)\n",
    "add_seven(2)\n",
    "add_seven(3)"
   ]
  },
  {
   "cell_type": "code",
   "execution_count": 63,
   "id": "8d894c62-d0b2-448f-a16c-d7bb79e6b81a",
   "metadata": {},
   "outputs": [],
   "source": [
    "def do_sum(x,y):\n",
    "    print(x + y)"
   ]
  },
  {
   "cell_type": "code",
   "execution_count": 65,
   "id": "934ab8e8-58b7-426c-a9be-9f723d0e752c",
   "metadata": {},
   "outputs": [
    {
     "name": "stdout",
     "output_type": "stream",
     "text": [
      "12\n",
      "8\n",
      "7\n"
     ]
    }
   ],
   "source": [
    "do_sum(9,3)\n",
    "do_sum(7,1)\n",
    "do_sum(4,3)"
   ]
  },
  {
   "cell_type": "code",
   "execution_count": 68,
   "id": "6d337639-fe47-4073-9603-7984070f1418",
   "metadata": {},
   "outputs": [],
   "source": [
    "#a function to calculate and print square of a number\n",
    "def calc_square(x):\n",
    "    result = x**2\n",
    "    print(result)"
   ]
  },
  {
   "cell_type": "code",
   "execution_count": 71,
   "id": "d143ce16-6ab1-48cc-bb39-6031d22f3071",
   "metadata": {},
   "outputs": [
    {
     "name": "stdout",
     "output_type": "stream",
     "text": [
      "81\n",
      "49\n",
      "9\n"
     ]
    }
   ],
   "source": [
    "calc_square(9)\n",
    "calc_square(7)\n",
    "calc_square(3)"
   ]
  },
  {
   "cell_type": "code",
   "execution_count": null,
   "id": "53ab55df-815a-449d-a500-3acf2203dc87",
   "metadata": {},
   "outputs": [],
   "source": []
  }
 ],
 "metadata": {
  "kernelspec": {
   "display_name": "Python 3 (ipykernel)",
   "language": "python",
   "name": "python3"
  },
  "language_info": {
   "codemirror_mode": {
    "name": "ipython",
    "version": 3
   },
   "file_extension": ".py",
   "mimetype": "text/x-python",
   "name": "python",
   "nbconvert_exporter": "python",
   "pygments_lexer": "ipython3",
   "version": "3.11.9"
  }
 },
 "nbformat": 4,
 "nbformat_minor": 5
}
