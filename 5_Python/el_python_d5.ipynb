{
 "cells": [
  {
   "cell_type": "markdown",
   "id": "3fa8981e-9fb2-4f59-a5e7-9b428ceef1c1",
   "metadata": {},
   "source": [
    "**Function**\n",
    "\n",
    "    * Reusebility"
   ]
  },
  {
   "cell_type": "code",
   "execution_count": 1,
   "id": "d7bbc74b-6b53-4026-939b-d732b7d83a47",
   "metadata": {},
   "outputs": [],
   "source": [
    "#a function to calculate and print square of a number\n",
    "def calc_square(x):\n",
    "    result = x**2\n",
    "    print(result)"
   ]
  },
  {
   "cell_type": "code",
   "execution_count": 4,
   "id": "a1989410-20bf-420d-833d-99910e636d99",
   "metadata": {},
   "outputs": [],
   "source": [
    "def login(user_name, user_password):\n",
    "    if (user_name == 'admin' and user_password == 'password'):\n",
    "        print(\"Login success\")\n",
    "    else:\n",
    "        print(\"Login failed\")"
   ]
  },
  {
   "cell_type": "code",
   "execution_count": 6,
   "id": "f6aabc4b-2721-4bee-94a6-224ae1667a6a",
   "metadata": {},
   "outputs": [
    {
     "name": "stdout",
     "output_type": "stream",
     "text": [
      "Login failed\n",
      "Login success\n"
     ]
    }
   ],
   "source": [
    "login('admin','abcde')\n",
    "login('admin','password')"
   ]
  },
  {
   "cell_type": "code",
   "execution_count": 8,
   "id": "d9723a05-a941-46b8-b822-e346f32af405",
   "metadata": {},
   "outputs": [
    {
     "name": "stdin",
     "output_type": "stream",
     "text": [
      "Enter user id admin\n",
      "Enter password password\n"
     ]
    },
    {
     "name": "stdout",
     "output_type": "stream",
     "text": [
      "Login success\n"
     ]
    }
   ],
   "source": [
    "#function which can perform login check after user enter the credenbtials\n",
    "\n",
    "user_name = input(\"Enter user id\")\n",
    "user_password = input(\"Enter password\")\n",
    "\n",
    "login(user_name, user_password)"
   ]
  },
  {
   "cell_type": "code",
   "execution_count": 21,
   "id": "1ba13c60-c9f3-4cf8-a301-81561f6450e8",
   "metadata": {},
   "outputs": [],
   "source": [
    "#define a function in which i can feed a year as an argument and the function can tell me it is 'leap' year or not\n",
    "#it is divided by 4\n",
    "#not divisible by 100 unless it is divisible by 400\n",
    "\n",
    "def check_leap(year):\n",
    "    if (year % 4 == 0) and (year % 100 != 0 or year % 400 == 0):\n",
    "        print(year , \"is leap year\")\n",
    "    else:\n",
    "        print(year , \"is not leap year\")"
   ]
  },
  {
   "cell_type": "code",
   "execution_count": 27,
   "id": "0ce15c49-8e2a-464c-986c-c874d18cec24",
   "metadata": {},
   "outputs": [
    {
     "name": "stdout",
     "output_type": "stream",
     "text": [
      "1900 is not leap year\n",
      "1901 is not leap year\n",
      "1902 is not leap year\n",
      "1903 is not leap year\n",
      "1904 is leap year\n",
      "1905 is not leap year\n",
      "1906 is not leap year\n",
      "1907 is not leap year\n",
      "1908 is leap year\n",
      "1909 is not leap year\n",
      "1910 is not leap year\n",
      "1911 is not leap year\n",
      "1912 is leap year\n",
      "1913 is not leap year\n",
      "1914 is not leap year\n",
      "1915 is not leap year\n",
      "1916 is leap year\n",
      "1917 is not leap year\n",
      "1918 is not leap year\n",
      "1919 is not leap year\n",
      "1920 is leap year\n",
      "1921 is not leap year\n",
      "1922 is not leap year\n",
      "1923 is not leap year\n",
      "1924 is leap year\n",
      "1925 is not leap year\n",
      "1926 is not leap year\n",
      "1927 is not leap year\n",
      "1928 is leap year\n",
      "1929 is not leap year\n",
      "1930 is not leap year\n",
      "1931 is not leap year\n",
      "1932 is leap year\n",
      "1933 is not leap year\n",
      "1934 is not leap year\n",
      "1935 is not leap year\n",
      "1936 is leap year\n",
      "1937 is not leap year\n",
      "1938 is not leap year\n",
      "1939 is not leap year\n",
      "1940 is leap year\n",
      "1941 is not leap year\n",
      "1942 is not leap year\n",
      "1943 is not leap year\n",
      "1944 is leap year\n",
      "1945 is not leap year\n",
      "1946 is not leap year\n",
      "1947 is not leap year\n",
      "1948 is leap year\n",
      "1949 is not leap year\n",
      "1950 is not leap year\n",
      "1951 is not leap year\n",
      "1952 is leap year\n",
      "1953 is not leap year\n",
      "1954 is not leap year\n",
      "1955 is not leap year\n",
      "1956 is leap year\n",
      "1957 is not leap year\n",
      "1958 is not leap year\n",
      "1959 is not leap year\n",
      "1960 is leap year\n",
      "1961 is not leap year\n",
      "1962 is not leap year\n",
      "1963 is not leap year\n",
      "1964 is leap year\n",
      "1965 is not leap year\n",
      "1966 is not leap year\n",
      "1967 is not leap year\n",
      "1968 is leap year\n",
      "1969 is not leap year\n",
      "1970 is not leap year\n",
      "1971 is not leap year\n",
      "1972 is leap year\n",
      "1973 is not leap year\n",
      "1974 is not leap year\n",
      "1975 is not leap year\n",
      "1976 is leap year\n",
      "1977 is not leap year\n",
      "1978 is not leap year\n",
      "1979 is not leap year\n",
      "1980 is leap year\n",
      "1981 is not leap year\n",
      "1982 is not leap year\n",
      "1983 is not leap year\n",
      "1984 is leap year\n",
      "1985 is not leap year\n",
      "1986 is not leap year\n",
      "1987 is not leap year\n",
      "1988 is leap year\n",
      "1989 is not leap year\n",
      "1990 is not leap year\n",
      "1991 is not leap year\n",
      "1992 is leap year\n",
      "1993 is not leap year\n",
      "1994 is not leap year\n",
      "1995 is not leap year\n",
      "1996 is leap year\n",
      "1997 is not leap year\n",
      "1998 is not leap year\n",
      "1999 is not leap year\n",
      "2000 is leap year\n"
     ]
    }
   ],
   "source": [
    "for year in range(1900,2001):\n",
    "    check_leap(year)"
   ]
  },
  {
   "cell_type": "code",
   "execution_count": 44,
   "id": "45fe003e-b3a2-4931-8574-7ecc0ee22023",
   "metadata": {},
   "outputs": [],
   "source": [
    "#define a function in which i can feed a year as an argument and the function can tell me it is 'leap' year or not\n",
    "#it is divided by 4\n",
    "#not divisible by 100 unless it is divisible by 400\n",
    "\n",
    "def check_leap(year):\n",
    "    if (year % 4 == 0) and (year % 100 != 0 or year % 400 == 0):\n",
    "        return True\n",
    "    else:\n",
    "        return False"
   ]
  },
  {
   "cell_type": "code",
   "execution_count": 45,
   "id": "e695537a-844c-4acd-9a83-b018c7ec89ec",
   "metadata": {},
   "outputs": [],
   "source": [
    "leap_years = []\n",
    "\n",
    "for year in range(1900,2001):\n",
    "    status = check_leap(year)\n",
    "    if status == True:\n",
    "        leap_years.append(year)"
   ]
  },
  {
   "cell_type": "code",
   "execution_count": 46,
   "id": "51720a01-d12a-4dc7-8d98-3ebb9178b451",
   "metadata": {},
   "outputs": [
    {
     "name": "stdout",
     "output_type": "stream",
     "text": [
      "[1904, 1908, 1912, 1916, 1920, 1924, 1928, 1932, 1936, 1940, 1944, 1948, 1952, 1956, 1960, 1964, 1968, 1972, 1976, 1980, 1984, 1988, 1992, 1996, 2000]\n"
     ]
    }
   ],
   "source": [
    "print(leap_years)"
   ]
  },
  {
   "cell_type": "code",
   "execution_count": 47,
   "id": "6a966df1-e741-4d55-9538-7cb87038fd5d",
   "metadata": {},
   "outputs": [],
   "source": [
    "def do_sum(x,y):\n",
    "    return (x+y)"
   ]
  },
  {
   "cell_type": "code",
   "execution_count": 48,
   "id": "dc660d33-eca9-4184-a37d-6637c491fd82",
   "metadata": {},
   "outputs": [],
   "source": [
    "result_1 = do_sum(6,3)"
   ]
  },
  {
   "cell_type": "code",
   "execution_count": 42,
   "id": "fc9b7f4e-12f8-480e-be76-d7aa4e15d6c3",
   "metadata": {},
   "outputs": [
    {
     "name": "stdout",
     "output_type": "stream",
     "text": [
      "9\n"
     ]
    }
   ],
   "source": [
    "print(result_1)"
   ]
  },
  {
   "cell_type": "code",
   "execution_count": 43,
   "id": "ed04a931-b03b-49e4-a682-7536fffe46a8",
   "metadata": {},
   "outputs": [
    {
     "name": "stdout",
     "output_type": "stream",
     "text": [
      "18\n"
     ]
    }
   ],
   "source": [
    "print(result_1 * 2)"
   ]
  },
  {
   "cell_type": "markdown",
   "id": "dd08d57f-1de5-4434-b309-6c49249af342",
   "metadata": {},
   "source": [
    "**Default parameters**"
   ]
  },
  {
   "cell_type": "code",
   "execution_count": 60,
   "id": "2d4853f8-63ed-4516-a890-45c023bf2dc6",
   "metadata": {},
   "outputs": [],
   "source": [
    "def users_detail(name,age='NA',weight='NA'):\n",
    "    details = {\"Name\" : name,\n",
    "               \"Age\" : age,\n",
    "               \"Weight\" : weight}\n",
    "    return details"
   ]
  },
  {
   "cell_type": "code",
   "execution_count": 61,
   "id": "1036265d-12f3-4fe2-ba76-4ca51e5c85df",
   "metadata": {},
   "outputs": [
    {
     "data": {
      "text/plain": [
       "{'Name': 'Ajay', 'Age': 23, 'Weight': 'NA'}"
      ]
     },
     "execution_count": 61,
     "metadata": {},
     "output_type": "execute_result"
    }
   ],
   "source": [
    "users_detail(\"Ajay\",23)"
   ]
  },
  {
   "cell_type": "code",
   "execution_count": 62,
   "id": "e0de5c39-d6dd-4ccf-870b-ffb9b33e8fd3",
   "metadata": {},
   "outputs": [
    {
     "data": {
      "text/plain": [
       "{'Name': 'Ajay', 'Age': 'NA', 'Weight': 'NA'}"
      ]
     },
     "execution_count": 62,
     "metadata": {},
     "output_type": "execute_result"
    }
   ],
   "source": [
    "users_detail(\"Ajay\")"
   ]
  },
  {
   "cell_type": "code",
   "execution_count": 55,
   "id": "0c150719-08c8-4c7c-805b-a751e0596323",
   "metadata": {},
   "outputs": [
    {
     "data": {
      "text/plain": [
       "{'Name': 'Ajay', 'Age': 23, 'Weight': 55}"
      ]
     },
     "execution_count": 55,
     "metadata": {},
     "output_type": "execute_result"
    }
   ],
   "source": [
    "users_detail(\"Ajay\",23,55)"
   ]
  },
  {
   "cell_type": "code",
   "execution_count": 65,
   "id": "8fce0fb5-b1d5-4948-acab-adf95686dab7",
   "metadata": {},
   "outputs": [
    {
     "data": {
      "text/plain": [
       "{'Name': 'Ajay', 'Age': 23, 'Weight': 55}"
      ]
     },
     "execution_count": 65,
     "metadata": {},
     "output_type": "execute_result"
    }
   ],
   "source": [
    "users_detail(age=23,weight=55,name=\"Ajay\")    #keyword arguments"
   ]
  },
  {
   "cell_type": "markdown",
   "id": "304bb49e-8e31-42cc-8ea7-51d084846c7a",
   "metadata": {},
   "source": [
    "* variable length arguments"
   ]
  },
  {
   "cell_type": "code",
   "execution_count": 76,
   "id": "d9ac7135-b101-429e-8671-8a577e64094a",
   "metadata": {},
   "outputs": [],
   "source": [
    "def calculate_sum(*args):\n",
    "    pass"
   ]
  },
  {
   "cell_type": "code",
   "execution_count": 78,
   "id": "5b33538e-bb33-4f92-a391-dcfa32799ee8",
   "metadata": {},
   "outputs": [],
   "source": [
    "calculate_sum(8)\n",
    "calculate_sum(8,3)\n",
    "calculate_sum(8,3,2)\n",
    "calculate_sum(8,3,2,1)"
   ]
  },
  {
   "cell_type": "code",
   "execution_count": 79,
   "id": "3f2de53a-f53e-4438-b698-f68cada02a0d",
   "metadata": {},
   "outputs": [],
   "source": [
    "def calculate_sum(*args):\n",
    "    total_sum = 0\n",
    "    for arg in args:\n",
    "        total_sum = total_sum + arg\n",
    "    return total_sum"
   ]
  },
  {
   "cell_type": "code",
   "execution_count": 84,
   "id": "772656ed-631c-4107-9dd9-f7c31604d86f",
   "metadata": {},
   "outputs": [
    {
     "name": "stdout",
     "output_type": "stream",
     "text": [
      "14\n",
      "13\n",
      "11\n"
     ]
    }
   ],
   "source": [
    "print(calculate_sum(8,3,2,1))\n",
    "print(calculate_sum(8,3,2))\n",
    "print(calculate_sum(8,3))"
   ]
  },
  {
   "cell_type": "markdown",
   "id": "50e2eb4d-fcab-4e20-8c60-742be630ef81",
   "metadata": {},
   "source": [
    "**Variable length keyword arguments**"
   ]
  },
  {
   "cell_type": "code",
   "execution_count": 91,
   "id": "1d9d10ba-09e7-45d8-a32d-f5e3e80acfe3",
   "metadata": {},
   "outputs": [
    {
     "data": {
      "text/plain": [
       "dict_items([('name', 'Abhay'), ('age', 34)])"
      ]
     },
     "execution_count": 91,
     "metadata": {},
     "output_type": "execute_result"
    }
   ],
   "source": [
    "ud = {'name':'Abhay' , 'age' : 34}\n",
    "ud.items()"
   ]
  },
  {
   "cell_type": "code",
   "execution_count": 94,
   "id": "fcd24fc3-5352-43fb-8293-24bcdb9ebdf1",
   "metadata": {},
   "outputs": [
    {
     "name": "stdout",
     "output_type": "stream",
     "text": [
      "name - Abhay\n",
      "age - 34\n"
     ]
    }
   ],
   "source": [
    "ud = {'name':'Abhay' , 'age' : 34}\n",
    "\n",
    "for key,value in ud.items():\n",
    "    print(key , '-' , value)"
   ]
  },
  {
   "cell_type": "code",
   "execution_count": 85,
   "id": "ca8b82b1-c983-4e22-893e-05fe52a08cb7",
   "metadata": {},
   "outputs": [],
   "source": [
    "def user_details(**kwargs):\n",
    "    pass"
   ]
  },
  {
   "cell_type": "code",
   "execution_count": 87,
   "id": "8d7dee61-de0c-4a58-a6b0-1de2cb40c3a1",
   "metadata": {},
   "outputs": [],
   "source": [
    "user_details(name='Atul')\n",
    "user_details(name='Atul', age = 23)\n",
    "user_details(name='Atul' , age = 23 , city = 'Delhi')"
   ]
  },
  {
   "cell_type": "code",
   "execution_count": 95,
   "id": "fee8968d-1fba-4f0d-ac04-a4b63cdc6b77",
   "metadata": {},
   "outputs": [],
   "source": [
    "def user_details(**kwargs):\n",
    "    entered_details = {}\n",
    "    for key,value in kwargs.items():\n",
    "        entered_details[key] = value\n",
    "    return entered_details"
   ]
  },
  {
   "cell_type": "code",
   "execution_count": 96,
   "id": "3b2b3849-9099-4e4a-a3bb-5c4d3cd1501a",
   "metadata": {},
   "outputs": [
    {
     "data": {
      "text/plain": [
       "{'name': 'Atul'}"
      ]
     },
     "execution_count": 96,
     "metadata": {},
     "output_type": "execute_result"
    }
   ],
   "source": [
    "user_details(name='Atul')"
   ]
  },
  {
   "cell_type": "code",
   "execution_count": 98,
   "id": "38216b34-ff22-4034-bbda-e2ea897d1a2d",
   "metadata": {},
   "outputs": [
    {
     "data": {
      "text/plain": [
       "{'name': 'Atul', 'city': 'Jaipur'}"
      ]
     },
     "execution_count": 98,
     "metadata": {},
     "output_type": "execute_result"
    }
   ],
   "source": [
    "user_details(name='Atul' , city = 'Jaipur')"
   ]
  },
  {
   "cell_type": "code",
   "execution_count": 99,
   "id": "7c480ac5-7f9d-4880-bc32-37fefa25ed65",
   "metadata": {},
   "outputs": [
    {
     "data": {
      "text/plain": [
       "{'name': 'Ajith', 'age': 45, 'city': 'Chennai'}"
      ]
     },
     "execution_count": 99,
     "metadata": {},
     "output_type": "execute_result"
    }
   ],
   "source": [
    "user_details(name='Ajith' , age = 45 , city = 'Chennai')"
   ]
  },
  {
   "cell_type": "markdown",
   "id": "da4ca98e-d2d7-4603-a678-94a970a14b90",
   "metadata": {},
   "source": [
    "**Lambda function**\n",
    "\n",
    "    * concise 1 line function\n",
    "    * return type function"
   ]
  },
  {
   "cell_type": "code",
   "execution_count": 101,
   "id": "b02ef497-e140-4b79-91ac-1f49ef87e9a7",
   "metadata": {},
   "outputs": [
    {
     "data": {
      "text/plain": [
       "12"
      ]
     },
     "execution_count": 101,
     "metadata": {},
     "output_type": "execute_result"
    }
   ],
   "source": [
    "#function to calculate product of 2 values\n",
    "\n",
    "def calc_product(x,y):\n",
    "    return x * y\n",
    "\n",
    "calc_product(4,3)"
   ]
  },
  {
   "cell_type": "code",
   "execution_count": 102,
   "id": "fcc03997-65f4-4ae3-af9b-41c3c9162494",
   "metadata": {},
   "outputs": [],
   "source": [
    "multiplication = lambda x,y : x * y"
   ]
  },
  {
   "cell_type": "code",
   "execution_count": 103,
   "id": "797c4c96-f325-4243-9833-903903c6b534",
   "metadata": {},
   "outputs": [
    {
     "data": {
      "text/plain": [
       "6"
      ]
     },
     "execution_count": 103,
     "metadata": {},
     "output_type": "execute_result"
    }
   ],
   "source": [
    "multiplication(3,2)"
   ]
  },
  {
   "cell_type": "code",
   "execution_count": 104,
   "id": "0eba9ab7-8b6b-4949-b853-e834b68fa5bc",
   "metadata": {},
   "outputs": [
    {
     "data": {
      "text/plain": [
       "27"
      ]
     },
     "execution_count": 104,
     "metadata": {},
     "output_type": "execute_result"
    }
   ],
   "source": [
    "multiplication(9,3)"
   ]
  },
  {
   "cell_type": "code",
   "execution_count": 107,
   "id": "05249870-14d8-4125-9fe7-7e48f87472ec",
   "metadata": {},
   "outputs": [
    {
     "data": {
      "text/plain": [
       "81"
      ]
     },
     "execution_count": 107,
     "metadata": {},
     "output_type": "execute_result"
    }
   ],
   "source": [
    "def cal_square(x):\n",
    "    return x * x\n",
    "    \n",
    "cal_square(9)"
   ]
  },
  {
   "cell_type": "code",
   "execution_count": 106,
   "id": "989e80f7-5c83-44a8-987d-c93bdaf46fc3",
   "metadata": {},
   "outputs": [
    {
     "data": {
      "text/plain": [
       "81"
      ]
     },
     "execution_count": 106,
     "metadata": {},
     "output_type": "execute_result"
    }
   ],
   "source": [
    "_square = lambda x : x * x\n",
    "_square(9)"
   ]
  },
  {
   "cell_type": "code",
   "execution_count": 116,
   "id": "87799068-836e-4ade-9edb-2628e40f871d",
   "metadata": {},
   "outputs": [
    {
     "name": "stdout",
     "output_type": "stream",
     "text": [
      "8 is even\n",
      "9 is odd\n"
     ]
    }
   ],
   "source": [
    "def check_evens(num):\n",
    "    if num % 2 == 0:\n",
    "        return f\"{num} is even\"\n",
    "    else:\n",
    "        return f\"{num} is odd\"\n",
    "\n",
    "print(check_evens(8))\n",
    "print(check_evens(9))"
   ]
  },
  {
   "cell_type": "code",
   "execution_count": 117,
   "id": "6ef91de3-1a22-4b0b-b218-42f55b1a3e67",
   "metadata": {},
   "outputs": [],
   "source": [
    "evens = lambda num : \"even\" if num % 2 == 0 else \"odd\""
   ]
  },
  {
   "cell_type": "code",
   "execution_count": 118,
   "id": "9858eb28-06da-4d96-9541-bd90f50c51a6",
   "metadata": {},
   "outputs": [
    {
     "data": {
      "text/plain": [
       "'even'"
      ]
     },
     "execution_count": 118,
     "metadata": {},
     "output_type": "execute_result"
    }
   ],
   "source": [
    "evens(6)"
   ]
  },
  {
   "cell_type": "code",
   "execution_count": 119,
   "id": "95338b46-5da4-4ba4-b38b-aecdd350c7a0",
   "metadata": {},
   "outputs": [
    {
     "data": {
      "text/plain": [
       "'odd'"
      ]
     },
     "execution_count": 119,
     "metadata": {},
     "output_type": "execute_result"
    }
   ],
   "source": [
    "evens(7)"
   ]
  },
  {
   "cell_type": "code",
   "execution_count": null,
   "id": "dfb2a53c-a4b4-4226-aadc-daacae2248df",
   "metadata": {},
   "outputs": [],
   "source": [
    "def login(user_name, user_password):\n",
    "    if (user_name == 'admin' and user_password == 'password'):\n",
    "        print(\"Login success\")\n",
    "    else:\n",
    "        print(\"Login failed\")"
   ]
  },
  {
   "cell_type": "code",
   "execution_count": 120,
   "id": "97bb3c61-b519-4119-9bbd-8d1f4592a37f",
   "metadata": {},
   "outputs": [],
   "source": [
    "login = lambda user_name, user_password : \"Login success\" if user_name == 'admin' and user_password == 'password' else \"Login failed\""
   ]
  },
  {
   "cell_type": "code",
   "execution_count": 121,
   "id": "e63bfa56-868b-48fd-a025-c2f52de4ffed",
   "metadata": {},
   "outputs": [
    {
     "data": {
      "text/plain": [
       "'Login success'"
      ]
     },
     "execution_count": 121,
     "metadata": {},
     "output_type": "execute_result"
    }
   ],
   "source": [
    "login('admin' , 'password')"
   ]
  },
  {
   "cell_type": "code",
   "execution_count": 122,
   "id": "f7548507-fb1b-46de-972d-2e19f7a31c31",
   "metadata": {},
   "outputs": [
    {
     "data": {
      "text/plain": [
       "'Login failed'"
      ]
     },
     "execution_count": 122,
     "metadata": {},
     "output_type": "execute_result"
    }
   ],
   "source": [
    "login('admin' , 'passwor')"
   ]
  },
  {
   "cell_type": "code",
   "execution_count": null,
   "id": "6334baa1-09b6-470b-a0c4-38a70e2f6851",
   "metadata": {},
   "outputs": [],
   "source": [
    "def check_leap(year):\n",
    "    if (year % 4 == 0) and (year % 100 != 0 or year % 400 == 0):\n",
    "        print(year , \"is leap year\")\n",
    "    else:\n",
    "        print(year , \"is not leap year\")"
   ]
  },
  {
   "cell_type": "code",
   "execution_count": 124,
   "id": "44429435-5f21-46c7-b7f3-5d103ee00325",
   "metadata": {},
   "outputs": [
    {
     "name": "stdout",
     "output_type": "stream",
     "text": [
      "True\n",
      "False\n"
     ]
    }
   ],
   "source": [
    "leap = lambda year : (year % 4 == 0) and (year % 100 != 0 or year % 400 == 0)\n",
    "\n",
    "print(leap(2000))\n",
    "print(leap(2002))"
   ]
  },
  {
   "cell_type": "code",
   "execution_count": 125,
   "id": "b38c5bd9-dc12-4f01-9659-4d3df01ea12f",
   "metadata": {},
   "outputs": [
    {
     "name": "stdout",
     "output_type": "stream",
     "text": [
      "it is leap year\n"
     ]
    }
   ],
   "source": [
    "if leap(2000):\n",
    "    print(\"it is leap year\")\n",
    "else:\n",
    "    print(\"it is not a leap year\")"
   ]
  },
  {
   "cell_type": "code",
   "execution_count": 126,
   "id": "d5e20f43-a4f8-4caa-95e4-279447ccdf1d",
   "metadata": {},
   "outputs": [],
   "source": [
    "def show_grades(marks):\n",
    "    if marks > 90:\n",
    "        return \"Grade A+\"\n",
    "    elif marks > 80:\n",
    "        return \"Grade A\"\n",
    "    elif marks > 70:\n",
    "        return \"Grade B+\"\n",
    "    elif marks > 60:\n",
    "        return \"Grade B\"\n",
    "    elif marks > 50:\n",
    "        return \"Grade C+\"\n",
    "    elif marks > 40:\n",
    "        return \"Grade C\"\n",
    "    else:\n",
    "        return \"Failed\""
   ]
  },
  {
   "cell_type": "code",
   "execution_count": 128,
   "id": "510728d9-5f67-430a-9cf0-021a4b972b1c",
   "metadata": {},
   "outputs": [
    {
     "name": "stdin",
     "output_type": "stream",
     "text": [
      "Enter your marks 76\n"
     ]
    },
    {
     "data": {
      "text/plain": [
       "'Grade B+'"
      ]
     },
     "execution_count": 128,
     "metadata": {},
     "output_type": "execute_result"
    }
   ],
   "source": [
    "marks = int(input(\"Enter your marks\"))\n",
    "show_grades(marks)"
   ]
  },
  {
   "cell_type": "code",
   "execution_count": 141,
   "id": "15a2dc31-e9fd-40cb-a2ed-fe431d95ae9f",
   "metadata": {},
   "outputs": [
    {
     "data": {
      "text/plain": [
       "'Grade C+'"
      ]
     },
     "execution_count": 141,
     "metadata": {},
     "output_type": "execute_result"
    }
   ],
   "source": [
    "grades = lambda marks : \"Grade A+\" if marks > 90 else \"Grade A\" if marks > 80 else \"Grade B+\" if marks > 70 else \"Grade B\" if marks > 60 else \"Grade C+\"\n",
    "\n",
    "grades(45)"
   ]
  },
  {
   "cell_type": "markdown",
   "id": "20dce7ed-ac98-4877-96ba-6e5e139c9570",
   "metadata": {},
   "source": [
    "**File Handling**\n",
    "\n",
    "    * read , write , update or delete a file using python script\n",
    "    * modes -\n",
    "        * 'r' - read\n",
    "        * 'w' - write or overwrite (create if file not exist)\n",
    "        * 'a' - write or add new content (create if file not exist)\n",
    "        * 'x' - create and write"
   ]
  },
  {
   "cell_type": "code",
   "execution_count": 143,
   "id": "122fb48b-82e4-4fac-8375-9390bef897e9",
   "metadata": {},
   "outputs": [
    {
     "name": "stdout",
     "output_type": "stream",
     "text": [
      "this is a file created using python script\n"
     ]
    }
   ],
   "source": [
    "myfile = open('file1.txt', 'r')\n",
    "print(myfile.read())\n",
    "myfile.close()"
   ]
  },
  {
   "cell_type": "code",
   "execution_count": 146,
   "id": "566b661a-8509-4534-aa51-d2980a9cbfc7",
   "metadata": {},
   "outputs": [],
   "source": [
    "myfile = open('file2.txt', 'w')\n",
    "myfile.write(\"This world is so good for Python learners!!\")\n",
    "myfile.close()"
   ]
  },
  {
   "cell_type": "code",
   "execution_count": 147,
   "id": "170944ed-3bc9-4d11-99e0-f3634061ba21",
   "metadata": {},
   "outputs": [],
   "source": [
    "myfile = open('file2.txt', 'w')\n",
    "myfile.write(\"Python Programming is for lazy programmers like Python reptile\")\n",
    "myfile.close()"
   ]
  },
  {
   "cell_type": "code",
   "execution_count": 148,
   "id": "76292b14-3572-4d71-847d-2117651b2547",
   "metadata": {},
   "outputs": [],
   "source": [
    "myfile = open('file2.txt', 'a')\n",
    "myfile.write(\"\\nI like the rain most.\")\n",
    "myfile.close()"
   ]
  },
  {
   "cell_type": "code",
   "execution_count": 149,
   "id": "c6a2c10d-76ff-4bd9-bada-9ca9539a33ef",
   "metadata": {},
   "outputs": [],
   "source": [
    "myfile = open('file2.txt', 'a')\n",
    "myfile.write(\"\\nRabbit runs faster but turtle wins race.\")\n",
    "myfile.close()"
   ]
  },
  {
   "cell_type": "code",
   "execution_count": 150,
   "id": "87d889f2-9fd2-47a2-9f04-c9a60d67b3b7",
   "metadata": {},
   "outputs": [],
   "source": [
    "myfile = open('file3.txt', 'a')\n",
    "myfile.write(\"Kids are really cute.\")\n",
    "myfile.close()"
   ]
  },
  {
   "cell_type": "code",
   "execution_count": 152,
   "id": "d7165720-74b2-4e9f-932b-7d4cc635a179",
   "metadata": {},
   "outputs": [],
   "source": [
    "myfile = open('file4.txt', 'x')\n",
    "myfile.write(\"We are learning file handling in Python\")\n",
    "myfile.close()"
   ]
  },
  {
   "cell_type": "code",
   "execution_count": null,
   "id": "eab0bca5-acc3-4dca-a4cb-efbc0cea226c",
   "metadata": {},
   "outputs": [],
   "source": []
  }
 ],
 "metadata": {
  "kernelspec": {
   "display_name": "Python 3 (ipykernel)",
   "language": "python",
   "name": "python3"
  },
  "language_info": {
   "codemirror_mode": {
    "name": "ipython",
    "version": 3
   },
   "file_extension": ".py",
   "mimetype": "text/x-python",
   "name": "python",
   "nbconvert_exporter": "python",
   "pygments_lexer": "ipython3",
   "version": "3.11.9"
  }
 },
 "nbformat": 4,
 "nbformat_minor": 5
}
