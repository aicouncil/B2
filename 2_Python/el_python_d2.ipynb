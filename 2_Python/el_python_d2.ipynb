{
 "cells": [
  {
   "cell_type": "markdown",
   "id": "89e3c7aa-6923-40e4-8cb8-ec0afdc05bee",
   "metadata": {},
   "source": [
    "**Sequential data type**\n",
    "\n",
    "    * String - it is immuatable"
   ]
  },
  {
   "cell_type": "code",
   "execution_count": 1,
   "id": "1937be6f-4a7a-4329-afff-c121bde046d0",
   "metadata": {},
   "outputs": [
    {
     "name": "stdout",
     "output_type": "stream",
     "text": [
      "Vinay Pratap Singh\n"
     ]
    }
   ],
   "source": [
    "name = \"Vinay Pratap Singh\"\n",
    "print(name)"
   ]
  },
  {
   "cell_type": "code",
   "execution_count": 4,
   "id": "57fc795f-844e-4d4d-8884-7018def2d6bb",
   "metadata": {},
   "outputs": [
    {
     "name": "stdout",
     "output_type": "stream",
     "text": [
      "<class 'str'>\n"
     ]
    }
   ],
   "source": [
    "print(type(name))"
   ]
  },
  {
   "cell_type": "code",
   "execution_count": 2,
   "id": "1b7a419e-5b2b-4de0-ad28-b7f46a6f54a9",
   "metadata": {},
   "outputs": [
    {
     "name": "stdout",
     "output_type": "stream",
     "text": [
      "Delhi\n"
     ]
    }
   ],
   "source": [
    "city = 'Delhi'\n",
    "print(city)"
   ]
  },
  {
   "cell_type": "code",
   "execution_count": 5,
   "id": "ac426477-7513-47d0-a75d-75e99a4f8d38",
   "metadata": {},
   "outputs": [
    {
     "name": "stdout",
     "output_type": "stream",
     "text": [
      "<class 'str'>\n"
     ]
    }
   ],
   "source": [
    "print(type(city))"
   ]
  },
  {
   "cell_type": "code",
   "execution_count": 9,
   "id": "e20e811e-ad79-418e-9865-b5d49163ea76",
   "metadata": {},
   "outputs": [
    {
     "name": "stdout",
     "output_type": "stream",
     "text": [
      "\n",
      "The product i used\n",
      "was really good and \n",
      "i want to recomend it to \n",
      "my friends and families\n",
      "\n",
      "\n",
      "<class 'str'>\n"
     ]
    }
   ],
   "source": [
    "product_review = '''\n",
    "The product i used\n",
    "was really good and \n",
    "i want to recomend it to \n",
    "my friends and families\n",
    "'''\n",
    "\n",
    "print(product_review)\n",
    "print()\n",
    "print(type(product_review))"
   ]
  },
  {
   "cell_type": "code",
   "execution_count": 10,
   "id": "bd222feb-c37c-49e2-9b58-3a31bc366fb9",
   "metadata": {},
   "outputs": [
    {
     "name": "stdout",
     "output_type": "stream",
     "text": [
      "Delhi\n"
     ]
    }
   ],
   "source": [
    "print(city)"
   ]
  },
  {
   "cell_type": "code",
   "execution_count": 12,
   "id": "6b914207-fb30-43b2-9d27-33fbc57f60c7",
   "metadata": {},
   "outputs": [
    {
     "name": "stdout",
     "output_type": "stream",
     "text": [
      "D\n",
      "e\n",
      "l\n"
     ]
    }
   ],
   "source": [
    "print(city[0])\n",
    "print(city[1])\n",
    "print(city[2])\n"
   ]
  },
  {
   "cell_type": "code",
   "execution_count": 14,
   "id": "019250d4-1d9e-4448-89d3-90b0e77ff2a3",
   "metadata": {},
   "outputs": [
    {
     "name": "stdout",
     "output_type": "stream",
     "text": [
      "Vinay Pratap Singh\n",
      "18\n"
     ]
    }
   ],
   "source": [
    "print(name)\n",
    "print(len(name))"
   ]
  },
  {
   "cell_type": "code",
   "execution_count": 20,
   "id": "28676dac-5894-4ec5-9147-df7a871628ca",
   "metadata": {},
   "outputs": [
    {
     "name": "stdout",
     "output_type": "stream",
     "text": [
      "V\n",
      "h\n",
      "g\n"
     ]
    }
   ],
   "source": [
    "print(name[0])\n",
    "print(name[-1])\n",
    "print(name[-2])"
   ]
  },
  {
   "cell_type": "code",
   "execution_count": 23,
   "id": "43ecdbf6-0780-4693-8359-f0ae0a13e9fb",
   "metadata": {},
   "outputs": [
    {
     "name": "stdout",
     "output_type": "stream",
     "text": [
      "S\n"
     ]
    }
   ],
   "source": [
    "print(name[13])"
   ]
  },
  {
   "cell_type": "code",
   "execution_count": 25,
   "id": "f67267e9-85c8-424d-bf96-70b914f8310f",
   "metadata": {},
   "outputs": [
    {
     "name": "stdout",
     "output_type": "stream",
     "text": [
      "Singh\n"
     ]
    }
   ],
   "source": [
    "print(name[13:18])"
   ]
  },
  {
   "cell_type": "code",
   "execution_count": 27,
   "id": "c3fca703-e9f0-436f-9ef6-56dacc255bf8",
   "metadata": {},
   "outputs": [
    {
     "name": "stdout",
     "output_type": "stream",
     "text": [
      "Vinay\n"
     ]
    }
   ],
   "source": [
    "print(name[0:5])"
   ]
  },
  {
   "cell_type": "code",
   "execution_count": 15,
   "id": "a7d5a42e-28cf-484e-8182-7bbe4234f1d2",
   "metadata": {},
   "outputs": [
    {
     "name": "stdout",
     "output_type": "stream",
     "text": [
      "Delhi\n",
      "5\n"
     ]
    }
   ],
   "source": [
    "print(city)\n",
    "print(len(city))"
   ]
  },
  {
   "cell_type": "code",
   "execution_count": 22,
   "id": "e39b0038-f3bc-4f37-b542-000160e64d1a",
   "metadata": {},
   "outputs": [
    {
     "name": "stdout",
     "output_type": "stream",
     "text": [
      "D\n",
      "i\n"
     ]
    }
   ],
   "source": [
    "print(city[0])\n",
    "print(city[-1])"
   ]
  },
  {
   "cell_type": "code",
   "execution_count": 16,
   "id": "25acf2b2-ff78-4f5e-bad6-644c7b1bea54",
   "metadata": {},
   "outputs": [
    {
     "name": "stdout",
     "output_type": "stream",
     "text": [
      "\n",
      "The product i used\n",
      "was really good and \n",
      "i want to recomend it to \n",
      "my friends and families\n",
      "\n",
      "91\n"
     ]
    }
   ],
   "source": [
    "print(product_review)\n",
    "print(len(product_review))"
   ]
  },
  {
   "cell_type": "code",
   "execution_count": 28,
   "id": "f41699c5-34df-4822-a4f3-083d85585843",
   "metadata": {},
   "outputs": [
    {
     "name": "stdout",
     "output_type": "stream",
     "text": [
      "ct i use\n"
     ]
    }
   ],
   "source": [
    "print(product_review[10:18])"
   ]
  },
  {
   "cell_type": "markdown",
   "id": "c573b56b-6951-49f7-af3b-c6f28d2c4745",
   "metadata": {},
   "source": [
    "**String Operations**\n",
    "\n",
    "    * split()"
   ]
  },
  {
   "cell_type": "code",
   "execution_count": 29,
   "id": "e4c656f1-5a3a-4725-a3ac-f1012705659a",
   "metadata": {},
   "outputs": [
    {
     "name": "stdout",
     "output_type": "stream",
     "text": [
      "Vinay Pratap Singh\n"
     ]
    }
   ],
   "source": [
    "print(name)"
   ]
  },
  {
   "cell_type": "code",
   "execution_count": 33,
   "id": "af5a640e-c654-4d7b-b6f6-aff4c313e0f5",
   "metadata": {},
   "outputs": [
    {
     "name": "stdout",
     "output_type": "stream",
     "text": [
      "V\n"
     ]
    }
   ],
   "source": [
    "print(name[0])"
   ]
  },
  {
   "cell_type": "code",
   "execution_count": 31,
   "id": "0af66801-6cea-4750-945f-5a30e23c9d8b",
   "metadata": {},
   "outputs": [
    {
     "name": "stdout",
     "output_type": "stream",
     "text": [
      "['Vinay', 'Pratap', 'Singh']\n"
     ]
    }
   ],
   "source": [
    "print(name.split(' '))"
   ]
  },
  {
   "cell_type": "code",
   "execution_count": 32,
   "id": "6d2f6e62-df84-42c1-bec3-717c6d1210aa",
   "metadata": {},
   "outputs": [
    {
     "name": "stdout",
     "output_type": "stream",
     "text": [
      "Vinay\n"
     ]
    }
   ],
   "source": [
    "print(name.split(' ')[0])"
   ]
  },
  {
   "cell_type": "code",
   "execution_count": 39,
   "id": "fd07d01a-a556-4f1c-aaf1-fed7e27346cb",
   "metadata": {},
   "outputs": [
    {
     "name": "stdout",
     "output_type": "stream",
     "text": [
      "\n",
      "The product i used\n",
      "was really good and \n",
      "i want to recomend it to \n",
      "my friends and families\n",
      "\n"
     ]
    }
   ],
   "source": [
    "print(product_review)"
   ]
  },
  {
   "cell_type": "code",
   "execution_count": 40,
   "id": "18e0385c-3460-42da-b990-e29ce4ec97d9",
   "metadata": {},
   "outputs": [
    {
     "data": {
      "text/plain": [
       "'T'"
      ]
     },
     "execution_count": 40,
     "metadata": {},
     "output_type": "execute_result"
    }
   ],
   "source": [
    "product_review[1]"
   ]
  },
  {
   "cell_type": "code",
   "execution_count": 36,
   "id": "431af1b2-6e22-4366-8e76-dae3a0a36127",
   "metadata": {},
   "outputs": [
    {
     "name": "stdout",
     "output_type": "stream",
     "text": [
      "['', 'The product i used', 'was really good and ', 'i want to recomend it to ', 'my friends and families', '']\n"
     ]
    }
   ],
   "source": [
    "print(product_review.split('\\n'))"
   ]
  },
  {
   "cell_type": "code",
   "execution_count": 38,
   "id": "b1bb5cf2-e3cf-4d2b-8171-44d9a1cfc9c1",
   "metadata": {},
   "outputs": [
    {
     "data": {
      "text/plain": [
       "'The product i used'"
      ]
     },
     "execution_count": 38,
     "metadata": {},
     "output_type": "execute_result"
    }
   ],
   "source": [
    "product_review.split('\\n')[1]"
   ]
  },
  {
   "cell_type": "markdown",
   "id": "1605bb34-c125-482c-a852-90d3e4b3db93",
   "metadata": {},
   "source": [
    "**String Operations**\n",
    "\n",
    "    * strip()\n",
    "    * lstrip()\n",
    "    * rstrip()"
   ]
  },
  {
   "cell_type": "code",
   "execution_count": 41,
   "id": "5c1038fb-3b53-408c-9487-0e4a65251d1a",
   "metadata": {},
   "outputs": [
    {
     "name": "stdout",
     "output_type": "stream",
     "text": [
      "\n",
      "The product i used\n",
      "was really good and \n",
      "i want to recomend it to \n",
      "my friends and families\n",
      "\n"
     ]
    }
   ],
   "source": [
    "print(product_review)"
   ]
  },
  {
   "cell_type": "code",
   "execution_count": 42,
   "id": "40163020-c2b3-4e8d-84b3-9e30eba7aba5",
   "metadata": {},
   "outputs": [
    {
     "name": "stdout",
     "output_type": "stream",
     "text": [
      "The product i used\n",
      "was really good and \n",
      "i want to recomend it to \n",
      "my friends and families\n",
      "\n"
     ]
    }
   ],
   "source": [
    "print(product_review.lstrip())"
   ]
  },
  {
   "cell_type": "code",
   "execution_count": 43,
   "id": "c3605cbe-1653-4235-8463-bb7fd31e07a2",
   "metadata": {},
   "outputs": [
    {
     "name": "stdout",
     "output_type": "stream",
     "text": [
      "\n",
      "The product i used\n",
      "was really good and \n",
      "i want to recomend it to \n",
      "my friends and families\n"
     ]
    }
   ],
   "source": [
    "print(product_review.rstrip())"
   ]
  },
  {
   "cell_type": "code",
   "execution_count": 44,
   "id": "86d67aa4-a1f1-4e66-b1ef-b3701226e2a8",
   "metadata": {},
   "outputs": [
    {
     "name": "stdout",
     "output_type": "stream",
     "text": [
      "The product i used\n",
      "was really good and \n",
      "i want to recomend it to \n",
      "my friends and families\n"
     ]
    }
   ],
   "source": [
    "print(product_review.strip())"
   ]
  },
  {
   "cell_type": "markdown",
   "id": "30db5054-ceb3-42df-9421-6f214b671e3f",
   "metadata": {},
   "source": [
    "**String Operations**\n",
    "\n",
    "    * concatenation"
   ]
  },
  {
   "cell_type": "code",
   "execution_count": 46,
   "id": "bc9256e7-5e37-411a-b8cc-c3f9ce43610f",
   "metadata": {},
   "outputs": [
    {
     "name": "stdout",
     "output_type": "stream",
     "text": [
      "Bipul Shahi\n"
     ]
    }
   ],
   "source": [
    "first_name = \"Bipul\"\n",
    "last_name = \"Shahi\"\n",
    "\n",
    "print(first_name + \" \" + last_name)"
   ]
  },
  {
   "cell_type": "code",
   "execution_count": 56,
   "id": "9f84077a-bb05-41b6-84aa-267b441ca980",
   "metadata": {},
   "outputs": [
    {
     "data": {
      "text/plain": [
       "'Bipul Shahi'"
      ]
     },
     "execution_count": 56,
     "metadata": {},
     "output_type": "execute_result"
    }
   ],
   "source": [
    "' '.join([first_name , last_name])"
   ]
  },
  {
   "cell_type": "code",
   "execution_count": 57,
   "id": "19fef2e8-acf3-41a1-a94c-c718d2b3d9a0",
   "metadata": {},
   "outputs": [
    {
     "name": "stdout",
     "output_type": "stream",
     "text": [
      "BipulBipulBipul\n"
     ]
    }
   ],
   "source": [
    "#repetetion\n",
    "print(first_name * 3)"
   ]
  },
  {
   "cell_type": "markdown",
   "id": "4431da11-004e-4091-934f-8209edb564ac",
   "metadata": {},
   "source": [
    "**String Operations**\n",
    "\n",
    "    * upper()\n",
    "    * lower()"
   ]
  },
  {
   "cell_type": "code",
   "execution_count": 64,
   "id": "b05e751c-ea22-4cbf-a64f-af6bfef26958",
   "metadata": {},
   "outputs": [
    {
     "name": "stdout",
     "output_type": "stream",
     "text": [
      "Bipul\n",
      "BIPUL\n",
      "bipul\n"
     ]
    }
   ],
   "source": [
    "print(first_name)\n",
    "print(first_name.upper())\n",
    "print(first_name.lower())"
   ]
  },
  {
   "cell_type": "markdown",
   "id": "5fcd8380-a227-4781-8fc4-45175e54cda2",
   "metadata": {},
   "source": [
    "**String Operations**\n",
    "\n",
    "    * membership"
   ]
  },
  {
   "cell_type": "code",
   "execution_count": 58,
   "id": "6d9cc970-0bd4-4e20-a872-0937e4fb750b",
   "metadata": {},
   "outputs": [
    {
     "name": "stdout",
     "output_type": "stream",
     "text": [
      "\n",
      "The product i used\n",
      "was really good and \n",
      "i want to recomend it to \n",
      "my friends and families\n",
      "\n"
     ]
    }
   ],
   "source": [
    "print(product_review)"
   ]
  },
  {
   "cell_type": "code",
   "execution_count": 61,
   "id": "48771297-c89a-4bcc-88a2-632ffb67cda1",
   "metadata": {},
   "outputs": [
    {
     "name": "stdout",
     "output_type": "stream",
     "text": [
      "\n",
      "The product i used\n",
      "was really Good and \n",
      "i want to recomend it to \n",
      "my friends and families\n",
      "\n"
     ]
    }
   ],
   "source": [
    "product_review = '''\n",
    "The product i used\n",
    "was really Good and \n",
    "i want to recomend it to \n",
    "my friends and families\n",
    "'''\n",
    "print(product_review)\n"
   ]
  },
  {
   "cell_type": "code",
   "execution_count": 65,
   "id": "9f37ece9-c1c4-42de-b038-ea21f2b52cbe",
   "metadata": {},
   "outputs": [
    {
     "name": "stdout",
     "output_type": "stream",
     "text": [
      "\n",
      "the product i used\n",
      "was really good and \n",
      "i want to recomend it to \n",
      "my friends and families\n",
      "\n"
     ]
    }
   ],
   "source": [
    "print(product_review.lower())"
   ]
  },
  {
   "cell_type": "code",
   "execution_count": 66,
   "id": "64e586e0-97b0-4f10-96fd-30b8873f6000",
   "metadata": {},
   "outputs": [
    {
     "name": "stdout",
     "output_type": "stream",
     "text": [
      "True\n"
     ]
    }
   ],
   "source": [
    "print('good' in product_review.lower())"
   ]
  },
  {
   "cell_type": "markdown",
   "id": "7797b3b0-47e5-4302-9493-0b9581843cb4",
   "metadata": {},
   "source": [
    "* using f-strings"
   ]
  },
  {
   "cell_type": "code",
   "execution_count": 69,
   "id": "4063598b-f4f6-455a-8fff-05ebb9b942a5",
   "metadata": {},
   "outputs": [
    {
     "name": "stdout",
     "output_type": "stream",
     "text": [
      "My name is Ajay and I am 35 years old\n"
     ]
    }
   ],
   "source": [
    "name = 'Ajay'\n",
    "age = 35\n",
    "\n",
    "print(f\"My name is {name} and I am {age} years old\")"
   ]
  },
  {
   "cell_type": "code",
   "execution_count": 71,
   "id": "20b4c692-62d3-40f4-8a90-b78baef20564",
   "metadata": {},
   "outputs": [
    {
     "name": "stdout",
     "output_type": "stream",
     "text": [
      "Hello\n",
      "World\n"
     ]
    }
   ],
   "source": [
    "print(\"Hello\\nWorld\")"
   ]
  },
  {
   "cell_type": "code",
   "execution_count": 72,
   "id": "2f8322cb-edbd-4537-b1f8-fcd0aa2655c7",
   "metadata": {},
   "outputs": [
    {
     "name": "stdout",
     "output_type": "stream",
     "text": [
      "Ajay\n"
     ]
    }
   ],
   "source": [
    "print(name)"
   ]
  },
  {
   "cell_type": "markdown",
   "id": "9d7822b6-21e4-42ef-b05e-7467b8aca3cf",
   "metadata": {},
   "source": [
    "* String is immutable"
   ]
  },
  {
   "cell_type": "code",
   "execution_count": 74,
   "id": "4294111c-3b6d-452c-9d48-5060bf6c87be",
   "metadata": {},
   "outputs": [
    {
     "ename": "TypeError",
     "evalue": "'str' object does not support item assignment",
     "output_type": "error",
     "traceback": [
      "\u001b[31m---------------------------------------------------------------------------\u001b[39m",
      "\u001b[31mTypeError\u001b[39m                                 Traceback (most recent call last)",
      "\u001b[36mCell\u001b[39m\u001b[36m \u001b[39m\u001b[32mIn[74]\u001b[39m\u001b[32m, line 1\u001b[39m\n\u001b[32m----> \u001b[39m\u001b[32m1\u001b[39m \u001b[43mname\u001b[49m\u001b[43m[\u001b[49m\u001b[32;43m0\u001b[39;49m\u001b[43m]\u001b[49m = \u001b[33m'\u001b[39m\u001b[33mB\u001b[39m\u001b[33m'\u001b[39m\n",
      "\u001b[31mTypeError\u001b[39m: 'str' object does not support item assignment"
     ]
    }
   ],
   "source": [
    "name[0] = 'B'"
   ]
  },
  {
   "cell_type": "code",
   "execution_count": 75,
   "id": "a3b5cbae-66b9-4f26-8393-29aa8c26b595",
   "metadata": {},
   "outputs": [
    {
     "name": "stdout",
     "output_type": "stream",
     "text": [
      "Anil\n"
     ]
    }
   ],
   "source": [
    "name = \"Anil\"\n",
    "print(name)"
   ]
  },
  {
   "cell_type": "code",
   "execution_count": 77,
   "id": "24c5bec6-de32-42c8-9727-8024736679ce",
   "metadata": {},
   "outputs": [
    {
     "ename": "TypeError",
     "evalue": "'str' object does not support item assignment",
     "output_type": "error",
     "traceback": [
      "\u001b[31m---------------------------------------------------------------------------\u001b[39m",
      "\u001b[31mTypeError\u001b[39m                                 Traceback (most recent call last)",
      "\u001b[36mCell\u001b[39m\u001b[36m \u001b[39m\u001b[32mIn[77]\u001b[39m\u001b[32m, line 1\u001b[39m\n\u001b[32m----> \u001b[39m\u001b[32m1\u001b[39m \u001b[43mname\u001b[49m\u001b[43m[\u001b[49m\u001b[32;43m0\u001b[39;49m\u001b[43m]\u001b[49m = \u001b[33m'\u001b[39m\u001b[33mK\u001b[39m\u001b[33m'\u001b[39m\n",
      "\u001b[31mTypeError\u001b[39m: 'str' object does not support item assignment"
     ]
    }
   ],
   "source": [
    "name[0] = 'K'"
   ]
  },
  {
   "cell_type": "code",
   "execution_count": 85,
   "id": "0c9234b4-71b0-45c1-a8cd-1ef0ca3b7a7e",
   "metadata": {},
   "outputs": [
    {
     "name": "stdout",
     "output_type": "stream",
     "text": [
      "Vinay Pratap Singh\n"
     ]
    }
   ],
   "source": [
    "name = \"Vinay Pratap Singh\"\n",
    "print(name)"
   ]
  },
  {
   "cell_type": "code",
   "execution_count": 88,
   "id": "fc6177c1-a0ed-4caa-928c-2143e6d10636",
   "metadata": {},
   "outputs": [
    {
     "name": "stdout",
     "output_type": "stream",
     "text": [
      "Vinay Pratap King\n"
     ]
    }
   ],
   "source": [
    "new_name = name.replace(\"Singh\" , \"King\")\n",
    "print(new_name)"
   ]
  },
  {
   "cell_type": "code",
   "execution_count": 87,
   "id": "01083cdb-75b7-4ec1-aefa-2efe5ed055b7",
   "metadata": {},
   "outputs": [
    {
     "name": "stdout",
     "output_type": "stream",
     "text": [
      "Vinay Pratap Singh\n"
     ]
    }
   ],
   "source": [
    "print(name)"
   ]
  },
  {
   "cell_type": "markdown",
   "id": "66e38f36-eecf-4785-8637-975912168564",
   "metadata": {},
   "source": [
    "**Sequential data type**\n",
    "\n",
    "    * List \n",
    "        - It is muttable\n",
    "        - It is ordered\n",
    "        - allows duplicates\n",
    "        - can contain different data types - Hetrogeneous "
   ]
  },
  {
   "cell_type": "code",
   "execution_count": 109,
   "id": "67edafa4-52c1-49c3-b65e-a678235b8cbf",
   "metadata": {},
   "outputs": [
    {
     "name": "stdout",
     "output_type": "stream",
     "text": [
      "['Delhi', 'Jaipur', 'Chennai', 'Pune', 'Coimbatore', 'Pune']\n",
      "<class 'list'>\n"
     ]
    }
   ],
   "source": [
    "cities = [\"Delhi\" , \"Jaipur\" , \"Chennai\" , \"Pune\" , \"Coimbatore\" , \"Pune\"]\n",
    "print(cities)\n",
    "print(type(cities))"
   ]
  },
  {
   "cell_type": "code",
   "execution_count": 94,
   "id": "7e71c8d2-1329-45fc-9e18-b1b91846d832",
   "metadata": {},
   "outputs": [
    {
     "name": "stdout",
     "output_type": "stream",
     "text": [
      "Delhi\n",
      "Jaipur\n",
      "Chennai\n",
      "Pune\n"
     ]
    }
   ],
   "source": [
    "print(cities[0])\n",
    "print(cities[1])\n",
    "print(cities[2])\n",
    "print(cities[3])"
   ]
  },
  {
   "cell_type": "code",
   "execution_count": 97,
   "id": "e5ca0242-fa17-4e1b-a28c-4170246ce6b2",
   "metadata": {},
   "outputs": [
    {
     "name": "stdout",
     "output_type": "stream",
     "text": [
      "Pune\n",
      "Coimbatore\n",
      "Pune\n",
      "Chennai\n"
     ]
    }
   ],
   "source": [
    "print(cities[-1])\n",
    "print(cities[-2])\n",
    "print(cities[-3])\n",
    "print(cities[-4])"
   ]
  },
  {
   "cell_type": "code",
   "execution_count": 95,
   "id": "91c84a3b-b041-43b5-9a41-9f88b03119a0",
   "metadata": {},
   "outputs": [
    {
     "name": "stdout",
     "output_type": "stream",
     "text": [
      "['Jaipur', 'Chennai', 'Pune']\n"
     ]
    }
   ],
   "source": [
    "print(cities[1:4])"
   ]
  },
  {
   "cell_type": "code",
   "execution_count": 96,
   "id": "f5c03c3b-bc0a-423f-8b7c-e1c2b2ef47c5",
   "metadata": {},
   "outputs": [
    {
     "name": "stdout",
     "output_type": "stream",
     "text": [
      "['Arun', 25, True]\n"
     ]
    }
   ],
   "source": [
    "info = [\"Arun\" , 25 , True]\n",
    "print(info)"
   ]
  },
  {
   "cell_type": "code",
   "execution_count": 98,
   "id": "7468565e-d723-4ec8-827b-c7a2fb19c585",
   "metadata": {},
   "outputs": [
    {
     "name": "stdout",
     "output_type": "stream",
     "text": [
      "6\n"
     ]
    }
   ],
   "source": [
    "print(len(cities))"
   ]
  },
  {
   "cell_type": "code",
   "execution_count": 110,
   "id": "754712f7-fb1d-4d04-82c0-b7f88fb0d11b",
   "metadata": {},
   "outputs": [
    {
     "data": {
      "text/plain": [
       "['Delhi', 'Jaipur', 'Chennai', 'Pune', 'Coimbatore', 'Pune']"
      ]
     },
     "execution_count": 110,
     "metadata": {},
     "output_type": "execute_result"
    }
   ],
   "source": [
    "cities"
   ]
  },
  {
   "cell_type": "code",
   "execution_count": 111,
   "id": "08e1357a-a134-4efe-86eb-130a8d4a04df",
   "metadata": {},
   "outputs": [
    {
     "name": "stdout",
     "output_type": "stream",
     "text": [
      "['Delhi', 'Jaipur', 'Chennai', 'Pune', 'Coimbatore', 'Pune', 'Delhi', 'Jaipur', 'Chennai', 'Pune', 'Coimbatore', 'Pune']\n"
     ]
    }
   ],
   "source": [
    "print(cities * 2)"
   ]
  },
  {
   "cell_type": "code",
   "execution_count": 104,
   "id": "aea99a76-9802-4197-9b22-5c60e8ed138b",
   "metadata": {},
   "outputs": [
    {
     "name": "stdout",
     "output_type": "stream",
     "text": [
      "True\n",
      "False\n"
     ]
    }
   ],
   "source": [
    "print('Pune' in cities)\n",
    "print('Nagpur' in cities)"
   ]
  },
  {
   "cell_type": "code",
   "execution_count": 112,
   "id": "e1e3adbd-7af0-4e05-991b-32b02f1a047d",
   "metadata": {},
   "outputs": [
    {
     "name": "stdout",
     "output_type": "stream",
     "text": [
      "Jaipur\n"
     ]
    }
   ],
   "source": [
    "print(cities[1])"
   ]
  },
  {
   "cell_type": "code",
   "execution_count": 100,
   "id": "5f67f6d6-c2e2-4e04-9ea9-e69ece2ff81b",
   "metadata": {},
   "outputs": [
    {
     "name": "stdout",
     "output_type": "stream",
     "text": [
      "['Delhi', 'Indore', 'Chennai', 'Pune', 'Coimbatore', 'Pune']\n"
     ]
    }
   ],
   "source": [
    "cities[1] = 'Indore'\n",
    "print(cities)"
   ]
  },
  {
   "cell_type": "code",
   "execution_count": 113,
   "id": "040681ed-267e-4246-be6e-7779e23c6a52",
   "metadata": {},
   "outputs": [
    {
     "name": "stdout",
     "output_type": "stream",
     "text": [
      "Ajay\n"
     ]
    }
   ],
   "source": [
    "name = \"Ajay\"\n",
    "print(name)"
   ]
  },
  {
   "cell_type": "code",
   "execution_count": 115,
   "id": "329fdd9f-61c7-4117-be00-630c35395ae9",
   "metadata": {},
   "outputs": [
    {
     "ename": "TypeError",
     "evalue": "'str' object does not support item assignment",
     "output_type": "error",
     "traceback": [
      "\u001b[31m---------------------------------------------------------------------------\u001b[39m",
      "\u001b[31mTypeError\u001b[39m                                 Traceback (most recent call last)",
      "\u001b[36mCell\u001b[39m\u001b[36m \u001b[39m\u001b[32mIn[115]\u001b[39m\u001b[32m, line 1\u001b[39m\n\u001b[32m----> \u001b[39m\u001b[32m1\u001b[39m \u001b[43mname\u001b[49m\u001b[43m[\u001b[49m\u001b[32;43m0\u001b[39;49m\u001b[43m]\u001b[49m = \u001b[33m\"\u001b[39m\u001b[33mB\u001b[39m\u001b[33m\"\u001b[39m\n",
      "\u001b[31mTypeError\u001b[39m: 'str' object does not support item assignment"
     ]
    }
   ],
   "source": [
    "name[0] = \"B\""
   ]
  },
  {
   "cell_type": "code",
   "execution_count": 116,
   "id": "2574d57c-9dac-401b-8ac9-b6e997e5c3e8",
   "metadata": {},
   "outputs": [
    {
     "data": {
      "text/plain": [
       "['A', 'j', 'a', 'y']"
      ]
     },
     "execution_count": 116,
     "metadata": {},
     "output_type": "execute_result"
    }
   ],
   "source": [
    "list(name)"
   ]
  },
  {
   "cell_type": "code",
   "execution_count": 108,
   "id": "d9833da6-377e-4bcd-8f25-301119b7029f",
   "metadata": {},
   "outputs": [
    {
     "name": "stdout",
     "output_type": "stream",
     "text": [
      "Kjay\n"
     ]
    }
   ],
   "source": [
    "name_list = list(name)      #converted string into a list using typecasting\n",
    "\n",
    "name_list[0] = 'K'\n",
    "\n",
    "new_name = ''.join(name_list)\n",
    "print(new_name)"
   ]
  },
  {
   "cell_type": "markdown",
   "id": "5eed066b-9aaa-44ab-a512-8c524cdac262",
   "metadata": {},
   "source": [
    "**Some list methods**"
   ]
  },
  {
   "cell_type": "code",
   "execution_count": 119,
   "id": "96b19185-72fd-4bcd-8974-c907bd38688d",
   "metadata": {},
   "outputs": [
    {
     "name": "stdout",
     "output_type": "stream",
     "text": [
      "['Delhi', 'Jaipur', 'Chennai', 'Pune', 'Coimbatore', 'Pune']\n",
      "['Delhi', 'Jaipur', 'Chennai', 'Pune', 'Coimbatore', 'Pune', 'Mumbai']\n"
     ]
    }
   ],
   "source": [
    "#append()- to add a new item into the list\n",
    "\n",
    "print(cities)\n",
    "cities.append(\"Mumbai\")\n",
    "print(cities)"
   ]
  },
  {
   "cell_type": "code",
   "execution_count": 120,
   "id": "cea2f882-f53d-4ce6-aa29-25bf0bcef0a6",
   "metadata": {},
   "outputs": [
    {
     "name": "stdout",
     "output_type": "stream",
     "text": [
      "['Delhi', 'Jaipur', 'Chennai', 'Pune', 'Coimbatore', 'Pune', 'Mumbai']\n",
      "['Delhi', 'Jaipur', 'Chennai', 'Banglore', 'Pune', 'Coimbatore', 'Pune', 'Mumbai']\n"
     ]
    }
   ],
   "source": [
    "#insert() - inserting a new item using the index value\n",
    "\n",
    "print(cities)\n",
    "cities.insert(3,\"Banglore\")\n",
    "print(cities)"
   ]
  },
  {
   "cell_type": "code",
   "execution_count": 122,
   "id": "cf337af9-7756-489f-b191-524b9d39efeb",
   "metadata": {},
   "outputs": [
    {
     "name": "stdout",
     "output_type": "stream",
     "text": [
      "['Delhi', 'Jaipur', 'Chennai', 'Banglore', 'Pune', 'Coimbatore', 'Pune', 'Mumbai']\n",
      "['Delhi', 'Chennai', 'Banglore', 'Pune', 'Coimbatore', 'Pune', 'Mumbai']\n"
     ]
    }
   ],
   "source": [
    "#remove() - to remove an item from a given list (first occurance)\n",
    "\n",
    "print(cities)\n",
    "cities.remove('Jaipur')\n",
    "print(cities)"
   ]
  },
  {
   "cell_type": "code",
   "execution_count": 124,
   "id": "05628fb4-85b6-408f-bea4-703f4f93c872",
   "metadata": {},
   "outputs": [
    {
     "name": "stdout",
     "output_type": "stream",
     "text": [
      "['Delhi', 'Chennai', 'Banglore', 'Pune', 'Coimbatore', 'Pune', 'Mumbai']\n",
      "['Delhi', 'Chennai', 'Pune', 'Coimbatore', 'Pune', 'Mumbai']\n"
     ]
    }
   ],
   "source": [
    "#pop() - to remove an item using index value\n",
    "\n",
    "print(cities)\n",
    "cities.pop(2)\n",
    "print(cities)"
   ]
  },
  {
   "cell_type": "code",
   "execution_count": 125,
   "id": "02286dbe-80be-473c-9d0a-f0eac637c580",
   "metadata": {},
   "outputs": [],
   "source": [
    "cities.remove('Pune')"
   ]
  },
  {
   "cell_type": "code",
   "execution_count": 126,
   "id": "66d7c042-ffbf-4615-abe2-a5a0c323a215",
   "metadata": {},
   "outputs": [
    {
     "name": "stdout",
     "output_type": "stream",
     "text": [
      "['Delhi', 'Chennai', 'Coimbatore', 'Pune', 'Mumbai']\n"
     ]
    }
   ],
   "source": [
    "print(cities)"
   ]
  },
  {
   "cell_type": "code",
   "execution_count": 127,
   "id": "0d0f050a-6ac1-4783-b82f-628292b2267e",
   "metadata": {},
   "outputs": [
    {
     "name": "stdout",
     "output_type": "stream",
     "text": [
      "[]\n"
     ]
    }
   ],
   "source": [
    "#clear() - to clear all existing value in a list and create a blank list\n",
    "cities.clear()\n",
    "print(cities)"
   ]
  },
  {
   "cell_type": "code",
   "execution_count": 128,
   "id": "1d1f459b-1c40-46f3-a2f0-17de2144b471",
   "metadata": {},
   "outputs": [
    {
     "name": "stdout",
     "output_type": "stream",
     "text": [
      "['Delhi', 'Jaipur', 'Chennai', 'Pune', 'Coimbatore', 'Pune']\n"
     ]
    }
   ],
   "source": [
    "cities = [\"Delhi\" , \"Jaipur\" , \"Chennai\" , \"Pune\" , \"Coimbatore\" , \"Pune\"]\n",
    "print(cities)"
   ]
  },
  {
   "cell_type": "code",
   "execution_count": 130,
   "id": "186bcd68-0bb0-418f-a124-e1c53b473289",
   "metadata": {},
   "outputs": [
    {
     "name": "stdout",
     "output_type": "stream",
     "text": [
      "2\n"
     ]
    }
   ],
   "source": [
    "#index() - to return the index of any single item in a list\n",
    "print(cities.index('Chennai'))"
   ]
  },
  {
   "cell_type": "code",
   "execution_count": 131,
   "id": "a498ae5c-6c58-4620-b91a-39fd6e1f8914",
   "metadata": {},
   "outputs": [
    {
     "name": "stdout",
     "output_type": "stream",
     "text": [
      "2\n"
     ]
    }
   ],
   "source": [
    "#count() - to count() number of times an item appeared in a list\n",
    "print(cities.count('Pune'))"
   ]
  },
  {
   "cell_type": "code",
   "execution_count": 132,
   "id": "02bfeec8-4629-433d-9b40-fcfbe7306a7c",
   "metadata": {},
   "outputs": [
    {
     "name": "stdout",
     "output_type": "stream",
     "text": [
      "['Chennai', 'Coimbatore', 'Delhi', 'Jaipur', 'Pune', 'Pune']\n"
     ]
    }
   ],
   "source": [
    "#sort() numerically ascending order or alphabetically if it is non-numerical data\n",
    "cities.sort()\n",
    "print(cities)"
   ]
  },
  {
   "cell_type": "code",
   "execution_count": 133,
   "id": "fb9e35f2-8b74-4e01-ae99-87c367345523",
   "metadata": {},
   "outputs": [
    {
     "name": "stdout",
     "output_type": "stream",
     "text": [
      "['Pune', 'Pune', 'Jaipur', 'Delhi', 'Coimbatore', 'Chennai']\n"
     ]
    }
   ],
   "source": [
    "#to reverse your given list\n",
    "cities.reverse()\n",
    "print(cities)"
   ]
  },
  {
   "cell_type": "markdown",
   "id": "d52fcaff-a083-4f90-b4b7-fed9452ebb13",
   "metadata": {},
   "source": [
    "**Sequential data type**\n",
    "\n",
    "    * Tuple \n",
    "        - It is Im-muttable\n",
    "        - It is ordered\n",
    "        - allows duplicates\n",
    "        - can contain different data types - Hetrogeneous "
   ]
  },
  {
   "cell_type": "code",
   "execution_count": 141,
   "id": "a2225447-1e38-4ab5-b60d-7edd5517578a",
   "metadata": {},
   "outputs": [
    {
     "name": "stdout",
     "output_type": "stream",
     "text": [
      "(2, 4, 6, 3, 9, 1, 3, 6, 3)\n",
      "<class 'tuple'>\n"
     ]
    }
   ],
   "source": [
    "numbers = (2,4,6,3,9,1,3,6,3)\n",
    "\n",
    "print(numbers)\n",
    "print(type(numbers))"
   ]
  },
  {
   "cell_type": "code",
   "execution_count": 142,
   "id": "33c7083d-1bde-4fe6-935d-f314c51b061a",
   "metadata": {},
   "outputs": [
    {
     "ename": "TypeError",
     "evalue": "'tuple' object does not support item assignment",
     "output_type": "error",
     "traceback": [
      "\u001b[31m---------------------------------------------------------------------------\u001b[39m",
      "\u001b[31mTypeError\u001b[39m                                 Traceback (most recent call last)",
      "\u001b[36mCell\u001b[39m\u001b[36m \u001b[39m\u001b[32mIn[142]\u001b[39m\u001b[32m, line 1\u001b[39m\n\u001b[32m----> \u001b[39m\u001b[32m1\u001b[39m \u001b[43mnumbers\u001b[49m\u001b[43m[\u001b[49m\u001b[32;43m2\u001b[39;49m\u001b[43m]\u001b[49m = \u001b[32m9\u001b[39m\n",
      "\u001b[31mTypeError\u001b[39m: 'tuple' object does not support item assignment"
     ]
    }
   ],
   "source": [
    "numbers[2] = 9"
   ]
  },
  {
   "cell_type": "code",
   "execution_count": 143,
   "id": "079f82bc-e44c-4767-b6f4-f28d065ead0d",
   "metadata": {},
   "outputs": [
    {
     "name": "stdout",
     "output_type": "stream",
     "text": [
      "(6, 3, 9)\n"
     ]
    }
   ],
   "source": [
    "print(numbers[2:5])"
   ]
  },
  {
   "cell_type": "code",
   "execution_count": 144,
   "id": "4c8a6730-11c0-4ad1-b027-9609dca0dc69",
   "metadata": {},
   "outputs": [
    {
     "name": "stdout",
     "output_type": "stream",
     "text": [
      "9\n"
     ]
    }
   ],
   "source": [
    "print(len(numbers))"
   ]
  },
  {
   "cell_type": "code",
   "execution_count": 145,
   "id": "61907510-6720-470c-9c8d-52f515b6fc50",
   "metadata": {},
   "outputs": [
    {
     "ename": "AttributeError",
     "evalue": "'tuple' object has no attribute 'sort'",
     "output_type": "error",
     "traceback": [
      "\u001b[31m---------------------------------------------------------------------------\u001b[39m",
      "\u001b[31mAttributeError\u001b[39m                            Traceback (most recent call last)",
      "\u001b[36mCell\u001b[39m\u001b[36m \u001b[39m\u001b[32mIn[145]\u001b[39m\u001b[32m, line 1\u001b[39m\n\u001b[32m----> \u001b[39m\u001b[32m1\u001b[39m \u001b[43mnumbers\u001b[49m\u001b[43m.\u001b[49m\u001b[43msort\u001b[49m()\n",
      "\u001b[31mAttributeError\u001b[39m: 'tuple' object has no attribute 'sort'"
     ]
    }
   ],
   "source": [
    "numbers.sort()"
   ]
  },
  {
   "cell_type": "code",
   "execution_count": 146,
   "id": "9914bec4-6727-4a58-a2ae-6962b1a109f7",
   "metadata": {},
   "outputs": [
    {
     "name": "stdout",
     "output_type": "stream",
     "text": [
      "(2, 4, 6, 3, 9, 1, 3, 6, 3)\n"
     ]
    }
   ],
   "source": [
    "print(numbers)"
   ]
  },
  {
   "cell_type": "code",
   "execution_count": 147,
   "id": "3b18a704-fcd5-4eae-a325-0275d0ff8f8a",
   "metadata": {},
   "outputs": [
    {
     "name": "stdout",
     "output_type": "stream",
     "text": [
      "2\n"
     ]
    }
   ],
   "source": [
    "print(numbers.index(6))"
   ]
  },
  {
   "cell_type": "code",
   "execution_count": 148,
   "id": "74aa9fbc-6bee-43e5-ad97-3b4105e00c8d",
   "metadata": {},
   "outputs": [
    {
     "name": "stdout",
     "output_type": "stream",
     "text": [
      "3\n"
     ]
    }
   ],
   "source": [
    "print(numbers.count(3))"
   ]
  },
  {
   "cell_type": "code",
   "execution_count": 149,
   "id": "b5d0dd32-4e97-4562-b0b3-9380ddd1074d",
   "metadata": {},
   "outputs": [
    {
     "name": "stdout",
     "output_type": "stream",
     "text": [
      "9\n"
     ]
    }
   ],
   "source": [
    "print(len(numbers))"
   ]
  },
  {
   "cell_type": "code",
   "execution_count": null,
   "id": "e0eaa1ed-a623-4d4c-ae2f-4ced734ce81b",
   "metadata": {},
   "outputs": [],
   "source": []
  }
 ],
 "metadata": {
  "kernelspec": {
   "display_name": "Python 3 (ipykernel)",
   "language": "python",
   "name": "python3"
  },
  "language_info": {
   "codemirror_mode": {
    "name": "ipython",
    "version": 3
   },
   "file_extension": ".py",
   "mimetype": "text/x-python",
   "name": "python",
   "nbconvert_exporter": "python",
   "pygments_lexer": "ipython3",
   "version": "3.11.9"
  }
 },
 "nbformat": 4,
 "nbformat_minor": 5
}
