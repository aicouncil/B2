{
 "cells": [
  {
   "cell_type": "code",
   "execution_count": 1,
   "id": "efebad85-4a5e-4544-8d32-43774ffafd5f",
   "metadata": {},
   "outputs": [
    {
     "name": "stdout",
     "output_type": "stream",
     "text": [
      "Hello World\n"
     ]
    }
   ],
   "source": [
    "print(\"Hello World\")"
   ]
  },
  {
   "cell_type": "code",
   "execution_count": 3,
   "id": "8f0e9f8b-8062-4bc0-a79f-d3c452f05af3",
   "metadata": {},
   "outputs": [
    {
     "name": "stdout",
     "output_type": "stream",
     "text": [
      "18\n"
     ]
    }
   ],
   "source": [
    "a = 9\n",
    "b = 2\n",
    "result = a*b\n",
    "print(result)"
   ]
  },
  {
   "cell_type": "markdown",
   "id": "0f827723-a28f-4ad5-a133-003a67e3350e",
   "metadata": {},
   "source": [
    "**Basics of Python**\n",
    "\n",
    "    * Variables & values\n",
    "    * Data Types & Data structures\n",
    "    * Operators\n",
    "    * Conditional program\n",
    "    * Loops\n",
    "    * Functions\n",
    "    * Exception Handling"
   ]
  },
  {
   "cell_type": "code",
   "execution_count": 4,
   "id": "9ca66dc7-5994-4f75-805b-02a069a6e2b0",
   "metadata": {},
   "outputs": [],
   "source": [
    "name = \"Bipul\"\n",
    "age = 32\n",
    "city = \"Delhi\""
   ]
  },
  {
   "cell_type": "code",
   "execution_count": 5,
   "id": "7ab7251d-e1ed-40f2-81c2-3556d3882177",
   "metadata": {},
   "outputs": [
    {
     "name": "stdout",
     "output_type": "stream",
     "text": [
      "Bipul 32 Delhi\n"
     ]
    }
   ],
   "source": [
    "print(name , age , city)"
   ]
  },
  {
   "cell_type": "code",
   "execution_count": 8,
   "id": "d0c55fbd-3f9b-4f0a-881b-402027a1edb5",
   "metadata": {},
   "outputs": [
    {
     "name": "stdout",
     "output_type": "stream",
     "text": [
      "9 6 3\n"
     ]
    }
   ],
   "source": [
    "a , b , c = 9 , 6 , 3\n",
    "print(a , b , c)"
   ]
  },
  {
   "cell_type": "code",
   "execution_count": 10,
   "id": "4fd3fcf1-a84a-440b-a171-7c8a313b605b",
   "metadata": {},
   "outputs": [
    {
     "name": "stdout",
     "output_type": "stream",
     "text": [
      "1234\n",
      "1234\n",
      "1234\n"
     ]
    }
   ],
   "source": [
    "x = y = z = 1234\n",
    "print(x)\n",
    "print(y)\n",
    "print(z)"
   ]
  },
  {
   "cell_type": "code",
   "execution_count": 12,
   "id": "1df80dc4-1769-41c3-8655-e2d7b5ec0f7d",
   "metadata": {},
   "outputs": [
    {
     "name": "stdout",
     "output_type": "stream",
     "text": [
      "Bipul\n",
      "<class 'str'>\n"
     ]
    }
   ],
   "source": [
    "print(name)\n",
    "print(type(name))"
   ]
  },
  {
   "cell_type": "code",
   "execution_count": 14,
   "id": "5fa5e8be-c7a2-4fac-b87a-333b9fd53411",
   "metadata": {},
   "outputs": [
    {
     "name": "stdout",
     "output_type": "stream",
     "text": [
      "32\n",
      "<class 'int'>\n"
     ]
    }
   ],
   "source": [
    "print(age)\n",
    "print(type(age))"
   ]
  },
  {
   "cell_type": "code",
   "execution_count": 15,
   "id": "461ae087-a657-4bf0-80d1-56d847938e4e",
   "metadata": {},
   "outputs": [
    {
     "name": "stdout",
     "output_type": "stream",
     "text": [
      "3065.34\n",
      "<class 'float'>\n"
     ]
    }
   ],
   "source": [
    "salary = 3065.34\n",
    "print(salary)\n",
    "print(type(salary))"
   ]
  },
  {
   "cell_type": "code",
   "execution_count": 16,
   "id": "7d445863-c718-4f6e-8bcc-7c1558bfd6bf",
   "metadata": {},
   "outputs": [
    {
     "name": "stdout",
     "output_type": "stream",
     "text": [
      "(3+5j)\n",
      "<class 'complex'>\n"
     ]
    }
   ],
   "source": [
    "complex_number = 3 + 5j\n",
    "print(complex_number)\n",
    "print(type(complex_number))"
   ]
  },
  {
   "cell_type": "markdown",
   "id": "1496fa64-b415-46a3-9069-e8817188ab60",
   "metadata": {},
   "source": [
    "**Sequence**\n",
    "\n",
    "     * string"
   ]
  },
  {
   "cell_type": "code",
   "execution_count": 17,
   "id": "a78a3769-e085-4aef-bd5a-7d95522a6c8d",
   "metadata": {},
   "outputs": [
    {
     "name": "stdout",
     "output_type": "stream",
     "text": [
      "Vinay Pratap Singh\n"
     ]
    }
   ],
   "source": [
    "name = \"Vinay Pratap Singh\"\n",
    "print(name)"
   ]
  },
  {
   "cell_type": "code",
   "execution_count": 21,
   "id": "65646f98-a036-4fd9-931a-d49bcc95fa35",
   "metadata": {},
   "outputs": [
    {
     "name": "stdout",
     "output_type": "stream",
     "text": [
      "V\n",
      "i\n",
      "n\n"
     ]
    }
   ],
   "source": [
    "print(name[0])\n",
    "print(name[1])\n",
    "print(name[2])"
   ]
  },
  {
   "cell_type": "code",
   "execution_count": null,
   "id": "fe7e254b-a484-48d3-99b2-9580d8d21020",
   "metadata": {},
   "outputs": [],
   "source": []
  }
 ],
 "metadata": {
  "kernelspec": {
   "display_name": "Python 3 (ipykernel)",
   "language": "python",
   "name": "python3"
  },
  "language_info": {
   "codemirror_mode": {
    "name": "ipython",
    "version": 3
   },
   "file_extension": ".py",
   "mimetype": "text/x-python",
   "name": "python",
   "nbconvert_exporter": "python",
   "pygments_lexer": "ipython3",
   "version": "3.11.9"
  }
 },
 "nbformat": 4,
 "nbformat_minor": 5
}
